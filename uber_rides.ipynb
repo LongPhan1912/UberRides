{
 "cells": [
  {
   "cell_type": "code",
   "execution_count": 2,
   "metadata": {},
   "outputs": [
    {
     "data": {
      "text/html": [
       "<div>\n",
       "<style scoped>\n",
       "    .dataframe tbody tr th:only-of-type {\n",
       "        vertical-align: middle;\n",
       "    }\n",
       "\n",
       "    .dataframe tbody tr th {\n",
       "        vertical-align: top;\n",
       "    }\n",
       "\n",
       "    .dataframe thead th {\n",
       "        text-align: right;\n",
       "    }\n",
       "</style>\n",
       "<table border=\"1\" class=\"dataframe\">\n",
       "  <thead>\n",
       "    <tr style=\"text-align: right;\">\n",
       "      <th></th>\n",
       "      <th>START_DATE</th>\n",
       "      <th>END_DATE</th>\n",
       "      <th>CATEGORY</th>\n",
       "      <th>START</th>\n",
       "      <th>STOP</th>\n",
       "      <th>MILES</th>\n",
       "      <th>PURPOSE</th>\n",
       "    </tr>\n",
       "  </thead>\n",
       "  <tbody>\n",
       "    <tr>\n",
       "      <th>0</th>\n",
       "      <td>01-01-2016 21:11</td>\n",
       "      <td>01-01-2016 21:17</td>\n",
       "      <td>Business</td>\n",
       "      <td>Fort Pierce</td>\n",
       "      <td>Fort Pierce</td>\n",
       "      <td>5.1</td>\n",
       "      <td>Meal/Entertain</td>\n",
       "    </tr>\n",
       "    <tr>\n",
       "      <th>1</th>\n",
       "      <td>01-02-2016 01:25</td>\n",
       "      <td>01-02-2016 01:37</td>\n",
       "      <td>Business</td>\n",
       "      <td>Fort Pierce</td>\n",
       "      <td>Fort Pierce</td>\n",
       "      <td>5.0</td>\n",
       "      <td>NaN</td>\n",
       "    </tr>\n",
       "    <tr>\n",
       "      <th>2</th>\n",
       "      <td>01-02-2016 20:25</td>\n",
       "      <td>01-02-2016 20:38</td>\n",
       "      <td>Business</td>\n",
       "      <td>Fort Pierce</td>\n",
       "      <td>Fort Pierce</td>\n",
       "      <td>4.8</td>\n",
       "      <td>Errand/Supplies</td>\n",
       "    </tr>\n",
       "    <tr>\n",
       "      <th>3</th>\n",
       "      <td>01-05-2016 17:31</td>\n",
       "      <td>01-05-2016 17:45</td>\n",
       "      <td>Business</td>\n",
       "      <td>Fort Pierce</td>\n",
       "      <td>Fort Pierce</td>\n",
       "      <td>4.7</td>\n",
       "      <td>Meeting</td>\n",
       "    </tr>\n",
       "    <tr>\n",
       "      <th>4</th>\n",
       "      <td>01-06-2016 14:42</td>\n",
       "      <td>01-06-2016 15:49</td>\n",
       "      <td>Business</td>\n",
       "      <td>Fort Pierce</td>\n",
       "      <td>West Palm Beach</td>\n",
       "      <td>63.7</td>\n",
       "      <td>Customer Visit</td>\n",
       "    </tr>\n",
       "  </tbody>\n",
       "</table>\n",
       "</div>"
      ],
      "text/plain": [
       "         START_DATE          END_DATE  CATEGORY        START             STOP  \\\n",
       "0  01-01-2016 21:11  01-01-2016 21:17  Business  Fort Pierce      Fort Pierce   \n",
       "1  01-02-2016 01:25  01-02-2016 01:37  Business  Fort Pierce      Fort Pierce   \n",
       "2  01-02-2016 20:25  01-02-2016 20:38  Business  Fort Pierce      Fort Pierce   \n",
       "3  01-05-2016 17:31  01-05-2016 17:45  Business  Fort Pierce      Fort Pierce   \n",
       "4  01-06-2016 14:42  01-06-2016 15:49  Business  Fort Pierce  West Palm Beach   \n",
       "\n",
       "   MILES          PURPOSE  \n",
       "0    5.1   Meal/Entertain  \n",
       "1    5.0              NaN  \n",
       "2    4.8  Errand/Supplies  \n",
       "3    4.7          Meeting  \n",
       "4   63.7   Customer Visit  "
      ]
     },
     "execution_count": 2,
     "metadata": {},
     "output_type": "execute_result"
    }
   ],
   "source": [
    "import numpy as np\n",
    "import matplotlib.pyplot as plt\n",
    "import seaborn as sns\n",
    "import pandas as pd\n",
    "from datetime import datetime, time\n",
    "\n",
    "# Load the data\n",
    "data = pd.read_csv('UberDataset.csv')\n",
    "data.head()"
   ]
  },
  {
   "cell_type": "code",
   "execution_count": 3,
   "metadata": {},
   "outputs": [
    {
     "data": {
      "text/plain": [
       "(1156, 7)"
      ]
     },
     "execution_count": 3,
     "metadata": {},
     "output_type": "execute_result"
    }
   ],
   "source": [
    "data.shape"
   ]
  },
  {
   "cell_type": "code",
   "execution_count": 4,
   "metadata": {},
   "outputs": [
    {
     "name": "stdout",
     "output_type": "stream",
     "text": [
      "<class 'pandas.core.frame.DataFrame'>\n",
      "RangeIndex: 1156 entries, 0 to 1155\n",
      "Data columns (total 7 columns):\n",
      " #   Column      Non-Null Count  Dtype  \n",
      "---  ------      --------------  -----  \n",
      " 0   START_DATE  1156 non-null   object \n",
      " 1   END_DATE    1155 non-null   object \n",
      " 2   CATEGORY    1155 non-null   object \n",
      " 3   START       1155 non-null   object \n",
      " 4   STOP        1155 non-null   object \n",
      " 5   MILES       1156 non-null   float64\n",
      " 6   PURPOSE     653 non-null    object \n",
      "dtypes: float64(1), object(6)\n",
      "memory usage: 63.3+ KB\n"
     ]
    }
   ],
   "source": [
    "data.info()"
   ]
  },
  {
   "cell_type": "code",
   "execution_count": 5,
   "metadata": {},
   "outputs": [
    {
     "data": {
      "text/plain": [
       "503"
      ]
     },
     "execution_count": 5,
     "metadata": {},
     "output_type": "execute_result"
    }
   ],
   "source": [
    "data['PURPOSE'].isna().sum()"
   ]
  },
  {
   "cell_type": "code",
   "execution_count": 6,
   "metadata": {},
   "outputs": [],
   "source": [
    "# Fill the missing values with 'Not Available'\n",
    "data['PURPOSE'].fillna('Not Available', inplace=True)"
   ]
  },
  {
   "cell_type": "code",
   "execution_count": 7,
   "metadata": {},
   "outputs": [
    {
     "name": "stdout",
     "output_type": "stream",
     "text": [
      "<class 'pandas.core.frame.DataFrame'>\n",
      "RangeIndex: 1156 entries, 0 to 1155\n",
      "Data columns (total 7 columns):\n",
      " #   Column      Non-Null Count  Dtype  \n",
      "---  ------      --------------  -----  \n",
      " 0   START_DATE  1156 non-null   object \n",
      " 1   END_DATE    1155 non-null   object \n",
      " 2   CATEGORY    1155 non-null   object \n",
      " 3   START       1155 non-null   object \n",
      " 4   STOP        1155 non-null   object \n",
      " 5   MILES       1156 non-null   float64\n",
      " 6   PURPOSE     1156 non-null   object \n",
      "dtypes: float64(1), object(6)\n",
      "memory usage: 63.3+ KB\n"
     ]
    }
   ],
   "source": [
    "# Check the purpose column again to see if the missing values are filled\n",
    "data.info()"
   ]
  },
  {
   "cell_type": "code",
   "execution_count": 8,
   "metadata": {},
   "outputs": [
    {
     "data": {
      "text/html": [
       "<div>\n",
       "<style scoped>\n",
       "    .dataframe tbody tr th:only-of-type {\n",
       "        vertical-align: middle;\n",
       "    }\n",
       "\n",
       "    .dataframe tbody tr th {\n",
       "        vertical-align: top;\n",
       "    }\n",
       "\n",
       "    .dataframe thead th {\n",
       "        text-align: right;\n",
       "    }\n",
       "</style>\n",
       "<table border=\"1\" class=\"dataframe\">\n",
       "  <thead>\n",
       "    <tr style=\"text-align: right;\">\n",
       "      <th></th>\n",
       "      <th>START_DATE</th>\n",
       "      <th>END_DATE</th>\n",
       "      <th>CATEGORY</th>\n",
       "      <th>START</th>\n",
       "      <th>STOP</th>\n",
       "      <th>MILES</th>\n",
       "      <th>PURPOSE</th>\n",
       "    </tr>\n",
       "  </thead>\n",
       "  <tbody>\n",
       "    <tr>\n",
       "      <th>1155</th>\n",
       "      <td>Totals</td>\n",
       "      <td>NaN</td>\n",
       "      <td>NaN</td>\n",
       "      <td>NaN</td>\n",
       "      <td>NaN</td>\n",
       "      <td>12204.7</td>\n",
       "      <td>Not Available</td>\n",
       "    </tr>\n",
       "  </tbody>\n",
       "</table>\n",
       "</div>"
      ],
      "text/plain": [
       "     START_DATE END_DATE CATEGORY START STOP    MILES        PURPOSE\n",
       "1155     Totals      NaN      NaN   NaN  NaN  12204.7  Not Available"
      ]
     },
     "execution_count": 8,
     "metadata": {},
     "output_type": "execute_result"
    }
   ],
   "source": [
    "# view the row with missing values\n",
    "data[data['END_DATE'].isna()]"
   ]
  },
  {
   "cell_type": "code",
   "execution_count": 9,
   "metadata": {},
   "outputs": [],
   "source": [
    "# drop all the rows with missing values\n",
    "data.dropna(inplace=True)"
   ]
  },
  {
   "cell_type": "code",
   "execution_count": 10,
   "metadata": {},
   "outputs": [
    {
     "data": {
      "text/plain": [
       "START_DATE    0\n",
       "END_DATE      0\n",
       "CATEGORY      0\n",
       "START         0\n",
       "STOP          0\n",
       "MILES         0\n",
       "PURPOSE       0\n",
       "dtype: int64"
      ]
     },
     "execution_count": 10,
     "metadata": {},
     "output_type": "execute_result"
    }
   ],
   "source": [
    "data[data.isna()].count()"
   ]
  },
  {
   "cell_type": "code",
   "execution_count": 11,
   "metadata": {},
   "outputs": [],
   "source": [
    "data.drop_duplicates(inplace=True)"
   ]
  },
  {
   "cell_type": "code",
   "execution_count": 12,
   "metadata": {},
   "outputs": [
    {
     "data": {
      "text/plain": [
       "(1154, 7)"
      ]
     },
     "execution_count": 12,
     "metadata": {},
     "output_type": "execute_result"
    }
   ],
   "source": [
    "# We can see one row is removed\n",
    "data.shape"
   ]
  },
  {
   "cell_type": "code",
   "execution_count": 13,
   "metadata": {},
   "outputs": [],
   "source": [
    "data['START_DATE'] = pd.to_datetime(data['START_DATE'])\n",
    "data['END_DATE'] = pd.to_datetime(data['END_DATE'])"
   ]
  },
  {
   "cell_type": "code",
   "execution_count": 14,
   "metadata": {},
   "outputs": [
    {
     "data": {
      "text/html": [
       "<div>\n",
       "<style scoped>\n",
       "    .dataframe tbody tr th:only-of-type {\n",
       "        vertical-align: middle;\n",
       "    }\n",
       "\n",
       "    .dataframe tbody tr th {\n",
       "        vertical-align: top;\n",
       "    }\n",
       "\n",
       "    .dataframe thead th {\n",
       "        text-align: right;\n",
       "    }\n",
       "</style>\n",
       "<table border=\"1\" class=\"dataframe\">\n",
       "  <thead>\n",
       "    <tr style=\"text-align: right;\">\n",
       "      <th></th>\n",
       "      <th>START_DATE</th>\n",
       "      <th>TIME_OF_DAY</th>\n",
       "      <th>END_DATE</th>\n",
       "      <th>CATEGORY</th>\n",
       "      <th>START</th>\n",
       "      <th>STOP</th>\n",
       "      <th>MILES</th>\n",
       "      <th>PURPOSE</th>\n",
       "    </tr>\n",
       "  </thead>\n",
       "  <tbody>\n",
       "    <tr>\n",
       "      <th>0</th>\n",
       "      <td>2016-01-01 21:11:00</td>\n",
       "      <td>Night</td>\n",
       "      <td>2016-01-01 21:17:00</td>\n",
       "      <td>Business</td>\n",
       "      <td>Fort Pierce</td>\n",
       "      <td>Fort Pierce</td>\n",
       "      <td>5.1</td>\n",
       "      <td>Meal/Entertain</td>\n",
       "    </tr>\n",
       "    <tr>\n",
       "      <th>1</th>\n",
       "      <td>2016-01-02 01:25:00</td>\n",
       "      <td>Late Night</td>\n",
       "      <td>2016-01-02 01:37:00</td>\n",
       "      <td>Business</td>\n",
       "      <td>Fort Pierce</td>\n",
       "      <td>Fort Pierce</td>\n",
       "      <td>5.0</td>\n",
       "      <td>Not Available</td>\n",
       "    </tr>\n",
       "    <tr>\n",
       "      <th>2</th>\n",
       "      <td>2016-01-02 20:25:00</td>\n",
       "      <td>Evening</td>\n",
       "      <td>2016-01-02 20:38:00</td>\n",
       "      <td>Business</td>\n",
       "      <td>Fort Pierce</td>\n",
       "      <td>Fort Pierce</td>\n",
       "      <td>4.8</td>\n",
       "      <td>Errand/Supplies</td>\n",
       "    </tr>\n",
       "    <tr>\n",
       "      <th>3</th>\n",
       "      <td>2016-01-05 17:31:00</td>\n",
       "      <td>Afternoon</td>\n",
       "      <td>2016-01-05 17:45:00</td>\n",
       "      <td>Business</td>\n",
       "      <td>Fort Pierce</td>\n",
       "      <td>Fort Pierce</td>\n",
       "      <td>4.7</td>\n",
       "      <td>Meeting</td>\n",
       "    </tr>\n",
       "    <tr>\n",
       "      <th>4</th>\n",
       "      <td>2016-01-06 14:42:00</td>\n",
       "      <td>Afternoon</td>\n",
       "      <td>2016-01-06 15:49:00</td>\n",
       "      <td>Business</td>\n",
       "      <td>Fort Pierce</td>\n",
       "      <td>West Palm Beach</td>\n",
       "      <td>63.7</td>\n",
       "      <td>Customer Visit</td>\n",
       "    </tr>\n",
       "    <tr>\n",
       "      <th>...</th>\n",
       "      <td>...</td>\n",
       "      <td>...</td>\n",
       "      <td>...</td>\n",
       "      <td>...</td>\n",
       "      <td>...</td>\n",
       "      <td>...</td>\n",
       "      <td>...</td>\n",
       "      <td>...</td>\n",
       "    </tr>\n",
       "    <tr>\n",
       "      <th>1150</th>\n",
       "      <td>2016-12-31 01:07:00</td>\n",
       "      <td>Late Night</td>\n",
       "      <td>2016-12-31 01:14:00</td>\n",
       "      <td>Business</td>\n",
       "      <td>Kar?chi</td>\n",
       "      <td>Kar?chi</td>\n",
       "      <td>0.7</td>\n",
       "      <td>Meeting</td>\n",
       "    </tr>\n",
       "    <tr>\n",
       "      <th>1151</th>\n",
       "      <td>2016-12-31 13:24:00</td>\n",
       "      <td>Afternoon</td>\n",
       "      <td>2016-12-31 13:42:00</td>\n",
       "      <td>Business</td>\n",
       "      <td>Kar?chi</td>\n",
       "      <td>Unknown Location</td>\n",
       "      <td>3.9</td>\n",
       "      <td>Temporary Site</td>\n",
       "    </tr>\n",
       "    <tr>\n",
       "      <th>1152</th>\n",
       "      <td>2016-12-31 15:03:00</td>\n",
       "      <td>Afternoon</td>\n",
       "      <td>2016-12-31 15:38:00</td>\n",
       "      <td>Business</td>\n",
       "      <td>Unknown Location</td>\n",
       "      <td>Unknown Location</td>\n",
       "      <td>16.2</td>\n",
       "      <td>Meeting</td>\n",
       "    </tr>\n",
       "    <tr>\n",
       "      <th>1153</th>\n",
       "      <td>2016-12-31 21:32:00</td>\n",
       "      <td>Night</td>\n",
       "      <td>2016-12-31 21:50:00</td>\n",
       "      <td>Business</td>\n",
       "      <td>Katunayake</td>\n",
       "      <td>Gampaha</td>\n",
       "      <td>6.4</td>\n",
       "      <td>Temporary Site</td>\n",
       "    </tr>\n",
       "    <tr>\n",
       "      <th>1154</th>\n",
       "      <td>2016-12-31 22:08:00</td>\n",
       "      <td>Night</td>\n",
       "      <td>2016-12-31 23:51:00</td>\n",
       "      <td>Business</td>\n",
       "      <td>Gampaha</td>\n",
       "      <td>Ilukwatta</td>\n",
       "      <td>48.2</td>\n",
       "      <td>Temporary Site</td>\n",
       "    </tr>\n",
       "  </tbody>\n",
       "</table>\n",
       "<p>1154 rows × 8 columns</p>\n",
       "</div>"
      ],
      "text/plain": [
       "              START_DATE TIME_OF_DAY            END_DATE  CATEGORY  \\\n",
       "0    2016-01-01 21:11:00       Night 2016-01-01 21:17:00  Business   \n",
       "1    2016-01-02 01:25:00  Late Night 2016-01-02 01:37:00  Business   \n",
       "2    2016-01-02 20:25:00     Evening 2016-01-02 20:38:00  Business   \n",
       "3    2016-01-05 17:31:00   Afternoon 2016-01-05 17:45:00  Business   \n",
       "4    2016-01-06 14:42:00   Afternoon 2016-01-06 15:49:00  Business   \n",
       "...                  ...         ...                 ...       ...   \n",
       "1150 2016-12-31 01:07:00  Late Night 2016-12-31 01:14:00  Business   \n",
       "1151 2016-12-31 13:24:00   Afternoon 2016-12-31 13:42:00  Business   \n",
       "1152 2016-12-31 15:03:00   Afternoon 2016-12-31 15:38:00  Business   \n",
       "1153 2016-12-31 21:32:00       Night 2016-12-31 21:50:00  Business   \n",
       "1154 2016-12-31 22:08:00       Night 2016-12-31 23:51:00  Business   \n",
       "\n",
       "                 START              STOP  MILES          PURPOSE  \n",
       "0          Fort Pierce       Fort Pierce    5.1   Meal/Entertain  \n",
       "1          Fort Pierce       Fort Pierce    5.0    Not Available  \n",
       "2          Fort Pierce       Fort Pierce    4.8  Errand/Supplies  \n",
       "3          Fort Pierce       Fort Pierce    4.7          Meeting  \n",
       "4          Fort Pierce   West Palm Beach   63.7   Customer Visit  \n",
       "...                ...               ...    ...              ...  \n",
       "1150           Kar?chi           Kar?chi    0.7          Meeting  \n",
       "1151           Kar?chi  Unknown Location    3.9   Temporary Site  \n",
       "1152  Unknown Location  Unknown Location   16.2          Meeting  \n",
       "1153        Katunayake           Gampaha    6.4   Temporary Site  \n",
       "1154           Gampaha         Ilukwatta   48.2   Temporary Site  \n",
       "\n",
       "[1154 rows x 8 columns]"
      ]
     },
     "execution_count": 14,
     "metadata": {},
     "output_type": "execute_result"
    }
   ],
   "source": [
    "def bin_time(x):\n",
    "    if x < time(4, 0, 0):\n",
    "        return 'Late Night'\n",
    "    elif x < time(12, 0, 0):\n",
    "        return 'Morning'\n",
    "    elif x < time(18, 0, 0):\n",
    "        return 'Afternoon'\n",
    "    elif x < time(21, 0, 0):\n",
    "        return 'Evening'\n",
    "    else:   \n",
    "        return 'Night'\n",
    "\n",
    "data['TIME_OF_DAY'] = data['START_DATE'].dt.time.apply(bin_time)\n",
    "data.insert(1, 'TIME_OF_DAY', data.pop('TIME_OF_DAY'))\n",
    "data"
   ]
  },
  {
   "cell_type": "code",
   "execution_count": 15,
   "metadata": {},
   "outputs": [
    {
     "name": "stdout",
     "output_type": "stream",
     "text": [
      "TIME_OF_DAY: 5\n",
      "CATEGORY: 2\n",
      "START: 177\n",
      "STOP: 188\n",
      "PURPOSE: 11\n"
     ]
    }
   ],
   "source": [
    "obj_cols = data.select_dtypes(include='object').columns\n",
    "\n",
    "# Count the number of unique values in each object column \n",
    "for idx, col in enumerate(obj_cols):\n",
    "    unique_vals = data[col].unique().size\n",
    "    print(f\"{col}: {unique_vals}\")"
   ]
  },
  {
   "cell_type": "code",
   "execution_count": 16,
   "metadata": {},
   "outputs": [
    {
     "data": {
      "text/plain": [
       "(array([0, 1, 2, 3, 4, 5, 6, 7, 8, 9]),\n",
       " [Text(0, 0, 'Meeting'),\n",
       "  Text(1, 0, 'Meal/Entertain'),\n",
       "  Text(2, 0, 'Errand/Supplies'),\n",
       "  Text(3, 0, 'Customer Visit'),\n",
       "  Text(4, 0, 'Temporary Site'),\n",
       "  Text(5, 0, 'Between Offices'),\n",
       "  Text(6, 0, 'Moving'),\n",
       "  Text(7, 0, 'Airport/Travel'),\n",
       "  Text(8, 0, 'Commute'),\n",
       "  Text(9, 0, 'Charity ($)')])"
      ]
     },
     "execution_count": 16,
     "metadata": {},
     "output_type": "execute_result"
    },
    {
     "data": {
      "image/png": "[encoded data removed]",
      "text/plain": [
       "<Figure size 576x432 with 1 Axes>"
      ]
     },
     "metadata": {
      "needs_background": "light"
     },
     "output_type": "display_data"
    }
   ],
   "source": [
    "# get just the PURPOSE column and filter out the 'Not Available' rows\n",
    "purpose = pd.DataFrame(data['PURPOSE'])\n",
    "purpose = purpose[purpose['PURPOSE'] != 'Not Available'].reset_index(drop=True)\n",
    "\n",
    "# plot the count of the purpose for each trip\n",
    "plt.figure(figsize=(8, 6))\n",
    "sns.countplot(x = 'PURPOSE', data = purpose, order = purpose['PURPOSE'].value_counts().index)\n",
    "\n",
    "# reference: https://stackoverflow.com/questions/39444665/add-data-labels-to-seaborn-factor-plot\n",
    "\n",
    "def add_data_labels(data_col, text_buffer, y_axis_buffer):\n",
    "    # get the current axis of the plot\n",
    "    ax = plt.gca()\n",
    "\n",
    "    # set the y-axis range\n",
    "    ax.set_ylim([0, data_col.value_counts().max() + y_axis_buffer])\n",
    "\n",
    "    # iterate over the bars and add the data labels\n",
    "    for i, bar in enumerate(ax.patches):\n",
    "        h = bar.get_height()\n",
    "        ax.text(\n",
    "            i, # bar index (x coordinate of text)\n",
    "            h+text_buffer, # y coordinate of text\n",
    "            '{}'.format(int(h)),  # y label\n",
    "            ha='center', \n",
    "            va='center', \n",
    "            size=10)\n",
    "        \n",
    "add_data_labels(data_col=purpose['PURPOSE'], text_buffer=8, y_axis_buffer=15)\n",
    "\n",
    "# rotate the x-axis labels by 45 degrees\n",
    "plt.xticks(rotation=45)"
   ]
  },
  {
   "cell_type": "markdown",
   "metadata": {},
   "source": [
    "As evidenced above, people mostly travelled for a meeting or for a meal/entertainment. Very few people used an Uber for aiport travel, commute, or charity."
   ]
  },
  {
   "cell_type": "code",
   "execution_count": 17,
   "metadata": {},
   "outputs": [
    {
     "data": {
      "image/png": "[encoded data removed]",
      "text/plain": [
       "<Figure size 720x432 with 2 Axes>"
      ]
     },
     "metadata": {
      "needs_background": "light"
     },
     "output_type": "display_data"
    }
   ],
   "source": [
    "plt.figure(figsize=(10, 6))\n",
    "\n",
    "# on the left plot, plot the count of trips per each time of day\n",
    "plt.subplot(1, 2, 1)\n",
    "sns.countplot(x = 'TIME_OF_DAY', data = data, order = data['TIME_OF_DAY'].value_counts().index)\n",
    "add_data_labels(data_col=data['TIME_OF_DAY'], text_buffer=10, y_axis_buffer=25)\n",
    "\n",
    "# on the right plot, plot the count of trips per each category\n",
    "plt.subplot(1, 2, 2)\n",
    "sns.countplot(x = 'CATEGORY', data = data, order = data['CATEGORY'].value_counts().index)\n",
    "add_data_labels(data_col=data['CATEGORY'], text_buffer=17, y_axis_buffer=45)\n",
    "\n",
    "plt.show()"
   ]
  },
  {
   "cell_type": "markdown",
   "metadata": {},
   "source": [
    "In terms of the time of day, the afternoon (between 12:00 and 17:59) was the most popular time to ride an Uber.\n",
    "Morning (4:00 to 11:59) and evening times were pretty evenly matched, while late night hours (midnight till 3:59) were least popular.\n",
    "\n",
    "In terms of category, the overwhelming majority of rides were for business purposes. Only 77 out of the 1154 rides in the dataset were used for personal reasons."
   ]
  },
  {
   "cell_type": "markdown",
   "metadata": {},
   "source": [
    "Now, let's look at the Uber trips by their categories and respective purposes."
   ]
  },
  {
   "cell_type": "code",
   "execution_count": 18,
   "metadata": {},
   "outputs": [
    {
     "data": {
      "application/vnd.plotly.v1+json": {
       "config": {
        "plotlyServerURL": "https://plot.ly"
       },
       "data": [
        {
         "branchvalues": "total",
         "domain": {
          "x": [
           0,
           1
          ],
          "y": [
           0,
           1
          ]
         },
         "hovertemplate": "labels=%{label}<br>count=%{value}<br>parent=%{parent}<br>id=%{id}<extra></extra>",
         "ids": [
          "Business/Airport/Travel",
          "Business/Between Offices",
          "Personal/Charity ($)",
          "Personal/Commute",
          "Business/Customer Visit",
          "Business/Errand/Supplies",
          "Business/Meal/Entertain",
          "Business/Meeting",
          "Personal/Moving",
          "Business/Not Available",
          "Personal/Not Available",
          "Business/Temporary Site",
          "Business",
          "Personal"
         ],
         "labels": [
          "Airport/Travel",
          "Between Offices",
          "Charity ($)",
          "Commute",
          "Customer Visit",
          "Errand/Supplies",
          "Meal/Entertain",
          "Meeting",
          "Moving",
          "Not Available",
          "Not Available",
          "Temporary Site",
          "Business",
          "Personal"
         ],
         "name": "",
         "parents": [
          "Business",
          "Business",
          "Personal",
          "Personal",
          "Business",
          "Business",
          "Business",
          "Business",
          "Personal",
          "Business",
          "Personal",
          "Business",
          "",
          ""
         ],
         "type": "sunburst",
         "values": [
          3,
          18,
          1,
          1,
          101,
          128,
          160,
          186,
          4,
          431,
          71,
          50,
          1077,
          77
         ]
        }
       ],
       "layout": {
        "legend": {
         "tracegroupgap": 0
        },
        "template": {
         "data": {
          "bar": [
           {
            "error_x": {
             "color": "#2a3f5f"
            },
            "error_y": {
             "color": "#2a3f5f"
            },
            "marker": {
             "line": {
              "color": "#E5ECF6",
              "width": 0.5
             }
            },
            "type": "bar"
           }
          ],
          "barpolar": [
           {
            "marker": {
             "line": {
              "color": "#E5ECF6",
              "width": 0.5
             }
            },
            "type": "barpolar"
           }
          ],
          "carpet": [
           {
            "aaxis": {
             "endlinecolor": "#2a3f5f",
             "gridcolor": "white",
             "linecolor": "white",
             "minorgridcolor": "white",
             "startlinecolor": "#2a3f5f"
            },
            "baxis": {
             "endlinecolor": "#2a3f5f",
             "gridcolor": "white",
             "linecolor": "white",
             "minorgridcolor": "white",
             "startlinecolor": "#2a3f5f"
            },
            "type": "carpet"
           }
          ],
          "choropleth": [
           {
            "colorbar": {
             "outlinewidth": 0,
             "ticks": ""
            },
            "type": "choropleth"
           }
          ],
          "contour": [
           {
            "colorbar": {
             "outlinewidth": 0,
             "ticks": ""
            },
            "colorscale": [
             [
              0,
              "#0d0887"
             ],
             [
              0.1111111111111111,
              "#46039f"
             ],
             [
              0.2222222222222222,
              "#7201a8"
             ],
             [
              0.3333333333333333,
              "#9c179e"
             ],
             [
              0.4444444444444444,
              "#bd3786"
             ],
             [
              0.5555555555555556,
              "#d8576b"
             ],
             [
              0.6666666666666666,
              "#ed7953"
             ],
             [
              0.7777777777777778,
              "#fb9f3a"
             ],
             [
              0.8888888888888888,
              "#fdca26"
             ],
             [
              1,
              "#f0f921"
             ]
            ],
            "type": "contour"
           }
          ],
          "contourcarpet": [
           {
            "colorbar": {
             "outlinewidth": 0,
             "ticks": ""
            },
            "type": "contourcarpet"
           }
          ],
          "heatmap": [
           {
            "colorbar": {
             "outlinewidth": 0,
             "ticks": ""
            },
            "colorscale": [
             [
              0,
              "#0d0887"
             ],
             [
              0.1111111111111111,
              "#46039f"
             ],
             [
              0.2222222222222222,
              "#7201a8"
             ],
             [
              0.3333333333333333,
              "#9c179e"
             ],
             [
              0.4444444444444444,
              "#bd3786"
             ],
             [
              0.5555555555555556,
              "#d8576b"
             ],
             [
              0.6666666666666666,
              "#ed7953"
             ],
             [
              0.7777777777777778,
              "#fb9f3a"
             ],
             [
              0.8888888888888888,
              "#fdca26"
             ],
             [
              1,
              "#f0f921"
             ]
            ],
            "type": "heatmap"
           }
          ],
          "heatmapgl": [
           {
            "colorbar": {
             "outlinewidth": 0,
             "ticks": ""
            },
            "colorscale": [
             [
              0,
              "#0d0887"
             ],
             [
              0.1111111111111111,
              "#46039f"
             ],
             [
              0.2222222222222222,
              "#7201a8"
             ],
             [
              0.3333333333333333,
              "#9c179e"
             ],
             [
              0.4444444444444444,
              "#bd3786"
             ],
             [
              0.5555555555555556,
              "#d8576b"
             ],
             [
              0.6666666666666666,
              "#ed7953"
             ],
             [
              0.7777777777777778,
              "#fb9f3a"
             ],
             [
              0.8888888888888888,
              "#fdca26"
             ],
             [
              1,
              "#f0f921"
             ]
            ],
            "type": "heatmapgl"
           }
          ],
          "histogram": [
           {
            "marker": {
             "colorbar": {
              "outlinewidth": 0,
              "ticks": ""
             }
            },
            "type": "histogram"
           }
          ],
          "histogram2d": [
           {
            "colorbar": {
             "outlinewidth": 0,
             "ticks": ""
            },
            "colorscale": [
             [
              0,
              "#0d0887"
             ],
             [
              0.1111111111111111,
              "#46039f"
             ],
             [
              0.2222222222222222,
              "#7201a8"
             ],
             [
              0.3333333333333333,
              "#9c179e"
             ],
             [
              0.4444444444444444,
              "#bd3786"
             ],
             [
              0.5555555555555556,
              "#d8576b"
             ],
             [
              0.6666666666666666,
              "#ed7953"
             ],
             [
              0.7777777777777778,
              "#fb9f3a"
             ],
             [
              0.8888888888888888,
              "#fdca26"
             ],
             [
              1,
              "#f0f921"
             ]
            ],
            "type": "histogram2d"
           }
          ],
          "histogram2dcontour": [
           {
            "colorbar": {
             "outlinewidth": 0,
             "ticks": ""
            },
            "colorscale": [
             [
              0,
              "#0d0887"
             ],
             [
              0.1111111111111111,
              "#46039f"
             ],
             [
              0.2222222222222222,
              "#7201a8"
             ],
             [
              0.3333333333333333,
              "#9c179e"
             ],
             [
              0.4444444444444444,
              "#bd3786"
             ],
             [
              0.5555555555555556,
              "#d8576b"
             ],
             [
              0.6666666666666666,
              "#ed7953"
             ],
             [
              0.7777777777777778,
              "#fb9f3a"
             ],
             [
              0.8888888888888888,
              "#fdca26"
             ],
             [
              1,
              "#f0f921"
             ]
            ],
            "type": "histogram2dcontour"
           }
          ],
          "mesh3d": [
           {
            "colorbar": {
             "outlinewidth": 0,
             "ticks": ""
            },
            "type": "mesh3d"
           }
          ],
          "parcoords": [
           {
            "line": {
             "colorbar": {
              "outlinewidth": 0,
              "ticks": ""
             }
            },
            "type": "parcoords"
           }
          ],
          "pie": [
           {
            "automargin": true,
            "type": "pie"
           }
          ],
          "scatter": [
           {
            "marker": {
             "colorbar": {
              "outlinewidth": 0,
              "ticks": ""
             }
            },
            "type": "scatter"
           }
          ],
          "scatter3d": [
           {
            "line": {
             "colorbar": {
              "outlinewidth": 0,
              "ticks": ""
             }
            },
            "marker": {
             "colorbar": {
              "outlinewidth": 0,
              "ticks": ""
             }
            },
            "type": "scatter3d"
           }
          ],
          "scattercarpet": [
           {
            "marker": {
             "colorbar": {
              "outlinewidth": 0,
              "ticks": ""
             }
            },
            "type": "scattercarpet"
           }
          ],
          "scattergeo": [
           {
            "marker": {
             "colorbar": {
              "outlinewidth": 0,
              "ticks": ""
             }
            },
            "type": "scattergeo"
           }
          ],
          "scattergl": [
           {
            "marker": {
             "colorbar": {
              "outlinewidth": 0,
              "ticks": ""
             }
            },
            "type": "scattergl"
           }
          ],
          "scattermapbox": [
           {
            "marker": {
             "colorbar": {
              "outlinewidth": 0,
              "ticks": ""
             }
            },
            "type": "scattermapbox"
           }
          ],
          "scatterpolar": [
           {
            "marker": {
             "colorbar": {
              "outlinewidth": 0,
              "ticks": ""
             }
            },
            "type": "scatterpolar"
           }
          ],
          "scatterpolargl": [
           {
            "marker": {
             "colorbar": {
              "outlinewidth": 0,
              "ticks": ""
             }
            },
            "type": "scatterpolargl"
           }
          ],
          "scatterternary": [
           {
            "marker": {
             "colorbar": {
              "outlinewidth": 0,
              "ticks": ""
             }
            },
            "type": "scatterternary"
           }
          ],
          "surface": [
           {
            "colorbar": {
             "outlinewidth": 0,
             "ticks": ""
            },
            "colorscale": [
             [
              0,
              "#0d0887"
             ],
             [
              0.1111111111111111,
              "#46039f"
             ],
             [
              0.2222222222222222,
              "#7201a8"
             ],
             [
              0.3333333333333333,
              "#9c179e"
             ],
             [
              0.4444444444444444,
              "#bd3786"
             ],
             [
              0.5555555555555556,
              "#d8576b"
             ],
             [
              0.6666666666666666,
              "#ed7953"
             ],
             [
              0.7777777777777778,
              "#fb9f3a"
             ],
             [
              0.8888888888888888,
              "#fdca26"
             ],
             [
              1,
              "#f0f921"
             ]
            ],
            "type": "surface"
           }
          ],
          "table": [
           {
            "cells": {
             "fill": {
              "color": "#EBF0F8"
             },
             "line": {
              "color": "white"
             }
            },
            "header": {
             "fill": {
              "color": "#C8D4E3"
             },
             "line": {
              "color": "white"
             }
            },
            "type": "table"
           }
          ]
         },
         "layout": {
          "annotationdefaults": {
           "arrowcolor": "#2a3f5f",
           "arrowhead": 0,
           "arrowwidth": 1
          },
          "autotypenumbers": "strict",
          "coloraxis": {
           "colorbar": {
            "outlinewidth": 0,
            "ticks": ""
           }
          },
          "colorscale": {
           "diverging": [
            [
             0,
             "#8e0152"
            ],
            [
             0.1,
             "#c51b7d"
            ],
            [
             0.2,
             "#de77ae"
            ],
            [
             0.3,
             "#f1b6da"
            ],
            [
             0.4,
             "#fde0ef"
            ],
            [
             0.5,
             "#f7f7f7"
            ],
            [
             0.6,
             "#e6f5d0"
            ],
            [
             0.7,
             "#b8e186"
            ],
            [
             0.8,
             "#7fbc41"
            ],
            [
             0.9,
             "#4d9221"
            ],
            [
             1,
             "#276419"
            ]
           ],
           "sequential": [
            [
             0,
             "#0d0887"
            ],
            [
             0.1111111111111111,
             "#46039f"
            ],
            [
             0.2222222222222222,
             "#7201a8"
            ],
            [
             0.3333333333333333,
             "#9c179e"
            ],
            [
             0.4444444444444444,
             "#bd3786"
            ],
            [
             0.5555555555555556,
             "#d8576b"
            ],
            [
             0.6666666666666666,
             "#ed7953"
            ],
            [
             0.7777777777777778,
             "#fb9f3a"
            ],
            [
             0.8888888888888888,
             "#fdca26"
            ],
            [
             1,
             "#f0f921"
            ]
           ],
           "sequentialminus": [
            [
             0,
             "#0d0887"
            ],
            [
             0.1111111111111111,
             "#46039f"
            ],
            [
             0.2222222222222222,
             "#7201a8"
            ],
            [
             0.3333333333333333,
             "#9c179e"
            ],
            [
             0.4444444444444444,
             "#bd3786"
            ],
            [
             0.5555555555555556,
             "#d8576b"
            ],
            [
             0.6666666666666666,
             "#ed7953"
            ],
            [
             0.7777777777777778,
             "#fb9f3a"
            ],
            [
             0.8888888888888888,
             "#fdca26"
            ],
            [
             1,
             "#f0f921"
            ]
           ]
          },
          "colorway": [
           "#636efa",
           "#EF553B",
           "#00cc96",
           "#ab63fa",
           "#FFA15A",
           "#19d3f3",
           "#FF6692",
           "#B6E880",
           "#FF97FF",
           "#FECB52"
          ],
          "font": {
           "color": "#2a3f5f"
          },
          "geo": {
           "bgcolor": "white",
           "lakecolor": "white",
           "landcolor": "#E5ECF6",
           "showlakes": true,
           "showland": true,
           "subunitcolor": "white"
          },
          "hoverlabel": {
           "align": "left"
          },
          "hovermode": "closest",
          "mapbox": {
           "style": "light"
          },
          "paper_bgcolor": "white",
          "plot_bgcolor": "#E5ECF6",
          "polar": {
           "angularaxis": {
            "gridcolor": "white",
            "linecolor": "white",
            "ticks": ""
           },
           "bgcolor": "#E5ECF6",
           "radialaxis": {
            "gridcolor": "white",
            "linecolor": "white",
            "ticks": ""
           }
          },
          "scene": {
           "xaxis": {
            "backgroundcolor": "#E5ECF6",
            "gridcolor": "white",
            "gridwidth": 2,
            "linecolor": "white",
            "showbackground": true,
            "ticks": "",
            "zerolinecolor": "white"
           },
           "yaxis": {
            "backgroundcolor": "#E5ECF6",
            "gridcolor": "white",
            "gridwidth": 2,
            "linecolor": "white",
            "showbackground": true,
            "ticks": "",
            "zerolinecolor": "white"
           },
           "zaxis": {
            "backgroundcolor": "#E5ECF6",
            "gridcolor": "white",
            "gridwidth": 2,
            "linecolor": "white",
            "showbackground": true,
            "ticks": "",
            "zerolinecolor": "white"
           }
          },
          "shapedefaults": {
           "line": {
            "color": "#2a3f5f"
           }
          },
          "ternary": {
           "aaxis": {
            "gridcolor": "white",
            "linecolor": "white",
            "ticks": ""
           },
           "baxis": {
            "gridcolor": "white",
            "linecolor": "white",
            "ticks": ""
           },
           "bgcolor": "#E5ECF6",
           "caxis": {
            "gridcolor": "white",
            "linecolor": "white",
            "ticks": ""
           }
          },
          "title": {
           "x": 0.05
          },
          "xaxis": {
           "automargin": true,
           "gridcolor": "white",
           "linecolor": "white",
           "ticks": "",
           "title": {
            "standoff": 15
           },
           "zerolinecolor": "white",
           "zerolinewidth": 2
          },
          "yaxis": {
           "automargin": true,
           "gridcolor": "white",
           "linecolor": "white",
           "ticks": "",
           "title": {
            "standoff": 15
           },
           "zerolinecolor": "white",
           "zerolinewidth": 2
          }
         }
        },
        "title": {
         "text": "Uber Trips by Category and Purpose"
        }
       }
      }
     },
     "metadata": {},
     "output_type": "display_data"
    }
   ],
   "source": [
    "# reference to Plotly documentation: https://plotly.com/python/sunburst-charts/\n",
    "import plotly.express as px\n",
    "fig = px.sunburst(data, path=['CATEGORY', 'PURPOSE'], title='Uber Trips by Category and Purpose')\n",
    "fig.show()"
   ]
  },
  {
   "cell_type": "markdown",
   "metadata": {},
   "source": [
    "In the graph above, we can see that out of all business trips, 431 were labelled as \"Not Available.\"\n",
    "For all personal trips, the number was 71.\n",
    "\n",
    "In response to this, let's filter out the 'Not Available' rows, view the counts by pairs of category-purpose, and revisit our sunburst chart."
   ]
  },
  {
   "cell_type": "code",
   "execution_count": 19,
   "metadata": {},
   "outputs": [
    {
     "data": {
      "text/html": [
       "<div>\n",
       "<style scoped>\n",
       "    .dataframe tbody tr th:only-of-type {\n",
       "        vertical-align: middle;\n",
       "    }\n",
       "\n",
       "    .dataframe tbody tr th {\n",
       "        vertical-align: top;\n",
       "    }\n",
       "\n",
       "    .dataframe thead th {\n",
       "        text-align: right;\n",
       "    }\n",
       "</style>\n",
       "<table border=\"1\" class=\"dataframe\">\n",
       "  <thead>\n",
       "    <tr style=\"text-align: right;\">\n",
       "      <th></th>\n",
       "      <th>CATEGORY</th>\n",
       "      <th>PURPOSE</th>\n",
       "      <th>COUNT</th>\n",
       "    </tr>\n",
       "  </thead>\n",
       "  <tbody>\n",
       "    <tr>\n",
       "      <th>0</th>\n",
       "      <td>Business</td>\n",
       "      <td>Airport/Travel</td>\n",
       "      <td>3</td>\n",
       "    </tr>\n",
       "    <tr>\n",
       "      <th>1</th>\n",
       "      <td>Business</td>\n",
       "      <td>Between Offices</td>\n",
       "      <td>18</td>\n",
       "    </tr>\n",
       "    <tr>\n",
       "      <th>2</th>\n",
       "      <td>Business</td>\n",
       "      <td>Customer Visit</td>\n",
       "      <td>101</td>\n",
       "    </tr>\n",
       "    <tr>\n",
       "      <th>3</th>\n",
       "      <td>Business</td>\n",
       "      <td>Errand/Supplies</td>\n",
       "      <td>128</td>\n",
       "    </tr>\n",
       "    <tr>\n",
       "      <th>4</th>\n",
       "      <td>Business</td>\n",
       "      <td>Meal/Entertain</td>\n",
       "      <td>160</td>\n",
       "    </tr>\n",
       "    <tr>\n",
       "      <th>5</th>\n",
       "      <td>Business</td>\n",
       "      <td>Meeting</td>\n",
       "      <td>186</td>\n",
       "    </tr>\n",
       "    <tr>\n",
       "      <th>6</th>\n",
       "      <td>Business</td>\n",
       "      <td>Temporary Site</td>\n",
       "      <td>50</td>\n",
       "    </tr>\n",
       "    <tr>\n",
       "      <th>7</th>\n",
       "      <td>Personal</td>\n",
       "      <td>Charity ($)</td>\n",
       "      <td>1</td>\n",
       "    </tr>\n",
       "    <tr>\n",
       "      <th>8</th>\n",
       "      <td>Personal</td>\n",
       "      <td>Commute</td>\n",
       "      <td>1</td>\n",
       "    </tr>\n",
       "    <tr>\n",
       "      <th>9</th>\n",
       "      <td>Personal</td>\n",
       "      <td>Moving</td>\n",
       "      <td>4</td>\n",
       "    </tr>\n",
       "  </tbody>\n",
       "</table>\n",
       "</div>"
      ],
      "text/plain": [
       "   CATEGORY          PURPOSE  COUNT\n",
       "0  Business   Airport/Travel      3\n",
       "1  Business  Between Offices     18\n",
       "2  Business   Customer Visit    101\n",
       "3  Business  Errand/Supplies    128\n",
       "4  Business   Meal/Entertain    160\n",
       "5  Business          Meeting    186\n",
       "6  Business   Temporary Site     50\n",
       "7  Personal      Charity ($)      1\n",
       "8  Personal          Commute      1\n",
       "9  Personal           Moving      4"
      ]
     },
     "execution_count": 19,
     "metadata": {},
     "output_type": "execute_result"
    }
   ],
   "source": [
    "category_and_purpose = pd.DataFrame(data[['CATEGORY', 'PURPOSE']])\n",
    "category_and_purpose = category_and_purpose[category_and_purpose['PURPOSE'] != 'Not Available'].reset_index(drop=True)\n",
    "\n",
    "# Check the count for each category and purpose pairs\n",
    "category_and_purpose.groupby(['CATEGORY', 'PURPOSE']).size().reset_index(name='COUNT')"
   ]
  },
  {
   "cell_type": "code",
   "execution_count": 20,
   "metadata": {},
   "outputs": [
    {
     "data": {
      "application/vnd.plotly.v1+json": {
       "config": {
        "plotlyServerURL": "https://plot.ly"
       },
       "data": [
        {
         "branchvalues": "total",
         "domain": {
          "x": [
           0,
           1
          ],
          "y": [
           0,
           1
          ]
         },
         "hovertemplate": "labels=%{label}<br>count=%{value}<br>parent=%{parent}<br>id=%{id}<extra></extra>",
         "ids": [
          "Business/Airport/Travel",
          "Business/Between Offices",
          "Personal/Charity ($)",
          "Personal/Commute",
          "Business/Customer Visit",
          "Business/Errand/Supplies",
          "Business/Meal/Entertain",
          "Business/Meeting",
          "Personal/Moving",
          "Business/Temporary Site",
          "Business",
          "Personal"
         ],
         "labels": [
          "Airport/Travel",
          "Between Offices",
          "Charity ($)",
          "Commute",
          "Customer Visit",
          "Errand/Supplies",
          "Meal/Entertain",
          "Meeting",
          "Moving",
          "Temporary Site",
          "Business",
          "Personal"
         ],
         "name": "",
         "parents": [
          "Business",
          "Business",
          "Personal",
          "Personal",
          "Business",
          "Business",
          "Business",
          "Business",
          "Personal",
          "Business",
          "",
          ""
         ],
         "type": "sunburst",
         "values": [
          3,
          18,
          1,
          1,
          101,
          128,
          160,
          186,
          4,
          50,
          646,
          6
         ]
        }
       ],
       "layout": {
        "legend": {
         "tracegroupgap": 0
        },
        "template": {
         "data": {
          "bar": [
           {
            "error_x": {
             "color": "#2a3f5f"
            },
            "error_y": {
             "color": "#2a3f5f"
            },
            "marker": {
             "line": {
              "color": "#E5ECF6",
              "width": 0.5
             }
            },
            "type": "bar"
           }
          ],
          "barpolar": [
           {
            "marker": {
             "line": {
              "color": "#E5ECF6",
              "width": 0.5
             }
            },
            "type": "barpolar"
           }
          ],
          "carpet": [
           {
            "aaxis": {
             "endlinecolor": "#2a3f5f",
             "gridcolor": "white",
             "linecolor": "white",
             "minorgridcolor": "white",
             "startlinecolor": "#2a3f5f"
            },
            "baxis": {
             "endlinecolor": "#2a3f5f",
             "gridcolor": "white",
             "linecolor": "white",
             "minorgridcolor": "white",
             "startlinecolor": "#2a3f5f"
            },
            "type": "carpet"
           }
          ],
          "choropleth": [
           {
            "colorbar": {
             "outlinewidth": 0,
             "ticks": ""
            },
            "type": "choropleth"
           }
          ],
          "contour": [
           {
            "colorbar": {
             "outlinewidth": 0,
             "ticks": ""
            },
            "colorscale": [
             [
              0,
              "#0d0887"
             ],
             [
              0.1111111111111111,
              "#46039f"
             ],
             [
              0.2222222222222222,
              "#7201a8"
             ],
             [
              0.3333333333333333,
              "#9c179e"
             ],
             [
              0.4444444444444444,
              "#bd3786"
             ],
             [
              0.5555555555555556,
              "#d8576b"
             ],
             [
              0.6666666666666666,
              "#ed7953"
             ],
             [
              0.7777777777777778,
              "#fb9f3a"
             ],
             [
              0.8888888888888888,
              "#fdca26"
             ],
             [
              1,
              "#f0f921"
             ]
            ],
            "type": "contour"
           }
          ],
          "contourcarpet": [
           {
            "colorbar": {
             "outlinewidth": 0,
             "ticks": ""
            },
            "type": "contourcarpet"
           }
          ],
          "heatmap": [
           {
            "colorbar": {
             "outlinewidth": 0,
             "ticks": ""
            },
            "colorscale": [
             [
              0,
              "#0d0887"
             ],
             [
              0.1111111111111111,
              "#46039f"
             ],
             [
              0.2222222222222222,
              "#7201a8"
             ],
             [
              0.3333333333333333,
              "#9c179e"
             ],
             [
              0.4444444444444444,
              "#bd3786"
             ],
             [
              0.5555555555555556,
              "#d8576b"
             ],
             [
              0.6666666666666666,
              "#ed7953"
             ],
             [
              0.7777777777777778,
              "#fb9f3a"
             ],
             [
              0.8888888888888888,
              "#fdca26"
             ],
             [
              1,
              "#f0f921"
             ]
            ],
            "type": "heatmap"
           }
          ],
          "heatmapgl": [
           {
            "colorbar": {
             "outlinewidth": 0,
             "ticks": ""
            },
            "colorscale": [
             [
              0,
              "#0d0887"
             ],
             [
              0.1111111111111111,
              "#46039f"
             ],
             [
              0.2222222222222222,
              "#7201a8"
             ],
             [
              0.3333333333333333,
              "#9c179e"
             ],
             [
              0.4444444444444444,
              "#bd3786"
             ],
             [
              0.5555555555555556,
              "#d8576b"
             ],
             [
              0.6666666666666666,
              "#ed7953"
             ],
             [
              0.7777777777777778,
              "#fb9f3a"
             ],
             [
              0.8888888888888888,
              "#fdca26"
             ],
             [
              1,
              "#f0f921"
             ]
            ],
            "type": "heatmapgl"
           }
          ],
          "histogram": [
           {
            "marker": {
             "colorbar": {
              "outlinewidth": 0,
              "ticks": ""
             }
            },
            "type": "histogram"
           }
          ],
          "histogram2d": [
           {
            "colorbar": {
             "outlinewidth": 0,
             "ticks": ""
            },
            "colorscale": [
             [
              0,
              "#0d0887"
             ],
             [
              0.1111111111111111,
              "#46039f"
             ],
             [
              0.2222222222222222,
              "#7201a8"
             ],
             [
              0.3333333333333333,
              "#9c179e"
             ],
             [
              0.4444444444444444,
              "#bd3786"
             ],
             [
              0.5555555555555556,
              "#d8576b"
             ],
             [
              0.6666666666666666,
              "#ed7953"
             ],
             [
              0.7777777777777778,
              "#fb9f3a"
             ],
             [
              0.8888888888888888,
              "#fdca26"
             ],
             [
              1,
              "#f0f921"
             ]
            ],
            "type": "histogram2d"
           }
          ],
          "histogram2dcontour": [
           {
            "colorbar": {
             "outlinewidth": 0,
             "ticks": ""
            },
            "colorscale": [
             [
              0,
              "#0d0887"
             ],
             [
              0.1111111111111111,
              "#46039f"
             ],
             [
              0.2222222222222222,
              "#7201a8"
             ],
             [
              0.3333333333333333,
              "#9c179e"
             ],
             [
              0.4444444444444444,
              "#bd3786"
             ],
             [
              0.5555555555555556,
              "#d8576b"
             ],
             [
              0.6666666666666666,
              "#ed7953"
             ],
             [
              0.7777777777777778,
              "#fb9f3a"
             ],
             [
              0.8888888888888888,
              "#fdca26"
             ],
             [
              1,
              "#f0f921"
             ]
            ],
            "type": "histogram2dcontour"
           }
          ],
          "mesh3d": [
           {
            "colorbar": {
             "outlinewidth": 0,
             "ticks": ""
            },
            "type": "mesh3d"
           }
          ],
          "parcoords": [
           {
            "line": {
             "colorbar": {
              "outlinewidth": 0,
              "ticks": ""
             }
            },
            "type": "parcoords"
           }
          ],
          "pie": [
           {
            "automargin": true,
            "type": "pie"
           }
          ],
          "scatter": [
           {
            "marker": {
             "colorbar": {
              "outlinewidth": 0,
              "ticks": ""
             }
            },
            "type": "scatter"
           }
          ],
          "scatter3d": [
           {
            "line": {
             "colorbar": {
              "outlinewidth": 0,
              "ticks": ""
             }
            },
            "marker": {
             "colorbar": {
              "outlinewidth": 0,
              "ticks": ""
             }
            },
            "type": "scatter3d"
           }
          ],
          "scattercarpet": [
           {
            "marker": {
             "colorbar": {
              "outlinewidth": 0,
              "ticks": ""
             }
            },
            "type": "scattercarpet"
           }
          ],
          "scattergeo": [
           {
            "marker": {
             "colorbar": {
              "outlinewidth": 0,
              "ticks": ""
             }
            },
            "type": "scattergeo"
           }
          ],
          "scattergl": [
           {
            "marker": {
             "colorbar": {
              "outlinewidth": 0,
              "ticks": ""
             }
            },
            "type": "scattergl"
           }
          ],
          "scattermapbox": [
           {
            "marker": {
             "colorbar": {
              "outlinewidth": 0,
              "ticks": ""
             }
            },
            "type": "scattermapbox"
           }
          ],
          "scatterpolar": [
           {
            "marker": {
             "colorbar": {
              "outlinewidth": 0,
              "ticks": ""
             }
            },
            "type": "scatterpolar"
           }
          ],
          "scatterpolargl": [
           {
            "marker": {
             "colorbar": {
              "outlinewidth": 0,
              "ticks": ""
             }
            },
            "type": "scatterpolargl"
           }
          ],
          "scatterternary": [
           {
            "marker": {
             "colorbar": {
              "outlinewidth": 0,
              "ticks": ""
             }
            },
            "type": "scatterternary"
           }
          ],
          "surface": [
           {
            "colorbar": {
             "outlinewidth": 0,
             "ticks": ""
            },
            "colorscale": [
             [
              0,
              "#0d0887"
             ],
             [
              0.1111111111111111,
              "#46039f"
             ],
             [
              0.2222222222222222,
              "#7201a8"
             ],
             [
              0.3333333333333333,
              "#9c179e"
             ],
             [
              0.4444444444444444,
              "#bd3786"
             ],
             [
              0.5555555555555556,
              "#d8576b"
             ],
             [
              0.6666666666666666,
              "#ed7953"
             ],
             [
              0.7777777777777778,
              "#fb9f3a"
             ],
             [
              0.8888888888888888,
              "#fdca26"
             ],
             [
              1,
              "#f0f921"
             ]
            ],
            "type": "surface"
           }
          ],
          "table": [
           {
            "cells": {
             "fill": {
              "color": "#EBF0F8"
             },
             "line": {
              "color": "white"
             }
            },
            "header": {
             "fill": {
              "color": "#C8D4E3"
             },
             "line": {
              "color": "white"
             }
            },
            "type": "table"
           }
          ]
         },
         "layout": {
          "annotationdefaults": {
           "arrowcolor": "#2a3f5f",
           "arrowhead": 0,
           "arrowwidth": 1
          },
          "autotypenumbers": "strict",
          "coloraxis": {
           "colorbar": {
            "outlinewidth": 0,
            "ticks": ""
           }
          },
          "colorscale": {
           "diverging": [
            [
             0,
             "#8e0152"
            ],
            [
             0.1,
             "#c51b7d"
            ],
            [
             0.2,
             "#de77ae"
            ],
            [
             0.3,
             "#f1b6da"
            ],
            [
             0.4,
             "#fde0ef"
            ],
            [
             0.5,
             "#f7f7f7"
            ],
            [
             0.6,
             "#e6f5d0"
            ],
            [
             0.7,
             "#b8e186"
            ],
            [
             0.8,
             "#7fbc41"
            ],
            [
             0.9,
             "#4d9221"
            ],
            [
             1,
             "#276419"
            ]
           ],
           "sequential": [
            [
             0,
             "#0d0887"
            ],
            [
             0.1111111111111111,
             "#46039f"
            ],
            [
             0.2222222222222222,
             "#7201a8"
            ],
            [
             0.3333333333333333,
             "#9c179e"
            ],
            [
             0.4444444444444444,
             "#bd3786"
            ],
            [
             0.5555555555555556,
             "#d8576b"
            ],
            [
             0.6666666666666666,
             "#ed7953"
            ],
            [
             0.7777777777777778,
             "#fb9f3a"
            ],
            [
             0.8888888888888888,
             "#fdca26"
            ],
            [
             1,
             "#f0f921"
            ]
           ],
           "sequentialminus": [
            [
             0,
             "#0d0887"
            ],
            [
             0.1111111111111111,
             "#46039f"
            ],
            [
             0.2222222222222222,
             "#7201a8"
            ],
            [
             0.3333333333333333,
             "#9c179e"
            ],
            [
             0.4444444444444444,
             "#bd3786"
            ],
            [
             0.5555555555555556,
             "#d8576b"
            ],
            [
             0.6666666666666666,
             "#ed7953"
            ],
            [
             0.7777777777777778,
             "#fb9f3a"
            ],
            [
             0.8888888888888888,
             "#fdca26"
            ],
            [
             1,
             "#f0f921"
            ]
           ]
          },
          "colorway": [
           "#636efa",
           "#EF553B",
           "#00cc96",
           "#ab63fa",
           "#FFA15A",
           "#19d3f3",
           "#FF6692",
           "#B6E880",
           "#FF97FF",
           "#FECB52"
          ],
          "font": {
           "color": "#2a3f5f"
          },
          "geo": {
           "bgcolor": "white",
           "lakecolor": "white",
           "landcolor": "#E5ECF6",
           "showlakes": true,
           "showland": true,
           "subunitcolor": "white"
          },
          "hoverlabel": {
           "align": "left"
          },
          "hovermode": "closest",
          "mapbox": {
           "style": "light"
          },
          "paper_bgcolor": "white",
          "plot_bgcolor": "#E5ECF6",
          "polar": {
           "angularaxis": {
            "gridcolor": "white",
            "linecolor": "white",
            "ticks": ""
           },
           "bgcolor": "#E5ECF6",
           "radialaxis": {
            "gridcolor": "white",
            "linecolor": "white",
            "ticks": ""
           }
          },
          "scene": {
           "xaxis": {
            "backgroundcolor": "#E5ECF6",
            "gridcolor": "white",
            "gridwidth": 2,
            "linecolor": "white",
            "showbackground": true,
            "ticks": "",
            "zerolinecolor": "white"
           },
           "yaxis": {
            "backgroundcolor": "#E5ECF6",
            "gridcolor": "white",
            "gridwidth": 2,
            "linecolor": "white",
            "showbackground": true,
            "ticks": "",
            "zerolinecolor": "white"
           },
           "zaxis": {
            "backgroundcolor": "#E5ECF6",
            "gridcolor": "white",
            "gridwidth": 2,
            "linecolor": "white",
            "showbackground": true,
            "ticks": "",
            "zerolinecolor": "white"
           }
          },
          "shapedefaults": {
           "line": {
            "color": "#2a3f5f"
           }
          },
          "ternary": {
           "aaxis": {
            "gridcolor": "white",
            "linecolor": "white",
            "ticks": ""
           },
           "baxis": {
            "gridcolor": "white",
            "linecolor": "white",
            "ticks": ""
           },
           "bgcolor": "#E5ECF6",
           "caxis": {
            "gridcolor": "white",
            "linecolor": "white",
            "ticks": ""
           }
          },
          "title": {
           "x": 0.05
          },
          "xaxis": {
           "automargin": true,
           "gridcolor": "white",
           "linecolor": "white",
           "ticks": "",
           "title": {
            "standoff": 15
           },
           "zerolinecolor": "white",
           "zerolinewidth": 2
          },
          "yaxis": {
           "automargin": true,
           "gridcolor": "white",
           "linecolor": "white",
           "ticks": "",
           "title": {
            "standoff": 15
           },
           "zerolinecolor": "white",
           "zerolinewidth": 2
          }
         }
        },
        "title": {
         "text": "Uber Trips by Category and Purpose (Updated)"
        }
       }
      }
     },
     "metadata": {},
     "output_type": "display_data"
    }
   ],
   "source": [
    "fig = px.sunburst(category_and_purpose, path=['CATEGORY', 'PURPOSE'], title='Uber Trips by Category and Purpose (Updated)')\n",
    "fig.show()"
   ]
  },
  {
   "cell_type": "markdown",
   "metadata": {},
   "source": [
    "After updating the sunburst chart, it's overwhelmingly clear how dominant business trips were compared to personal ones."
   ]
  },
  {
   "cell_type": "markdown",
   "metadata": {},
   "source": [
    "Moving on, let's explore the 'MILES' column with a box plot to view the distribution of miles travelled."
   ]
  },
  {
   "cell_type": "code",
   "execution_count": 21,
   "metadata": {},
   "outputs": [
    {
     "name": "stderr",
     "output_type": "stream",
     "text": [
      "/Library/Frameworks/Python.framework/Versions/3.9/lib/python3.9/site-packages/seaborn/_decorators.py:36: FutureWarning:\n",
      "\n",
      "Pass the following variable as a keyword arg: x. From version 0.12, the only valid positional argument will be `data`, and passing other arguments without an explicit keyword will result in an error or misinterpretation.\n",
      "\n",
      "/Library/Frameworks/Python.framework/Versions/3.9/lib/python3.9/site-packages/seaborn/_core.py:1326: UserWarning:\n",
      "\n",
      "Vertical orientation ignored with only `x` specified.\n",
      "\n"
     ]
    },
    {
     "data": {
      "text/plain": [
       "<AxesSubplot:xlabel='MILES'>"
      ]
     },
     "execution_count": 21,
     "metadata": {},
     "output_type": "execute_result"
    },
    {
     "data": {
      "image/png": "[encoded data removed]",
      "text/plain": [
       "<Figure size 432x288 with 1 Axes>"
      ]
     },
     "metadata": {
      "needs_background": "light"
     },
     "output_type": "display_data"
    }
   ],
   "source": [
    "sns.boxplot(data['MILES'], orient='v')"
   ]
  },
  {
   "cell_type": "code",
   "execution_count": 22,
   "metadata": {},
   "outputs": [
    {
     "name": "stdout",
     "output_type": "stream",
     "text": [
      "\n",
      "Min: 0.5\n",
      "Max: 310.3\n",
      "Mean: 10.6\n",
      "Median: 6.0\n",
      "Lower Bound: 0\n",
      "Q1: 2.9\n",
      "IQR: 7.5\n",
      "Q3: 10.4\n",
      "Upper Bound: 21.6\n",
      "\n"
     ]
    }
   ],
   "source": [
    "Q1 = data['MILES'].quantile(0.25)\n",
    "Q3 = data['MILES'].quantile(0.75)\n",
    "IQR = Q3 - Q1\n",
    "lower_bound = max(0, Q1 - 1.5 * IQR)\n",
    "upper_bound = round(Q3 + 1.5 * IQR, 1)\n",
    "median = data['MILES'].median()\n",
    "mean = data['MILES'].mean()\n",
    "min_miles = round(data['MILES'].min(), 1)\n",
    "max_miles = round(data['MILES'].max(), 1)\n",
    "\n",
    "print(f\"\"\"\n",
    "Min: {min_miles}\n",
    "Max: {max_miles}\n",
    "Mean: {round(mean, 1)}\n",
    "Median: {median}\n",
    "Lower Bound: {lower_bound}\n",
    "Q1: {Q1}\n",
    "IQR: {IQR}\n",
    "Q3: {Q3}\n",
    "Upper Bound: {upper_bound}\n",
    "\"\"\")"
   ]
  },
  {
   "cell_type": "code",
   "execution_count": 23,
   "metadata": {},
   "outputs": [
    {
     "name": "stderr",
     "output_type": "stream",
     "text": [
      "/Library/Frameworks/Python.framework/Versions/3.9/lib/python3.9/site-packages/seaborn/_decorators.py:36: FutureWarning:\n",
      "\n",
      "Pass the following variable as a keyword arg: x. From version 0.12, the only valid positional argument will be `data`, and passing other arguments without an explicit keyword will result in an error or misinterpretation.\n",
      "\n"
     ]
    },
    {
     "data": {
      "text/plain": [
       "<AxesSubplot:xlabel='MILES'>"
      ]
     },
     "execution_count": 23,
     "metadata": {},
     "output_type": "execute_result"
    },
    {
     "data": {
      "image/png": "[encoded data removed]",
      "text/plain": [
       "<Figure size 432x288 with 1 Axes>"
      ]
     },
     "metadata": {
      "needs_background": "light"
     },
     "output_type": "display_data"
    }
   ],
   "source": [
    "# Redraw the boxplot with the outliers removed\n",
    "sns.boxplot(data[data['MILES'] <= upper_bound]['MILES'])"
   ]
  },
  {
   "cell_type": "markdown",
   "metadata": {},
   "source": [
    "Let's show this data again with a histogram."
   ]
  },
  {
   "cell_type": "code",
   "execution_count": 24,
   "metadata": {},
   "outputs": [
    {
     "data": {
      "text/plain": [
       "<seaborn.axisgrid.FacetGrid at 0x7fd02e190ee0>"
      ]
     },
     "execution_count": 24,
     "metadata": {},
     "output_type": "execute_result"
    },
    {
     "data": {
      "image/png": "[encoded data removed]",
      "text/plain": [
       "<Figure size 425.5x360 with 1 Axes>"
      ]
     },
     "metadata": {
      "needs_background": "light"
     },
     "output_type": "display_data"
    }
   ],
   "source": [
    "sns.displot(data[data['MILES'] <= upper_bound], bins=20, kde=False)"
   ]
  },
  {
   "cell_type": "markdown",
   "metadata": {},
   "source": [
    "The histogram shows up as being right-skewed. Most of the trips were booked for distances within 2 to 3 miles, with the number of rides tapering off after 5 miles."
   ]
  },
  {
   "cell_type": "markdown",
   "metadata": {},
   "source": [
    "On the outliers side, we can see that the bulk of the trips were made within 21.7 and 50 miles, as evidenced in the histogram below."
   ]
  },
  {
   "cell_type": "code",
   "execution_count": 25,
   "metadata": {},
   "outputs": [
    {
     "data": {
      "text/plain": [
       "<seaborn.axisgrid.FacetGrid at 0x7fd02e256580>"
      ]
     },
     "execution_count": 25,
     "metadata": {},
     "output_type": "execute_result"
    },
    {
     "data": {
      "image/png": "[encoded data removed]",
      "text/plain": [
       "<Figure size 425.5x360 with 1 Axes>"
      ]
     },
     "metadata": {
      "needs_background": "light"
     },
     "output_type": "display_data"
    }
   ],
   "source": [
    "sns.displot(data[(data['MILES'] > upper_bound)], bins=round(max_miles-upper_bound), kde=False)"
   ]
  },
  {
   "cell_type": "markdown",
   "metadata": {},
   "source": [
    "Within this range, only the 22 and 23 mile trips had 5 or more riders.\n",
    "\n",
    "For all other trips between 24 and 50 miles, we can expect 3 or fewer riders."
   ]
  },
  {
   "cell_type": "code",
   "execution_count": 26,
   "metadata": {},
   "outputs": [
    {
     "data": {
      "text/plain": [
       "<seaborn.axisgrid.FacetGrid at 0x7fd02e1846a0>"
      ]
     },
     "execution_count": 26,
     "metadata": {},
     "output_type": "execute_result"
    },
    {
     "data": {
      "image/png": "[encoded data removed]",
      "text/plain": [
       "<Figure size 425.5x360 with 1 Axes>"
      ]
     },
     "metadata": {
      "needs_background": "light"
     },
     "output_type": "display_data"
    }
   ],
   "source": [
    "sns.displot(data[(data['MILES'] > upper_bound) & (data['MILES'] <= 50)], bins=round(50 - upper_bound), kde=False)"
   ]
  },
  {
   "cell_type": "markdown",
   "metadata": {},
   "source": [
    "Moving on to the \"START\" and \"STOP\" columns, let's find out how many trips had the same starts and ends."
   ]
  },
  {
   "cell_type": "code",
   "execution_count": 35,
   "metadata": {},
   "outputs": [
    {
     "data": {
      "image/png": "[encoded data removed]",
      "text/plain": [
       "<Figure size 720x432 with 2 Axes>"
      ]
     },
     "metadata": {
      "needs_background": "light"
     },
     "output_type": "display_data"
    }
   ],
   "source": [
    "same_dest = pd.DataFrame(data[data['START'] == data['STOP']]).reset_index(drop=True)\n",
    "# 288 trips had the same start and stop location.\n",
    "len(same_dest)\n",
    "\n",
    "def show_same_start_and_end(data):\n",
    "    df0 = pd.DataFrame(data['MILES'])\n",
    "    df1 = df0[df0['MILES'] <= 25]\n",
    "\n",
    "    fig, axes = plt.subplots(1, 2, figsize=(10, 6))\n",
    "\n",
    "    # Plot the histogram for all the trips with the same start and stop location\n",
    "    axes[0].hist(df0, bins=20, histtype='barstacked', rwidth=0.8)\n",
    "    axes[0].set_title('Trips with same start and stop \\nlocations by distance (All)')\n",
    "    axes[0].set_xlabel('Miles')\n",
    "    axes[0].set_ylabel('Trips')\n",
    "\n",
    "    # Plot the histogram for all the trips with the same start and stop location, but only for trips <= 25 miles\n",
    "    axes[1].hist(df1, bins=25, histtype='barstacked', rwidth=0.8)\n",
    "    axes[1].set_title('Trips with same start and stop \\nlocations by distance (<= 25 miles)')\n",
    "    axes[1].set_xlabel('Miles')\n",
    "\n",
    "    fig.tight_layout()\n",
    "    plt.show()\n",
    "\n",
    "show_same_start_and_end(same_dest)"
   ]
  },
  {
   "cell_type": "markdown",
   "metadata": {},
   "source": [
    "On the graph to the left, we can see very few trips that lasted 25 miles or more, so let's find out what those trips were like."
   ]
  },
  {
   "cell_type": "code",
   "execution_count": 38,
   "metadata": {},
   "outputs": [
    {
     "data": {
      "text/html": [
       "<div>\n",
       "<style scoped>\n",
       "    .dataframe tbody tr th:only-of-type {\n",
       "        vertical-align: middle;\n",
       "    }\n",
       "\n",
       "    .dataframe tbody tr th {\n",
       "        vertical-align: top;\n",
       "    }\n",
       "\n",
       "    .dataframe thead th {\n",
       "        text-align: right;\n",
       "    }\n",
       "</style>\n",
       "<table border=\"1\" class=\"dataframe\">\n",
       "  <thead>\n",
       "    <tr style=\"text-align: right;\">\n",
       "      <th></th>\n",
       "      <th>START_DATE</th>\n",
       "      <th>TIME_OF_DAY</th>\n",
       "      <th>END_DATE</th>\n",
       "      <th>CATEGORY</th>\n",
       "      <th>START</th>\n",
       "      <th>STOP</th>\n",
       "      <th>MILES</th>\n",
       "      <th>PURPOSE</th>\n",
       "    </tr>\n",
       "  </thead>\n",
       "  <tbody>\n",
       "    <tr>\n",
       "      <th>90</th>\n",
       "      <td>2016-08-15 19:08:00</td>\n",
       "      <td>Evening</td>\n",
       "      <td>2016-08-15 20:30:00</td>\n",
       "      <td>Business</td>\n",
       "      <td>Unknown Location</td>\n",
       "      <td>Unknown Location</td>\n",
       "      <td>25.9</td>\n",
       "      <td>Temporary Site</td>\n",
       "    </tr>\n",
       "    <tr>\n",
       "      <th>113</th>\n",
       "      <td>2016-08-24 12:05:00</td>\n",
       "      <td>Afternoon</td>\n",
       "      <td>2016-08-24 12:56:00</td>\n",
       "      <td>Business</td>\n",
       "      <td>Unknown Location</td>\n",
       "      <td>Unknown Location</td>\n",
       "      <td>25.2</td>\n",
       "      <td>Not Available</td>\n",
       "    </tr>\n",
       "    <tr>\n",
       "      <th>114</th>\n",
       "      <td>2016-08-24 13:01:00</td>\n",
       "      <td>Afternoon</td>\n",
       "      <td>2016-08-24 15:25:00</td>\n",
       "      <td>Business</td>\n",
       "      <td>Unknown Location</td>\n",
       "      <td>Unknown Location</td>\n",
       "      <td>96.2</td>\n",
       "      <td>Not Available</td>\n",
       "    </tr>\n",
       "    <tr>\n",
       "      <th>115</th>\n",
       "      <td>2016-08-25 15:17:00</td>\n",
       "      <td>Afternoon</td>\n",
       "      <td>2016-08-25 16:22:00</td>\n",
       "      <td>Business</td>\n",
       "      <td>Unknown Location</td>\n",
       "      <td>Unknown Location</td>\n",
       "      <td>35.0</td>\n",
       "      <td>Not Available</td>\n",
       "    </tr>\n",
       "    <tr>\n",
       "      <th>117</th>\n",
       "      <td>2016-08-25 17:19:00</td>\n",
       "      <td>Afternoon</td>\n",
       "      <td>2016-08-25 19:20:00</td>\n",
       "      <td>Business</td>\n",
       "      <td>Unknown Location</td>\n",
       "      <td>Unknown Location</td>\n",
       "      <td>50.4</td>\n",
       "      <td>Not Available</td>\n",
       "    </tr>\n",
       "    <tr>\n",
       "      <th>126</th>\n",
       "      <td>2016-08-27 16:15:00</td>\n",
       "      <td>Afternoon</td>\n",
       "      <td>2016-08-27 19:13:00</td>\n",
       "      <td>Business</td>\n",
       "      <td>Unknown Location</td>\n",
       "      <td>Unknown Location</td>\n",
       "      <td>156.9</td>\n",
       "      <td>Not Available</td>\n",
       "    </tr>\n",
       "    <tr>\n",
       "      <th>136</th>\n",
       "      <td>2016-09-06 17:49:00</td>\n",
       "      <td>Afternoon</td>\n",
       "      <td>2016-09-06 17:49:00</td>\n",
       "      <td>Business</td>\n",
       "      <td>Unknown Location</td>\n",
       "      <td>Unknown Location</td>\n",
       "      <td>69.1</td>\n",
       "      <td>Not Available</td>\n",
       "    </tr>\n",
       "    <tr>\n",
       "      <th>153</th>\n",
       "      <td>2016-09-27 21:01:00</td>\n",
       "      <td>Night</td>\n",
       "      <td>2016-09-28 02:37:00</td>\n",
       "      <td>Business</td>\n",
       "      <td>Unknown Location</td>\n",
       "      <td>Unknown Location</td>\n",
       "      <td>195.6</td>\n",
       "      <td>Not Available</td>\n",
       "    </tr>\n",
       "    <tr>\n",
       "      <th>154</th>\n",
       "      <td>2016-09-30 17:39:00</td>\n",
       "      <td>Afternoon</td>\n",
       "      <td>2016-09-30 20:20:00</td>\n",
       "      <td>Business</td>\n",
       "      <td>Islamabad</td>\n",
       "      <td>Islamabad</td>\n",
       "      <td>37.7</td>\n",
       "      <td>Not Available</td>\n",
       "    </tr>\n",
       "    <tr>\n",
       "      <th>157</th>\n",
       "      <td>2016-10-04 09:50:00</td>\n",
       "      <td>Morning</td>\n",
       "      <td>2016-10-04 10:52:00</td>\n",
       "      <td>Business</td>\n",
       "      <td>Unknown Location</td>\n",
       "      <td>Unknown Location</td>\n",
       "      <td>28.6</td>\n",
       "      <td>Not Available</td>\n",
       "    </tr>\n",
       "    <tr>\n",
       "      <th>190</th>\n",
       "      <td>2016-11-20 10:27:00</td>\n",
       "      <td>Morning</td>\n",
       "      <td>2016-11-20 11:32:00</td>\n",
       "      <td>Business</td>\n",
       "      <td>Cary</td>\n",
       "      <td>Cary</td>\n",
       "      <td>39.2</td>\n",
       "      <td>Between Offices</td>\n",
       "    </tr>\n",
       "    <tr>\n",
       "      <th>243</th>\n",
       "      <td>2016-12-22 15:40:00</td>\n",
       "      <td>Afternoon</td>\n",
       "      <td>2016-12-22 16:38:00</td>\n",
       "      <td>Business</td>\n",
       "      <td>Unknown Location</td>\n",
       "      <td>Unknown Location</td>\n",
       "      <td>32.3</td>\n",
       "      <td>Meeting</td>\n",
       "    </tr>\n",
       "  </tbody>\n",
       "</table>\n",
       "</div>"
      ],
      "text/plain": [
       "             START_DATE TIME_OF_DAY            END_DATE  CATEGORY  \\\n",
       "90  2016-08-15 19:08:00     Evening 2016-08-15 20:30:00  Business   \n",
       "113 2016-08-24 12:05:00   Afternoon 2016-08-24 12:56:00  Business   \n",
       "114 2016-08-24 13:01:00   Afternoon 2016-08-24 15:25:00  Business   \n",
       "115 2016-08-25 15:17:00   Afternoon 2016-08-25 16:22:00  Business   \n",
       "117 2016-08-25 17:19:00   Afternoon 2016-08-25 19:20:00  Business   \n",
       "126 2016-08-27 16:15:00   Afternoon 2016-08-27 19:13:00  Business   \n",
       "136 2016-09-06 17:49:00   Afternoon 2016-09-06 17:49:00  Business   \n",
       "153 2016-09-27 21:01:00       Night 2016-09-28 02:37:00  Business   \n",
       "154 2016-09-30 17:39:00   Afternoon 2016-09-30 20:20:00  Business   \n",
       "157 2016-10-04 09:50:00     Morning 2016-10-04 10:52:00  Business   \n",
       "190 2016-11-20 10:27:00     Morning 2016-11-20 11:32:00  Business   \n",
       "243 2016-12-22 15:40:00   Afternoon 2016-12-22 16:38:00  Business   \n",
       "\n",
       "                START              STOP  MILES          PURPOSE  \n",
       "90   Unknown Location  Unknown Location   25.9   Temporary Site  \n",
       "113  Unknown Location  Unknown Location   25.2    Not Available  \n",
       "114  Unknown Location  Unknown Location   96.2    Not Available  \n",
       "115  Unknown Location  Unknown Location   35.0    Not Available  \n",
       "117  Unknown Location  Unknown Location   50.4    Not Available  \n",
       "126  Unknown Location  Unknown Location  156.9    Not Available  \n",
       "136  Unknown Location  Unknown Location   69.1    Not Available  \n",
       "153  Unknown Location  Unknown Location  195.6    Not Available  \n",
       "154         Islamabad         Islamabad   37.7    Not Available  \n",
       "157  Unknown Location  Unknown Location   28.6    Not Available  \n",
       "190              Cary              Cary   39.2  Between Offices  \n",
       "243  Unknown Location  Unknown Location   32.3          Meeting  "
      ]
     },
     "execution_count": 38,
     "metadata": {},
     "output_type": "execute_result"
    }
   ],
   "source": [
    "same_dest[same_dest['MILES'] > 25]"
   ]
  },
  {
   "cell_type": "markdown",
   "metadata": {},
   "source": [
    "As we can see here, there were 12 trips that fit our criteria, and only 2 trips where were without an unknown start/end. \n",
    "\n",
    "So, let's redraw the histograms above again and filter out the unknown locations."
   ]
  },
  {
   "cell_type": "code",
   "execution_count": 34,
   "metadata": {},
   "outputs": [
    {
     "data": {
      "text/html": [
       "<div>\n",
       "<style scoped>\n",
       "    .dataframe tbody tr th:only-of-type {\n",
       "        vertical-align: middle;\n",
       "    }\n",
       "\n",
       "    .dataframe tbody tr th {\n",
       "        vertical-align: top;\n",
       "    }\n",
       "\n",
       "    .dataframe thead th {\n",
       "        text-align: right;\n",
       "    }\n",
       "</style>\n",
       "<table border=\"1\" class=\"dataframe\">\n",
       "  <thead>\n",
       "    <tr style=\"text-align: right;\">\n",
       "      <th></th>\n",
       "      <th>START_DATE</th>\n",
       "      <th>TIME_OF_DAY</th>\n",
       "      <th>END_DATE</th>\n",
       "      <th>CATEGORY</th>\n",
       "      <th>START</th>\n",
       "      <th>STOP</th>\n",
       "      <th>MILES</th>\n",
       "      <th>PURPOSE</th>\n",
       "    </tr>\n",
       "  </thead>\n",
       "  <tbody>\n",
       "    <tr>\n",
       "      <th>0</th>\n",
       "      <td>2016-01-01 21:11:00</td>\n",
       "      <td>Night</td>\n",
       "      <td>2016-01-01 21:17:00</td>\n",
       "      <td>Business</td>\n",
       "      <td>Fort Pierce</td>\n",
       "      <td>Fort Pierce</td>\n",
       "      <td>5.1</td>\n",
       "      <td>Meal/Entertain</td>\n",
       "    </tr>\n",
       "    <tr>\n",
       "      <th>1</th>\n",
       "      <td>2016-01-02 01:25:00</td>\n",
       "      <td>Late Night</td>\n",
       "      <td>2016-01-02 01:37:00</td>\n",
       "      <td>Business</td>\n",
       "      <td>Fort Pierce</td>\n",
       "      <td>Fort Pierce</td>\n",
       "      <td>5.0</td>\n",
       "      <td>Not Available</td>\n",
       "    </tr>\n",
       "    <tr>\n",
       "      <th>2</th>\n",
       "      <td>2016-01-02 20:25:00</td>\n",
       "      <td>Evening</td>\n",
       "      <td>2016-01-02 20:38:00</td>\n",
       "      <td>Business</td>\n",
       "      <td>Fort Pierce</td>\n",
       "      <td>Fort Pierce</td>\n",
       "      <td>4.8</td>\n",
       "      <td>Errand/Supplies</td>\n",
       "    </tr>\n",
       "    <tr>\n",
       "      <th>3</th>\n",
       "      <td>2016-01-05 17:31:00</td>\n",
       "      <td>Afternoon</td>\n",
       "      <td>2016-01-05 17:45:00</td>\n",
       "      <td>Business</td>\n",
       "      <td>Fort Pierce</td>\n",
       "      <td>Fort Pierce</td>\n",
       "      <td>4.7</td>\n",
       "      <td>Meeting</td>\n",
       "    </tr>\n",
       "    <tr>\n",
       "      <th>4</th>\n",
       "      <td>2016-01-06 17:15:00</td>\n",
       "      <td>Afternoon</td>\n",
       "      <td>2016-01-06 17:19:00</td>\n",
       "      <td>Business</td>\n",
       "      <td>West Palm Beach</td>\n",
       "      <td>West Palm Beach</td>\n",
       "      <td>4.3</td>\n",
       "      <td>Meal/Entertain</td>\n",
       "    </tr>\n",
       "    <tr>\n",
       "      <th>...</th>\n",
       "      <td>...</td>\n",
       "      <td>...</td>\n",
       "      <td>...</td>\n",
       "      <td>...</td>\n",
       "      <td>...</td>\n",
       "      <td>...</td>\n",
       "      <td>...</td>\n",
       "      <td>...</td>\n",
       "    </tr>\n",
       "    <tr>\n",
       "      <th>197</th>\n",
       "      <td>2016-12-30 11:31:00</td>\n",
       "      <td>Morning</td>\n",
       "      <td>2016-12-30 11:56:00</td>\n",
       "      <td>Business</td>\n",
       "      <td>Kar?chi</td>\n",
       "      <td>Kar?chi</td>\n",
       "      <td>2.9</td>\n",
       "      <td>Errand/Supplies</td>\n",
       "    </tr>\n",
       "    <tr>\n",
       "      <th>198</th>\n",
       "      <td>2016-12-30 15:41:00</td>\n",
       "      <td>Afternoon</td>\n",
       "      <td>2016-12-30 16:03:00</td>\n",
       "      <td>Business</td>\n",
       "      <td>Kar?chi</td>\n",
       "      <td>Kar?chi</td>\n",
       "      <td>4.6</td>\n",
       "      <td>Errand/Supplies</td>\n",
       "    </tr>\n",
       "    <tr>\n",
       "      <th>199</th>\n",
       "      <td>2016-12-30 16:45:00</td>\n",
       "      <td>Afternoon</td>\n",
       "      <td>2016-12-30 17:08:00</td>\n",
       "      <td>Business</td>\n",
       "      <td>Kar?chi</td>\n",
       "      <td>Kar?chi</td>\n",
       "      <td>4.6</td>\n",
       "      <td>Meeting</td>\n",
       "    </tr>\n",
       "    <tr>\n",
       "      <th>200</th>\n",
       "      <td>2016-12-30 23:06:00</td>\n",
       "      <td>Night</td>\n",
       "      <td>2016-12-30 23:10:00</td>\n",
       "      <td>Business</td>\n",
       "      <td>Kar?chi</td>\n",
       "      <td>Kar?chi</td>\n",
       "      <td>0.8</td>\n",
       "      <td>Customer Visit</td>\n",
       "    </tr>\n",
       "    <tr>\n",
       "      <th>201</th>\n",
       "      <td>2016-12-31 01:07:00</td>\n",
       "      <td>Late Night</td>\n",
       "      <td>2016-12-31 01:14:00</td>\n",
       "      <td>Business</td>\n",
       "      <td>Kar?chi</td>\n",
       "      <td>Kar?chi</td>\n",
       "      <td>0.7</td>\n",
       "      <td>Meeting</td>\n",
       "    </tr>\n",
       "  </tbody>\n",
       "</table>\n",
       "<p>202 rows × 8 columns</p>\n",
       "</div>"
      ],
      "text/plain": [
       "             START_DATE TIME_OF_DAY            END_DATE  CATEGORY  \\\n",
       "0   2016-01-01 21:11:00       Night 2016-01-01 21:17:00  Business   \n",
       "1   2016-01-02 01:25:00  Late Night 2016-01-02 01:37:00  Business   \n",
       "2   2016-01-02 20:25:00     Evening 2016-01-02 20:38:00  Business   \n",
       "3   2016-01-05 17:31:00   Afternoon 2016-01-05 17:45:00  Business   \n",
       "4   2016-01-06 17:15:00   Afternoon 2016-01-06 17:19:00  Business   \n",
       "..                  ...         ...                 ...       ...   \n",
       "197 2016-12-30 11:31:00     Morning 2016-12-30 11:56:00  Business   \n",
       "198 2016-12-30 15:41:00   Afternoon 2016-12-30 16:03:00  Business   \n",
       "199 2016-12-30 16:45:00   Afternoon 2016-12-30 17:08:00  Business   \n",
       "200 2016-12-30 23:06:00       Night 2016-12-30 23:10:00  Business   \n",
       "201 2016-12-31 01:07:00  Late Night 2016-12-31 01:14:00  Business   \n",
       "\n",
       "               START             STOP  MILES          PURPOSE  \n",
       "0        Fort Pierce      Fort Pierce    5.1   Meal/Entertain  \n",
       "1        Fort Pierce      Fort Pierce    5.0    Not Available  \n",
       "2        Fort Pierce      Fort Pierce    4.8  Errand/Supplies  \n",
       "3        Fort Pierce      Fort Pierce    4.7          Meeting  \n",
       "4    West Palm Beach  West Palm Beach    4.3   Meal/Entertain  \n",
       "..               ...              ...    ...              ...  \n",
       "197          Kar?chi          Kar?chi    2.9  Errand/Supplies  \n",
       "198          Kar?chi          Kar?chi    4.6  Errand/Supplies  \n",
       "199          Kar?chi          Kar?chi    4.6          Meeting  \n",
       "200          Kar?chi          Kar?chi    0.8   Customer Visit  \n",
       "201          Kar?chi          Kar?chi    0.7          Meeting  \n",
       "\n",
       "[202 rows x 8 columns]"
      ]
     },
     "execution_count": 34,
     "metadata": {},
     "output_type": "execute_result"
    }
   ],
   "source": [
    "same_dest_known = same_dest[same_dest['START'] != 'Unknown Location'].reset_index(drop=True)\n",
    "same_dest_known"
   ]
  },
  {
   "cell_type": "markdown",
   "metadata": {},
   "source": [
    "Voila! Now there are 201 trips left (with 87 rows removed)."
   ]
  },
  {
   "cell_type": "code",
   "execution_count": 36,
   "metadata": {},
   "outputs": [
    {
     "data": {
      "image/png": "[encoded data removed]",
      "text/plain": [
       "<Figure size 720x432 with 2 Axes>"
      ]
     },
     "metadata": {
      "needs_background": "light"
     },
     "output_type": "display_data"
    }
   ],
   "source": [
    "show_same_start_and_end(same_dest_known)"
   ]
  },
  {
   "cell_type": "markdown",
   "metadata": {},
   "source": [
    "Around 79 of the 201 trips had a distance of 1 to 2 miles. And after 5-mile mark, the number of trips fell drastically.\n",
    "\n",
    "For example, there were only 6 or 7 trips within 15 and 25 miles and 2 very long trip between 35 and 40 miles.\n",
    "\n",
    "Out of curiosity, let's see all the trips made in descending order by the miles travelled."
   ]
  },
  {
   "cell_type": "code",
   "execution_count": 37,
   "metadata": {},
   "outputs": [
    {
     "data": {
      "text/html": [
       "<div>\n",
       "<style scoped>\n",
       "    .dataframe tbody tr th:only-of-type {\n",
       "        vertical-align: middle;\n",
       "    }\n",
       "\n",
       "    .dataframe tbody tr th {\n",
       "        vertical-align: top;\n",
       "    }\n",
       "\n",
       "    .dataframe thead th {\n",
       "        text-align: right;\n",
       "    }\n",
       "</style>\n",
       "<table border=\"1\" class=\"dataframe\">\n",
       "  <thead>\n",
       "    <tr style=\"text-align: right;\">\n",
       "      <th></th>\n",
       "      <th>START_DATE</th>\n",
       "      <th>TIME_OF_DAY</th>\n",
       "      <th>END_DATE</th>\n",
       "      <th>CATEGORY</th>\n",
       "      <th>START</th>\n",
       "      <th>STOP</th>\n",
       "      <th>MILES</th>\n",
       "      <th>PURPOSE</th>\n",
       "    </tr>\n",
       "  </thead>\n",
       "  <tbody>\n",
       "    <tr>\n",
       "      <th>127</th>\n",
       "      <td>2016-11-20 10:27:00</td>\n",
       "      <td>Morning</td>\n",
       "      <td>2016-11-20 11:32:00</td>\n",
       "      <td>Business</td>\n",
       "      <td>Cary</td>\n",
       "      <td>Cary</td>\n",
       "      <td>39.2</td>\n",
       "      <td>Between Offices</td>\n",
       "    </tr>\n",
       "    <tr>\n",
       "      <th>97</th>\n",
       "      <td>2016-09-30 17:39:00</td>\n",
       "      <td>Afternoon</td>\n",
       "      <td>2016-09-30 20:20:00</td>\n",
       "      <td>Business</td>\n",
       "      <td>Islamabad</td>\n",
       "      <td>Islamabad</td>\n",
       "      <td>37.7</td>\n",
       "      <td>Not Available</td>\n",
       "    </tr>\n",
       "    <tr>\n",
       "      <th>35</th>\n",
       "      <td>2016-02-20 14:50:00</td>\n",
       "      <td>Afternoon</td>\n",
       "      <td>2016-02-20 15:54:00</td>\n",
       "      <td>Business</td>\n",
       "      <td>R?walpindi</td>\n",
       "      <td>R?walpindi</td>\n",
       "      <td>23.1</td>\n",
       "      <td>Meeting</td>\n",
       "    </tr>\n",
       "    <tr>\n",
       "      <th>6</th>\n",
       "      <td>2016-01-14 16:29:00</td>\n",
       "      <td>Afternoon</td>\n",
       "      <td>2016-01-14 17:05:00</td>\n",
       "      <td>Business</td>\n",
       "      <td>Houston</td>\n",
       "      <td>Houston</td>\n",
       "      <td>21.9</td>\n",
       "      <td>Customer Visit</td>\n",
       "    </tr>\n",
       "    <tr>\n",
       "      <th>155</th>\n",
       "      <td>2016-12-09 22:03:00</td>\n",
       "      <td>Night</td>\n",
       "      <td>2016-12-09 22:57:00</td>\n",
       "      <td>Business</td>\n",
       "      <td>Cary</td>\n",
       "      <td>Cary</td>\n",
       "      <td>18.9</td>\n",
       "      <td>Customer Visit</td>\n",
       "    </tr>\n",
       "    <tr>\n",
       "      <th>...</th>\n",
       "      <td>...</td>\n",
       "      <td>...</td>\n",
       "      <td>...</td>\n",
       "      <td>...</td>\n",
       "      <td>...</td>\n",
       "      <td>...</td>\n",
       "      <td>...</td>\n",
       "      <td>...</td>\n",
       "    </tr>\n",
       "    <tr>\n",
       "      <th>68</th>\n",
       "      <td>2016-07-05 16:48:00</td>\n",
       "      <td>Afternoon</td>\n",
       "      <td>2016-07-05 16:52:00</td>\n",
       "      <td>Business</td>\n",
       "      <td>Whitebridge</td>\n",
       "      <td>Whitebridge</td>\n",
       "      <td>0.6</td>\n",
       "      <td>Errand/Supplies</td>\n",
       "    </tr>\n",
       "    <tr>\n",
       "      <th>174</th>\n",
       "      <td>2016-12-24 22:04:00</td>\n",
       "      <td>Night</td>\n",
       "      <td>2016-12-24 22:09:00</td>\n",
       "      <td>Business</td>\n",
       "      <td>Lahore</td>\n",
       "      <td>Lahore</td>\n",
       "      <td>0.6</td>\n",
       "      <td>Errand/Supplies</td>\n",
       "    </tr>\n",
       "    <tr>\n",
       "      <th>175</th>\n",
       "      <td>2016-12-25 00:10:00</td>\n",
       "      <td>Late Night</td>\n",
       "      <td>2016-12-25 00:14:00</td>\n",
       "      <td>Business</td>\n",
       "      <td>Lahore</td>\n",
       "      <td>Lahore</td>\n",
       "      <td>0.6</td>\n",
       "      <td>Errand/Supplies</td>\n",
       "    </tr>\n",
       "    <tr>\n",
       "      <th>29</th>\n",
       "      <td>2016-02-17 16:38:00</td>\n",
       "      <td>Afternoon</td>\n",
       "      <td>2016-02-17 16:43:00</td>\n",
       "      <td>Business</td>\n",
       "      <td>Katunayaka</td>\n",
       "      <td>Katunayaka</td>\n",
       "      <td>0.5</td>\n",
       "      <td>Errand/Supplies</td>\n",
       "    </tr>\n",
       "    <tr>\n",
       "      <th>12</th>\n",
       "      <td>2016-01-26 17:27:00</td>\n",
       "      <td>Afternoon</td>\n",
       "      <td>2016-01-26 17:29:00</td>\n",
       "      <td>Business</td>\n",
       "      <td>Cary</td>\n",
       "      <td>Cary</td>\n",
       "      <td>0.5</td>\n",
       "      <td>Errand/Supplies</td>\n",
       "    </tr>\n",
       "  </tbody>\n",
       "</table>\n",
       "<p>202 rows × 8 columns</p>\n",
       "</div>"
      ],
      "text/plain": [
       "             START_DATE TIME_OF_DAY            END_DATE  CATEGORY  \\\n",
       "127 2016-11-20 10:27:00     Morning 2016-11-20 11:32:00  Business   \n",
       "97  2016-09-30 17:39:00   Afternoon 2016-09-30 20:20:00  Business   \n",
       "35  2016-02-20 14:50:00   Afternoon 2016-02-20 15:54:00  Business   \n",
       "6   2016-01-14 16:29:00   Afternoon 2016-01-14 17:05:00  Business   \n",
       "155 2016-12-09 22:03:00       Night 2016-12-09 22:57:00  Business   \n",
       "..                  ...         ...                 ...       ...   \n",
       "68  2016-07-05 16:48:00   Afternoon 2016-07-05 16:52:00  Business   \n",
       "174 2016-12-24 22:04:00       Night 2016-12-24 22:09:00  Business   \n",
       "175 2016-12-25 00:10:00  Late Night 2016-12-25 00:14:00  Business   \n",
       "29  2016-02-17 16:38:00   Afternoon 2016-02-17 16:43:00  Business   \n",
       "12  2016-01-26 17:27:00   Afternoon 2016-01-26 17:29:00  Business   \n",
       "\n",
       "           START         STOP  MILES          PURPOSE  \n",
       "127         Cary         Cary   39.2  Between Offices  \n",
       "97     Islamabad    Islamabad   37.7    Not Available  \n",
       "35    R?walpindi   R?walpindi   23.1          Meeting  \n",
       "6        Houston      Houston   21.9   Customer Visit  \n",
       "155         Cary         Cary   18.9   Customer Visit  \n",
       "..           ...          ...    ...              ...  \n",
       "68   Whitebridge  Whitebridge    0.6  Errand/Supplies  \n",
       "174       Lahore       Lahore    0.6  Errand/Supplies  \n",
       "175       Lahore       Lahore    0.6  Errand/Supplies  \n",
       "29    Katunayaka   Katunayaka    0.5  Errand/Supplies  \n",
       "12          Cary         Cary    0.5  Errand/Supplies  \n",
       "\n",
       "[202 rows x 8 columns]"
      ]
     },
     "execution_count": 37,
     "metadata": {},
     "output_type": "execute_result"
    }
   ],
   "source": [
    "same_dest_sorted = same_dest_known.sort_values(by='MILES', ascending=False)\n",
    "same_dest_sorted"
   ]
  },
  {
   "cell_type": "markdown",
   "metadata": {},
   "source": [
    "Now, let's check out the remaining trips without different start and end points."
   ]
  },
  {
   "cell_type": "code",
   "execution_count": 28,
   "metadata": {},
   "outputs": [
    {
     "data": {
      "application/vnd.plotly.v1+json": {
       "config": {
        "plotlyServerURL": "https://plot.ly"
       },
       "data": [
        {
         "branchvalues": "total",
         "domain": {
          "x": [
           0,
           1
          ],
          "y": [
           0,
           1
          ]
         },
         "hovertemplate": "labels=%{label}<br>count=%{value}<br>parent=%{parent}<br>id=%{id}<extra></extra>",
         "ids": [
          "Cory/Agnew",
          "Renaissance/Agnew",
          "Midtown/Alief",
          "Bryson City/Almond",
          "Cary/Apex",
          "Durham/Apex",
          "Chalmette/Arabi",
          "Washington/Arlington",
          "Whitebridge/Arlington Park at Amberly",
          "South Congress/Arts District",
          "Bryson City/Asheville",
          "Winston Salem/Asheville",
          "Boone/Banner Elk",
          "Elk Park/Banner Elk",
          "Morrisville/Banner Elk",
          "Downtown/Bay Farm Island",
          "Redmond/Bellevue",
          "El Cerrito/Berkeley",
          "Emeryville/Berkeley",
          "Menlo Park/Berkeley",
          "Mountain View/Berkeley",
          "Oakland/Berkeley",
          "San Francisco/Berkeley",
          "Santa Clara/Berkeley",
          "Banner Elk/Boone",
          "Newland/Boone",
          "Sharpstown/Briar Meadow",
          "Almond/Bryson City",
          "Topton/Bryson City",
          "Edgehill Farms/Burtrose",
          "Whitebridge/Burtrose",
          "CBD/Bywater",
          "Pontchartrain Beach/CBD",
          "St Thomas/CBD",
          "Mcvan/Capitol One",
          "University District/Capitol One",
          "Apex/Cary",
          "Boone/Cary",
          "Chapel Hill/Cary",
          "Durham/Cary",
          "Eagle Rock/Cary",
          "Florence/Cary",
          "Fuquay-Varina/Cary",
          "Holly Springs/Cary",
          "Mebane/Cary",
          "Morrisville/Cary",
          "Raleigh/Cary",
          "Wake Forest/Cary",
          "Meredith/Cedar Hill",
          "College Avenue/Central",
          "Downtown/Central",
          "Southside/Central",
          "West Berkeley/Central",
          "New Orleans/Chalmette",
          "Cary/Chapel Hill",
          "Townes at Everett Crossing/Chessington",
          "Whitebridge/Chessington",
          "Central/College Avenue",
          "Unknown Location/Colombo",
          "Kalorama Triangle/Columbia Heights",
          "The Drag/Congress Ave District",
          "West University/Congress Ave District",
          "The Drag/Convention Center District",
          "Agnew/Cory",
          "New Orleans/Covington",
          "North Austin/Coxville",
          "Kissimmee/Daytona Beach",
          "Fayetteville Street/Depot Historic District",
          "Congress Ave District/Downtown",
          "Gulfton/Downtown",
          "Kalorama Triangle/Downtown",
          "Midtown/Downtown",
          "NOMA/Downtown",
          "Red River District/Downtown",
          "South/Downtown",
          "Cary/Durham",
          "Apex/Eagle Rock",
          "Jackson Heights/East Elmhurst",
          "Midtown/East Harlem",
          "Farmington Woods/Edgehill Farms",
          "Heritage Pines/Edgehill Farms",
          "Whitebridge/Edgehill Farms",
          "Berkeley/El Cerrito",
          "Banner Elk/Elk Park",
          "Berkeley/Emeryville",
          "Oakland/Emeryville",
          "San Francisco/Emeryville",
          "San Jose/Emeryville",
          "Whitebridge/Farmington Woods",
          "Storyville/Faubourg Marigny",
          "Tribeca/Financial District",
          "Ridgeland/Florence",
          "SOMISSPO/French Quarter",
          "Cary/Fuquay-Varina",
          "Houston/Galveston",
          "Port Bolivar/Galveston",
          "Katunayake/Gampaha",
          "Seaport/Gramercy-Flatiron",
          "Midtown/Greater Greenspoint",
          "Downtown/Gulfton",
          "Meredith Townes/Harden Place",
          "Topton/Hayesville",
          "Westpark Place/Hazelwood",
          "Whitebridge/Hazelwood",
          "Hudson Square/Hell's Kitchen",
          "Whitebridge/Heritage Pines",
          "Old City/Hog Island",
          "Apex/Holly Springs",
          "Cary/Holly Springs",
          "Galveston/Houston",
          "Katy/Houston",
          "Sugar Land/Houston",
          "Lower Manhattan/Hudson Square",
          "Midtown/Hudson Square",
          "Gampaha/Ilukwatta",
          "Sunnyside/Ingleside",
          "Noorpur Shahan/Islamabad",
          "R?walpindi/Islamabad",
          "Rawalpindi/Islamabad",
          "Unknown Location/Islamabad",
          "Couples Glen/Isles of Buena Vista",
          "East Elmhurst/Jackson Heights",
          "Daytona Beach/Jacksonville",
          "Latta/Jacksonville",
          "Long Island City/Jamaica",
          "New York/Jamaica",
          "Eagan Park/Jamestown Court",
          "Kalorama Triangle/K Street",
          "Columbia Heights/Kalorama Triangle",
          "Connecticut Avenue/Kalorama Triangle",
          "K Street/Kalorama Triangle",
          "Unknown Location/Kar?chi",
          "Colombo/Katunayaka",
          "Austin/Katy",
          "Metairie/Kenner",
          "New Orleans/Kenner",
          "Savon Height/Kilarney Woods",
          "Kilarney Woods/Kildaire Farms",
          "Whitebridge/Kildaire Farms",
          "Financial District/Kips Bay",
          "Jacksonville/Kissimmee",
          "Orlando/Kissimmee",
          "Unknown Location/Lahore",
          "Whitebridge/Lake Wellingborough",
          "Lower Garden District/Lakeview",
          "Cary/Latta",
          "Meredith Townes/Leesville Hollow",
          "Arlington Park at Amberly/Lexington Park at Amberly",
          "Hazelwood/Lexington Park at Amberly",
          "Stonewater/Lexington Park at Amberly",
          "New York/Long Island City",
          "CBD/Lower Garden District",
          "Hudson Square/Lower Manhattan",
          "Waverly Place/Macgregor Downs",
          "Whitebridge/Macgregor Downs",
          "Covington/Mandeville",
          "Storyville/Marigny",
          "Capitol One/Mcvan",
          "Asheville/Mebane",
          "Berkeley/Menlo Park",
          "Newark/Menlo Park",
          "Palo Alto/Menlo Park",
          "Fairmont/Meredith Townes",
          "Fayetteville Street/Meredith Townes",
          "Arabi/Metairie",
          "Kenner/Metairie",
          "Mandeville/Metairie",
          "New Orleans/Metairie",
          "Briar Meadow/Midtown",
          "Downtown/Midtown",
          "Flatiron District/Midtown",
          "Hell's Kitchen/Midtown",
          "Midtown East/Midtown",
          "Sharpstown/Midtown",
          "Washington Avenue/Midtown",
          "Midtown/Midtown East",
          "Midtown/Midtown West",
          "Cary/Morrisville",
          "Chapel Hill/Morrisville",
          "Durham/Morrisville",
          "Raleigh/Morrisville",
          "Unknown Location/Morrisville",
          "Wake Co./Morrisville",
          "Berkeley/Mountain View",
          "Kenner/New Orleans",
          "Metairie/New Orleans",
          "East Elmhurst/New York",
          "Elmhurst/New York",
          "Jamaica/New York",
          "Menlo Park/Newark",
          "Sunnyvale/Newark",
          "Banner Elk/Newland",
          "East Harlem/NoMad",
          "Islamabad/Noorpur Shahan",
          "Unknown Location/Noorpur Shahan",
          "South Congress/North Austin",
          "The Drag/North Austin",
          "West Berkeley/North Berkeley Hills",
          "West End/Northwest Rectangle",
          "Whitebridge/Northwoods",
          "Colombo/Nugegoda",
          "Berkeley/Oakland",
          "Emeryville/Oakland",
          "San Francisco/Oakland",
          "Kissimmee/Orlando",
          "West Palm Beach/Palm Beach",
          "Menlo Park/Palo Alto",
          "San Francisco/Palo Alto",
          "Savon Height/Parkway",
          "Tanglewood/Parkway",
          "Whitebridge/Parkway",
          "Old City/Parkway Museums",
          "CBD/Pontchartrain Beach",
          "Galveston/Port Bolivar",
          "Ingleside/Potrero Flats",
          "Edgehill Farms/Preston",
          "Northwoods/Preston",
          "Tanglewood/Preston",
          "Whitebridge/Preston",
          "New York/Queens",
          "New York/Queens County",
          "Islamabad/R?walpindi",
          "Unknown Location/R?walpindi",
          "Cary/Raleigh",
          "Morrisville/Raleigh",
          "Islamabad/Rawalpindi",
          "Unknown Location/Rawalpindi",
          "Downtown/Red River District",
          "Seattle/Redmond",
          "Agnew/Renaissance",
          "Jacksonville/Ridgeland",
          "Tenderloin/SOMISSPO",
          "Berkeley/San Francisco",
          "Emeryville/San Francisco",
          "Newark/San Francisco",
          "Oakland/San Francisco",
          "Berkeley/San Jose",
          "Sky Lake/Sand Lake Commons",
          "San Jose/Santa Clara",
          "Whitebridge/Savon Height",
          "Bellevue/Seattle",
          "Midtown/Sharpstown",
          "Sand Lake Commons/Sky Lake",
          "Rose Hill/Soho",
          "Central/South",
          "West Berkeley/South",
          "Southside/South Berkeley",
          "The Drag/South Congress",
          "West University/South Congress",
          "Central/Southside",
          "North Berkeley Hills/Southside",
          "South Berkeley/Southside",
          "West Berkeley/Southside",
          "South/Southwest Berkeley",
          "CBD/St Thomas",
          "Whitebridge/Stonewater",
          "Lakeview/Storyville",
          "Marigny/Storyville",
          "Houston/Sugar Land",
          "Whitebridge/Summerwinds",
          "Downtown/Sunnyside",
          "Palo Alto/Sunnyvale",
          "Northwoods/Tanglewood",
          "Whitebridge/Tanglewood",
          "SOMISSPO/Tenderloin",
          "Coxville/The Drag",
          "Downtown/The Drag",
          "Georgian Acres/The Drag",
          "South Congress/The Drag",
          "Asheville/Topton",
          "Hayesville/Topton",
          "Soho/Tribeca",
          "Medical Centre/Tudor City",
          "Fayetteville Street/Umstead",
          "Capitol One/University District",
          "Cary/Unknown Location",
          "Islamabad/Unknown Location",
          "Kar?chi/Unknown Location",
          "Karachi/Unknown Location",
          "Katunayaka/Unknown Location",
          "Lahore/Unknown Location",
          "Noorpur Shahan/Unknown Location",
          "Nugegoda/Unknown Location",
          "Oakland/Unknown Location",
          "R?walpindi/Unknown Location",
          "Rawalpindi/Unknown Location",
          "Couples Glen/Vista East",
          "Cary/Wake Co.",
          "Cary/Wake Forest",
          "Eastgate/Walnut Terrace",
          "Arlington/Washington",
          "Midtown/Washington Avenue",
          "Whitebridge/Waverly Place",
          "Whitebridge/Wayne Ridge",
          "Central/West Berkeley",
          "Downtown/West Berkeley",
          "Southside/West Berkeley",
          "Fort Pierce/West Palm Beach",
          "Convention Center District/West University",
          "East Austin/West University",
          "Hazelwood/Weston",
          "Huntington Woods/Weston",
          "Lexington Park at Amberly/Westpark Place",
          "Preston/Westpark Place",
          "Whitebridge/Westpark Place",
          "Burtrose/Whitebridge",
          "Chessington/Whitebridge",
          "Edgehill Farms/Whitebridge",
          "Farmington Woods/Whitebridge",
          "Hazelwood/Whitebridge",
          "Heritage Pines/Whitebridge",
          "Kilarney Woods/Whitebridge",
          "Krendle Woods/Whitebridge",
          "Lake Wellingborough/Whitebridge",
          "Lexington Park at Amberly/Whitebridge",
          "Northwoods/Whitebridge",
          "Parkway/Whitebridge",
          "Preston/Whitebridge",
          "Savon Height/Whitebridge",
          "Summerwinds/Whitebridge",
          "Tanglewood/Whitebridge",
          "Waverly Place/Whitebridge",
          "Wayne Ridge/Whitebridge",
          "Westpark Place/Whitebridge",
          "Whitebridge/Williamsburg Manor",
          "Cary/Winston Salem",
          "Agnew",
          "Almond",
          "Apex",
          "Arabi",
          "Arlington",
          "Arlington Park at Amberly",
          "Asheville",
          "Austin",
          "Banner Elk",
          "Bellevue",
          "Berkeley",
          "Boone",
          "Briar Meadow",
          "Bryson City",
          "Burtrose",
          "CBD",
          "Capitol One",
          "Cary",
          "Central",
          "Chalmette",
          "Chapel Hill",
          "Chessington",
          "College Avenue",
          "Colombo",
          "Columbia Heights",
          "Congress Ave District",
          "Connecticut Avenue",
          "Convention Center District",
          "Cory",
          "Couples Glen",
          "Covington",
          "Coxville",
          "Daytona Beach",
          "Downtown",
          "Durham",
          "Eagan Park",
          "Eagle Rock",
          "East Austin",
          "East Elmhurst",
          "East Harlem",
          "Eastgate",
          "Edgehill Farms",
          "El Cerrito",
          "Elk Park",
          "Elmhurst",
          "Emeryville",
          "Fairmont",
          "Farmington Woods",
          "Fayetteville Street",
          "Financial District",
          "Flatiron District",
          "Florence",
          "Fort Pierce",
          "Fuquay-Varina",
          "Galveston",
          "Gampaha",
          "Georgian Acres",
          "Gulfton",
          "Hayesville",
          "Hazelwood",
          "Hell's Kitchen",
          "Heritage Pines",
          "Holly Springs",
          "Houston",
          "Hudson Square",
          "Huntington Woods",
          "Ingleside",
          "Islamabad",
          "Jackson Heights",
          "Jacksonville",
          "Jamaica",
          "K Street",
          "Kalorama Triangle",
          "Kar?chi",
          "Karachi",
          "Katunayaka",
          "Katunayake",
          "Katy",
          "Kenner",
          "Kilarney Woods",
          "Kissimmee",
          "Krendle Woods",
          "Lahore",
          "Lake Wellingborough",
          "Lakeview",
          "Latta",
          "Lexington Park at Amberly",
          "Long Island City",
          "Lower Garden District",
          "Lower Manhattan",
          "Mandeville",
          "Marigny",
          "Mcvan",
          "Mebane",
          "Medical Centre",
          "Menlo Park",
          "Meredith",
          "Meredith Townes",
          "Metairie",
          "Midtown",
          "Midtown East",
          "Morrisville",
          "Mountain View",
          "NOMA",
          "New Orleans",
          "New York",
          "Newark",
          "Newland",
          "Noorpur Shahan",
          "North Austin",
          "North Berkeley Hills",
          "Northwoods",
          "Nugegoda",
          "Oakland",
          "Old City",
          "Orlando",
          "Palo Alto",
          "Parkway",
          "Pontchartrain Beach",
          "Port Bolivar",
          "Preston",
          "R?walpindi",
          "Raleigh",
          "Rawalpindi",
          "Red River District",
          "Redmond",
          "Renaissance",
          "Ridgeland",
          "Rose Hill",
          "SOMISSPO",
          "San Francisco",
          "San Jose",
          "Sand Lake Commons",
          "Santa Clara",
          "Savon Height",
          "Seaport",
          "Seattle",
          "Sharpstown",
          "Sky Lake",
          "Soho",
          "South",
          "South Berkeley",
          "South Congress",
          "Southside",
          "St Thomas",
          "Stonewater",
          "Storyville",
          "Sugar Land",
          "Summerwinds",
          "Sunnyside",
          "Sunnyvale",
          "Tanglewood",
          "Tenderloin",
          "The Drag",
          "Topton",
          "Townes at Everett Crossing",
          "Tribeca",
          "University District",
          "Unknown Location",
          "Wake Co.",
          "Wake Forest",
          "Washington",
          "Washington Avenue",
          "Waverly Place",
          "Wayne Ridge",
          "West Berkeley",
          "West End",
          "West Palm Beach",
          "West University",
          "Westpark Place",
          "Whitebridge",
          "Winston Salem"
         ],
         "labels": [
          "Agnew",
          "Agnew",
          "Alief",
          "Almond",
          "Apex",
          "Apex",
          "Arabi",
          "Arlington",
          "Arlington Park at Amberly",
          "Arts District",
          "Asheville",
          "Asheville",
          "Banner Elk",
          "Banner Elk",
          "Banner Elk",
          "Bay Farm Island",
          "Bellevue",
          "Berkeley",
          "Berkeley",
          "Berkeley",
          "Berkeley",
          "Berkeley",
          "Berkeley",
          "Berkeley",
          "Boone",
          "Boone",
          "Briar Meadow",
          "Bryson City",
          "Bryson City",
          "Burtrose",
          "Burtrose",
          "Bywater",
          "CBD",
          "CBD",
          "Capitol One",
          "Capitol One",
          "Cary",
          "Cary",
          "Cary",
          "Cary",
          "Cary",
          "Cary",
          "Cary",
          "Cary",
          "Cary",
          "Cary",
          "Cary",
          "Cary",
          "Cedar Hill",
          "Central",
          "Central",
          "Central",
          "Central",
          "Chalmette",
          "Chapel Hill",
          "Chessington",
          "Chessington",
          "College Avenue",
          "Colombo",
          "Columbia Heights",
          "Congress Ave District",
          "Congress Ave District",
          "Convention Center District",
          "Cory",
          "Covington",
          "Coxville",
          "Daytona Beach",
          "Depot Historic District",
          "Downtown",
          "Downtown",
          "Downtown",
          "Downtown",
          "Downtown",
          "Downtown",
          "Downtown",
          "Durham",
          "Eagle Rock",
          "East Elmhurst",
          "East Harlem",
          "Edgehill Farms",
          "Edgehill Farms",
          "Edgehill Farms",
          "El Cerrito",
          "Elk Park",
          "Emeryville",
          "Emeryville",
          "Emeryville",
          "Emeryville",
          "Farmington Woods",
          "Faubourg Marigny",
          "Financial District",
          "Florence",
          "French Quarter",
          "Fuquay-Varina",
          "Galveston",
          "Galveston",
          "Gampaha",
          "Gramercy-Flatiron",
          "Greater Greenspoint",
          "Gulfton",
          "Harden Place",
          "Hayesville",
          "Hazelwood",
          "Hazelwood",
          "Hell's Kitchen",
          "Heritage Pines",
          "Hog Island",
          "Holly Springs",
          "Holly Springs",
          "Houston",
          "Houston",
          "Houston",
          "Hudson Square",
          "Hudson Square",
          "Ilukwatta",
          "Ingleside",
          "Islamabad",
          "Islamabad",
          "Islamabad",
          "Islamabad",
          "Isles of Buena Vista",
          "Jackson Heights",
          "Jacksonville",
          "Jacksonville",
          "Jamaica",
          "Jamaica",
          "Jamestown Court",
          "K Street",
          "Kalorama Triangle",
          "Kalorama Triangle",
          "Kalorama Triangle",
          "Kar?chi",
          "Katunayaka",
          "Katy",
          "Kenner",
          "Kenner",
          "Kilarney Woods",
          "Kildaire Farms",
          "Kildaire Farms",
          "Kips Bay",
          "Kissimmee",
          "Kissimmee",
          "Lahore",
          "Lake Wellingborough",
          "Lakeview",
          "Latta",
          "Leesville Hollow",
          "Lexington Park at Amberly",
          "Lexington Park at Amberly",
          "Lexington Park at Amberly",
          "Long Island City",
          "Lower Garden District",
          "Lower Manhattan",
          "Macgregor Downs",
          "Macgregor Downs",
          "Mandeville",
          "Marigny",
          "Mcvan",
          "Mebane",
          "Menlo Park",
          "Menlo Park",
          "Menlo Park",
          "Meredith Townes",
          "Meredith Townes",
          "Metairie",
          "Metairie",
          "Metairie",
          "Metairie",
          "Midtown",
          "Midtown",
          "Midtown",
          "Midtown",
          "Midtown",
          "Midtown",
          "Midtown",
          "Midtown East",
          "Midtown West",
          "Morrisville",
          "Morrisville",
          "Morrisville",
          "Morrisville",
          "Morrisville",
          "Morrisville",
          "Mountain View",
          "New Orleans",
          "New Orleans",
          "New York",
          "New York",
          "New York",
          "Newark",
          "Newark",
          "Newland",
          "NoMad",
          "Noorpur Shahan",
          "Noorpur Shahan",
          "North Austin",
          "North Austin",
          "North Berkeley Hills",
          "Northwest Rectangle",
          "Northwoods",
          "Nugegoda",
          "Oakland",
          "Oakland",
          "Oakland",
          "Orlando",
          "Palm Beach",
          "Palo Alto",
          "Palo Alto",
          "Parkway",
          "Parkway",
          "Parkway",
          "Parkway Museums",
          "Pontchartrain Beach",
          "Port Bolivar",
          "Potrero Flats",
          "Preston",
          "Preston",
          "Preston",
          "Preston",
          "Queens",
          "Queens County",
          "R?walpindi",
          "R?walpindi",
          "Raleigh",
          "Raleigh",
          "Rawalpindi",
          "Rawalpindi",
          "Red River District",
          "Redmond",
          "Renaissance",
          "Ridgeland",
          "SOMISSPO",
          "San Francisco",
          "San Francisco",
          "San Francisco",
          "San Francisco",
          "San Jose",
          "Sand Lake Commons",
          "Santa Clara",
          "Savon Height",
          "Seattle",
          "Sharpstown",
          "Sky Lake",
          "Soho",
          "South",
          "South",
          "South Berkeley",
          "South Congress",
          "South Congress",
          "Southside",
          "Southside",
          "Southside",
          "Southside",
          "Southwest Berkeley",
          "St Thomas",
          "Stonewater",
          "Storyville",
          "Storyville",
          "Sugar Land",
          "Summerwinds",
          "Sunnyside",
          "Sunnyvale",
          "Tanglewood",
          "Tanglewood",
          "Tenderloin",
          "The Drag",
          "The Drag",
          "The Drag",
          "The Drag",
          "Topton",
          "Topton",
          "Tribeca",
          "Tudor City",
          "Umstead",
          "University District",
          "Unknown Location",
          "Unknown Location",
          "Unknown Location",
          "Unknown Location",
          "Unknown Location",
          "Unknown Location",
          "Unknown Location",
          "Unknown Location",
          "Unknown Location",
          "Unknown Location",
          "Unknown Location",
          "Vista East",
          "Wake Co.",
          "Wake Forest",
          "Walnut Terrace",
          "Washington",
          "Washington Avenue",
          "Waverly Place",
          "Wayne Ridge",
          "West Berkeley",
          "West Berkeley",
          "West Berkeley",
          "West Palm Beach",
          "West University",
          "West University",
          "Weston",
          "Weston",
          "Westpark Place",
          "Westpark Place",
          "Westpark Place",
          "Whitebridge",
          "Whitebridge",
          "Whitebridge",
          "Whitebridge",
          "Whitebridge",
          "Whitebridge",
          "Whitebridge",
          "Whitebridge",
          "Whitebridge",
          "Whitebridge",
          "Whitebridge",
          "Whitebridge",
          "Whitebridge",
          "Whitebridge",
          "Whitebridge",
          "Whitebridge",
          "Whitebridge",
          "Whitebridge",
          "Whitebridge",
          "Williamsburg Manor",
          "Winston Salem",
          "Agnew",
          "Almond",
          "Apex",
          "Arabi",
          "Arlington",
          "Arlington Park at Amberly",
          "Asheville",
          "Austin",
          "Banner Elk",
          "Bellevue",
          "Berkeley",
          "Boone",
          "Briar Meadow",
          "Bryson City",
          "Burtrose",
          "CBD",
          "Capitol One",
          "Cary",
          "Central",
          "Chalmette",
          "Chapel Hill",
          "Chessington",
          "College Avenue",
          "Colombo",
          "Columbia Heights",
          "Congress Ave District",
          "Connecticut Avenue",
          "Convention Center District",
          "Cory",
          "Couples Glen",
          "Covington",
          "Coxville",
          "Daytona Beach",
          "Downtown",
          "Durham",
          "Eagan Park",
          "Eagle Rock",
          "East Austin",
          "East Elmhurst",
          "East Harlem",
          "Eastgate",
          "Edgehill Farms",
          "El Cerrito",
          "Elk Park",
          "Elmhurst",
          "Emeryville",
          "Fairmont",
          "Farmington Woods",
          "Fayetteville Street",
          "Financial District",
          "Flatiron District",
          "Florence",
          "Fort Pierce",
          "Fuquay-Varina",
          "Galveston",
          "Gampaha",
          "Georgian Acres",
          "Gulfton",
          "Hayesville",
          "Hazelwood",
          "Hell's Kitchen",
          "Heritage Pines",
          "Holly Springs",
          "Houston",
          "Hudson Square",
          "Huntington Woods",
          "Ingleside",
          "Islamabad",
          "Jackson Heights",
          "Jacksonville",
          "Jamaica",
          "K Street",
          "Kalorama Triangle",
          "Kar?chi",
          "Karachi",
          "Katunayaka",
          "Katunayake",
          "Katy",
          "Kenner",
          "Kilarney Woods",
          "Kissimmee",
          "Krendle Woods",
          "Lahore",
          "Lake Wellingborough",
          "Lakeview",
          "Latta",
          "Lexington Park at Amberly",
          "Long Island City",
          "Lower Garden District",
          "Lower Manhattan",
          "Mandeville",
          "Marigny",
          "Mcvan",
          "Mebane",
          "Medical Centre",
          "Menlo Park",
          "Meredith",
          "Meredith Townes",
          "Metairie",
          "Midtown",
          "Midtown East",
          "Morrisville",
          "Mountain View",
          "NOMA",
          "New Orleans",
          "New York",
          "Newark",
          "Newland",
          "Noorpur Shahan",
          "North Austin",
          "North Berkeley Hills",
          "Northwoods",
          "Nugegoda",
          "Oakland",
          "Old City",
          "Orlando",
          "Palo Alto",
          "Parkway",
          "Pontchartrain Beach",
          "Port Bolivar",
          "Preston",
          "R?walpindi",
          "Raleigh",
          "Rawalpindi",
          "Red River District",
          "Redmond",
          "Renaissance",
          "Ridgeland",
          "Rose Hill",
          "SOMISSPO",
          "San Francisco",
          "San Jose",
          "Sand Lake Commons",
          "Santa Clara",
          "Savon Height",
          "Seaport",
          "Seattle",
          "Sharpstown",
          "Sky Lake",
          "Soho",
          "South",
          "South Berkeley",
          "South Congress",
          "Southside",
          "St Thomas",
          "Stonewater",
          "Storyville",
          "Sugar Land",
          "Summerwinds",
          "Sunnyside",
          "Sunnyvale",
          "Tanglewood",
          "Tenderloin",
          "The Drag",
          "Topton",
          "Townes at Everett Crossing",
          "Tribeca",
          "University District",
          "Unknown Location",
          "Wake Co.",
          "Wake Forest",
          "Washington",
          "Washington Avenue",
          "Waverly Place",
          "Wayne Ridge",
          "West Berkeley",
          "West End",
          "West Palm Beach",
          "West University",
          "Westpark Place",
          "Whitebridge",
          "Winston Salem"
         ],
         "name": "",
         "parents": [
          "Cory",
          "Renaissance",
          "Midtown",
          "Bryson City",
          "Cary",
          "Durham",
          "Chalmette",
          "Washington",
          "Whitebridge",
          "South Congress",
          "Bryson City",
          "Winston Salem",
          "Boone",
          "Elk Park",
          "Morrisville",
          "Downtown",
          "Redmond",
          "El Cerrito",
          "Emeryville",
          "Menlo Park",
          "Mountain View",
          "Oakland",
          "San Francisco",
          "Santa Clara",
          "Banner Elk",
          "Newland",
          "Sharpstown",
          "Almond",
          "Topton",
          "Edgehill Farms",
          "Whitebridge",
          "CBD",
          "Pontchartrain Beach",
          "St Thomas",
          "Mcvan",
          "University District",
          "Apex",
          "Boone",
          "Chapel Hill",
          "Durham",
          "Eagle Rock",
          "Florence",
          "Fuquay-Varina",
          "Holly Springs",
          "Mebane",
          "Morrisville",
          "Raleigh",
          "Wake Forest",
          "Meredith",
          "College Avenue",
          "Downtown",
          "Southside",
          "West Berkeley",
          "New Orleans",
          "Cary",
          "Townes at Everett Crossing",
          "Whitebridge",
          "Central",
          "Unknown Location",
          "Kalorama Triangle",
          "The Drag",
          "West University",
          "The Drag",
          "Agnew",
          "New Orleans",
          "North Austin",
          "Kissimmee",
          "Fayetteville Street",
          "Congress Ave District",
          "Gulfton",
          "Kalorama Triangle",
          "Midtown",
          "NOMA",
          "Red River District",
          "South",
          "Cary",
          "Apex",
          "Jackson Heights",
          "Midtown",
          "Farmington Woods",
          "Heritage Pines",
          "Whitebridge",
          "Berkeley",
          "Banner Elk",
          "Berkeley",
          "Oakland",
          "San Francisco",
          "San Jose",
          "Whitebridge",
          "Storyville",
          "Tribeca",
          "Ridgeland",
          "SOMISSPO",
          "Cary",
          "Houston",
          "Port Bolivar",
          "Katunayake",
          "Seaport",
          "Midtown",
          "Downtown",
          "Meredith Townes",
          "Topton",
          "Westpark Place",
          "Whitebridge",
          "Hudson Square",
          "Whitebridge",
          "Old City",
          "Apex",
          "Cary",
          "Galveston",
          "Katy",
          "Sugar Land",
          "Lower Manhattan",
          "Midtown",
          "Gampaha",
          "Sunnyside",
          "Noorpur Shahan",
          "R?walpindi",
          "Rawalpindi",
          "Unknown Location",
          "Couples Glen",
          "East Elmhurst",
          "Daytona Beach",
          "Latta",
          "Long Island City",
          "New York",
          "Eagan Park",
          "Kalorama Triangle",
          "Columbia Heights",
          "Connecticut Avenue",
          "K Street",
          "Unknown Location",
          "Colombo",
          "Austin",
          "Metairie",
          "New Orleans",
          "Savon Height",
          "Kilarney Woods",
          "Whitebridge",
          "Financial District",
          "Jacksonville",
          "Orlando",
          "Unknown Location",
          "Whitebridge",
          "Lower Garden District",
          "Cary",
          "Meredith Townes",
          "Arlington Park at Amberly",
          "Hazelwood",
          "Stonewater",
          "New York",
          "CBD",
          "Hudson Square",
          "Waverly Place",
          "Whitebridge",
          "Covington",
          "Storyville",
          "Capitol One",
          "Asheville",
          "Berkeley",
          "Newark",
          "Palo Alto",
          "Fairmont",
          "Fayetteville Street",
          "Arabi",
          "Kenner",
          "Mandeville",
          "New Orleans",
          "Briar Meadow",
          "Downtown",
          "Flatiron District",
          "Hell's Kitchen",
          "Midtown East",
          "Sharpstown",
          "Washington Avenue",
          "Midtown",
          "Midtown",
          "Cary",
          "Chapel Hill",
          "Durham",
          "Raleigh",
          "Unknown Location",
          "Wake Co.",
          "Berkeley",
          "Kenner",
          "Metairie",
          "East Elmhurst",
          "Elmhurst",
          "Jamaica",
          "Menlo Park",
          "Sunnyvale",
          "Banner Elk",
          "East Harlem",
          "Islamabad",
          "Unknown Location",
          "South Congress",
          "The Drag",
          "West Berkeley",
          "West End",
          "Whitebridge",
          "Colombo",
          "Berkeley",
          "Emeryville",
          "San Francisco",
          "Kissimmee",
          "West Palm Beach",
          "Menlo Park",
          "San Francisco",
          "Savon Height",
          "Tanglewood",
          "Whitebridge",
          "Old City",
          "CBD",
          "Galveston",
          "Ingleside",
          "Edgehill Farms",
          "Northwoods",
          "Tanglewood",
          "Whitebridge",
          "New York",
          "New York",
          "Islamabad",
          "Unknown Location",
          "Cary",
          "Morrisville",
          "Islamabad",
          "Unknown Location",
          "Downtown",
          "Seattle",
          "Agnew",
          "Jacksonville",
          "Tenderloin",
          "Berkeley",
          "Emeryville",
          "Newark",
          "Oakland",
          "Berkeley",
          "Sky Lake",
          "San Jose",
          "Whitebridge",
          "Bellevue",
          "Midtown",
          "Sand Lake Commons",
          "Rose Hill",
          "Central",
          "West Berkeley",
          "Southside",
          "The Drag",
          "West University",
          "Central",
          "North Berkeley Hills",
          "South Berkeley",
          "West Berkeley",
          "South",
          "CBD",
          "Whitebridge",
          "Lakeview",
          "Marigny",
          "Houston",
          "Whitebridge",
          "Downtown",
          "Palo Alto",
          "Northwoods",
          "Whitebridge",
          "SOMISSPO",
          "Coxville",
          "Downtown",
          "Georgian Acres",
          "South Congress",
          "Asheville",
          "Hayesville",
          "Soho",
          "Medical Centre",
          "Fayetteville Street",
          "Capitol One",
          "Cary",
          "Islamabad",
          "Kar?chi",
          "Karachi",
          "Katunayaka",
          "Lahore",
          "Noorpur Shahan",
          "Nugegoda",
          "Oakland",
          "R?walpindi",
          "Rawalpindi",
          "Couples Glen",
          "Cary",
          "Cary",
          "Eastgate",
          "Arlington",
          "Midtown",
          "Whitebridge",
          "Whitebridge",
          "Central",
          "Downtown",
          "Southside",
          "Fort Pierce",
          "Convention Center District",
          "East Austin",
          "Hazelwood",
          "Huntington Woods",
          "Lexington Park at Amberly",
          "Preston",
          "Whitebridge",
          "Burtrose",
          "Chessington",
          "Edgehill Farms",
          "Farmington Woods",
          "Hazelwood",
          "Heritage Pines",
          "Kilarney Woods",
          "Krendle Woods",
          "Lake Wellingborough",
          "Lexington Park at Amberly",
          "Northwoods",
          "Parkway",
          "Preston",
          "Savon Height",
          "Summerwinds",
          "Tanglewood",
          "Waverly Place",
          "Wayne Ridge",
          "Westpark Place",
          "Whitebridge",
          "Cary",
          "",
          "",
          "",
          "",
          "",
          "",
          "",
          "",
          "",
          "",
          "",
          "",
          "",
          "",
          "",
          "",
          "",
          "",
          "",
          "",
          "",
          "",
          "",
          "",
          "",
          "",
          "",
          "",
          "",
          "",
          "",
          "",
          "",
          "",
          "",
          "",
          "",
          "",
          "",
          "",
          "",
          "",
          "",
          "",
          "",
          "",
          "",
          "",
          "",
          "",
          "",
          "",
          "",
          "",
          "",
          "",
          "",
          "",
          "",
          "",
          "",
          "",
          "",
          "",
          "",
          "",
          "",
          "",
          "",
          "",
          "",
          "",
          "",
          "",
          "",
          "",
          "",
          "",
          "",
          "",
          "",
          "",
          "",
          "",
          "",
          "",
          "",
          "",
          "",
          "",
          "",
          "",
          "",
          "",
          "",
          "",
          "",
          "",
          "",
          "",
          "",
          "",
          "",
          "",
          "",
          "",
          "",
          "",
          "",
          "",
          "",
          "",
          "",
          "",
          "",
          "",
          "",
          "",
          "",
          "",
          "",
          "",
          "",
          "",
          "",
          "",
          "",
          "",
          "",
          "",
          "",
          "",
          "",
          "",
          "",
          "",
          "",
          "",
          "",
          "",
          "",
          "",
          "",
          "",
          "",
          "",
          "",
          "",
          "",
          "",
          "",
          "",
          "",
          "",
          "",
          "",
          "",
          "",
          "",
          "",
          "",
          "",
          "",
          "",
          "",
          "",
          "",
          "",
          "",
          "",
          "",
          ""
         ],
         "type": "sunburst",
         "values": [
          1,
          2,
          1,
          1,
          14,
          1,
          1,
          1,
          1,
          1,
          1,
          1,
          1,
          1,
          1,
          1,
          1,
          1,
          6,
          1,
          1,
          2,
          4,
          1,
          1,
          1,
          1,
          1,
          1,
          1,
          1,
          1,
          1,
          1,
          1,
          1,
          13,
          1,
          1,
          31,
          1,
          1,
          1,
          2,
          1,
          75,
          21,
          1,
          1,
          1,
          1,
          2,
          2,
          1,
          1,
          1,
          1,
          1,
          2,
          1,
          2,
          1,
          2,
          1,
          1,
          1,
          1,
          1,
          1,
          1,
          1,
          1,
          1,
          1,
          1,
          36,
          1,
          1,
          1,
          1,
          1,
          8,
          1,
          1,
          5,
          2,
          1,
          1,
          1,
          1,
          1,
          1,
          1,
          1,
          1,
          1,
          1,
          1,
          1,
          1,
          1,
          1,
          1,
          4,
          1,
          2,
          1,
          1,
          1,
          1,
          1,
          1,
          1,
          1,
          1,
          1,
          3,
          1,
          1,
          28,
          1,
          1,
          1,
          1,
          1,
          1,
          1,
          1,
          1,
          1,
          2,
          6,
          1,
          1,
          2,
          6,
          1,
          1,
          1,
          1,
          1,
          7,
          9,
          1,
          1,
          1,
          2,
          1,
          1,
          1,
          1,
          1,
          1,
          1,
          1,
          1,
          1,
          1,
          1,
          1,
          1,
          1,
          1,
          1,
          1,
          1,
          1,
          2,
          1,
          1,
          1,
          1,
          1,
          3,
          1,
          1,
          1,
          67,
          1,
          4,
          5,
          1,
          1,
          1,
          8,
          2,
          1,
          1,
          2,
          1,
          1,
          1,
          1,
          1,
          4,
          1,
          1,
          1,
          1,
          2,
          1,
          3,
          3,
          2,
          6,
          1,
          1,
          1,
          1,
          1,
          3,
          1,
          1,
          1,
          1,
          1,
          1,
          1,
          3,
          1,
          1,
          2,
          9,
          23,
          4,
          1,
          3,
          1,
          1,
          2,
          1,
          1,
          4,
          1,
          1,
          2,
          1,
          1,
          1,
          3,
          1,
          4,
          1,
          1,
          1,
          1,
          1,
          2,
          1,
          2,
          1,
          1,
          1,
          1,
          1,
          1,
          1,
          1,
          1,
          1,
          1,
          1,
          1,
          3,
          1,
          1,
          2,
          1,
          3,
          1,
          1,
          1,
          1,
          1,
          1,
          1,
          28,
          7,
          2,
          1,
          9,
          2,
          1,
          1,
          8,
          3,
          1,
          1,
          1,
          1,
          1,
          1,
          5,
          4,
          1,
          1,
          1,
          1,
          1,
          1,
          1,
          2,
          1,
          1,
          14,
          1,
          1,
          6,
          1,
          5,
          1,
          1,
          1,
          1,
          1,
          1,
          5,
          5,
          2,
          1,
          2,
          3,
          4,
          16,
          1,
          1,
          3,
          1,
          15,
          1,
          1,
          1,
          2,
          1,
          3,
          1,
          16,
          2,
          1,
          2,
          1,
          4,
          2,
          148,
          5,
          1,
          2,
          1,
          1,
          2,
          1,
          1,
          1,
          1,
          1,
          2,
          1,
          1,
          1,
          9,
          36,
          1,
          1,
          1,
          2,
          1,
          1,
          8,
          1,
          1,
          1,
          10,
          1,
          2,
          3,
          1,
          1,
          1,
          1,
          1,
          2,
          1,
          1,
          1,
          1,
          7,
          1,
          2,
          2,
          2,
          2,
          2,
          1,
          32,
          1,
          2,
          2,
          2,
          3,
          7,
          2,
          1,
          1,
          1,
          9,
          2,
          7,
          1,
          9,
          1,
          1,
          1,
          2,
          1,
          1,
          1,
          1,
          1,
          1,
          1,
          1,
          3,
          1,
          3,
          4,
          12,
          1,
          80,
          1,
          1,
          10,
          4,
          2,
          1,
          5,
          1,
          1,
          3,
          1,
          7,
          2,
          7,
          2,
          5,
          1,
          1,
          6,
          9,
          26,
          4,
          1,
          1,
          2,
          1,
          1,
          2,
          8,
          2,
          1,
          1,
          4,
          1,
          1,
          4,
          1,
          1,
          2,
          1,
          5,
          4,
          1,
          1,
          2,
          1,
          1,
          1,
          1,
          4,
          1,
          7,
          2,
          1,
          1,
          1,
          62,
          1,
          1,
          1,
          1,
          4,
          4,
          5,
          1,
          1,
          2,
          17,
          61,
          1
         ]
        }
       ],
       "layout": {
        "legend": {
         "tracegroupgap": 0
        },
        "template": {
         "data": {
          "bar": [
           {
            "error_x": {
             "color": "#2a3f5f"
            },
            "error_y": {
             "color": "#2a3f5f"
            },
            "marker": {
             "line": {
              "color": "#E5ECF6",
              "width": 0.5
             }
            },
            "type": "bar"
           }
          ],
          "barpolar": [
           {
            "marker": {
             "line": {
              "color": "#E5ECF6",
              "width": 0.5
             }
            },
            "type": "barpolar"
           }
          ],
          "carpet": [
           {
            "aaxis": {
             "endlinecolor": "#2a3f5f",
             "gridcolor": "white",
             "linecolor": "white",
             "minorgridcolor": "white",
             "startlinecolor": "#2a3f5f"
            },
            "baxis": {
             "endlinecolor": "#2a3f5f",
             "gridcolor": "white",
             "linecolor": "white",
             "minorgridcolor": "white",
             "startlinecolor": "#2a3f5f"
            },
            "type": "carpet"
           }
          ],
          "choropleth": [
           {
            "colorbar": {
             "outlinewidth": 0,
             "ticks": ""
            },
            "type": "choropleth"
           }
          ],
          "contour": [
           {
            "colorbar": {
             "outlinewidth": 0,
             "ticks": ""
            },
            "colorscale": [
             [
              0,
              "#0d0887"
             ],
             [
              0.1111111111111111,
              "#46039f"
             ],
             [
              0.2222222222222222,
              "#7201a8"
             ],
             [
              0.3333333333333333,
              "#9c179e"
             ],
             [
              0.4444444444444444,
              "#bd3786"
             ],
             [
              0.5555555555555556,
              "#d8576b"
             ],
             [
              0.6666666666666666,
              "#ed7953"
             ],
             [
              0.7777777777777778,
              "#fb9f3a"
             ],
             [
              0.8888888888888888,
              "#fdca26"
             ],
             [
              1,
              "#f0f921"
             ]
            ],
            "type": "contour"
           }
          ],
          "contourcarpet": [
           {
            "colorbar": {
             "outlinewidth": 0,
             "ticks": ""
            },
            "type": "contourcarpet"
           }
          ],
          "heatmap": [
           {
            "colorbar": {
             "outlinewidth": 0,
             "ticks": ""
            },
            "colorscale": [
             [
              0,
              "#0d0887"
             ],
             [
              0.1111111111111111,
              "#46039f"
             ],
             [
              0.2222222222222222,
              "#7201a8"
             ],
             [
              0.3333333333333333,
              "#9c179e"
             ],
             [
              0.4444444444444444,
              "#bd3786"
             ],
             [
              0.5555555555555556,
              "#d8576b"
             ],
             [
              0.6666666666666666,
              "#ed7953"
             ],
             [
              0.7777777777777778,
              "#fb9f3a"
             ],
             [
              0.8888888888888888,
              "#fdca26"
             ],
             [
              1,
              "#f0f921"
             ]
            ],
            "type": "heatmap"
           }
          ],
          "heatmapgl": [
           {
            "colorbar": {
             "outlinewidth": 0,
             "ticks": ""
            },
            "colorscale": [
             [
              0,
              "#0d0887"
             ],
             [
              0.1111111111111111,
              "#46039f"
             ],
             [
              0.2222222222222222,
              "#7201a8"
             ],
             [
              0.3333333333333333,
              "#9c179e"
             ],
             [
              0.4444444444444444,
              "#bd3786"
             ],
             [
              0.5555555555555556,
              "#d8576b"
             ],
             [
              0.6666666666666666,
              "#ed7953"
             ],
             [
              0.7777777777777778,
              "#fb9f3a"
             ],
             [
              0.8888888888888888,
              "#fdca26"
             ],
             [
              1,
              "#f0f921"
             ]
            ],
            "type": "heatmapgl"
           }
          ],
          "histogram": [
           {
            "marker": {
             "colorbar": {
              "outlinewidth": 0,
              "ticks": ""
             }
            },
            "type": "histogram"
           }
          ],
          "histogram2d": [
           {
            "colorbar": {
             "outlinewidth": 0,
             "ticks": ""
            },
            "colorscale": [
             [
              0,
              "#0d0887"
             ],
             [
              0.1111111111111111,
              "#46039f"
             ],
             [
              0.2222222222222222,
              "#7201a8"
             ],
             [
              0.3333333333333333,
              "#9c179e"
             ],
             [
              0.4444444444444444,
              "#bd3786"
             ],
             [
              0.5555555555555556,
              "#d8576b"
             ],
             [
              0.6666666666666666,
              "#ed7953"
             ],
             [
              0.7777777777777778,
              "#fb9f3a"
             ],
             [
              0.8888888888888888,
              "#fdca26"
             ],
             [
              1,
              "#f0f921"
             ]
            ],
            "type": "histogram2d"
           }
          ],
          "histogram2dcontour": [
           {
            "colorbar": {
             "outlinewidth": 0,
             "ticks": ""
            },
            "colorscale": [
             [
              0,
              "#0d0887"
             ],
             [
              0.1111111111111111,
              "#46039f"
             ],
             [
              0.2222222222222222,
              "#7201a8"
             ],
             [
              0.3333333333333333,
              "#9c179e"
             ],
             [
              0.4444444444444444,
              "#bd3786"
             ],
             [
              0.5555555555555556,
              "#d8576b"
             ],
             [
              0.6666666666666666,
              "#ed7953"
             ],
             [
              0.7777777777777778,
              "#fb9f3a"
             ],
             [
              0.8888888888888888,
              "#fdca26"
             ],
             [
              1,
              "#f0f921"
             ]
            ],
            "type": "histogram2dcontour"
           }
          ],
          "mesh3d": [
           {
            "colorbar": {
             "outlinewidth": 0,
             "ticks": ""
            },
            "type": "mesh3d"
           }
          ],
          "parcoords": [
           {
            "line": {
             "colorbar": {
              "outlinewidth": 0,
              "ticks": ""
             }
            },
            "type": "parcoords"
           }
          ],
          "pie": [
           {
            "automargin": true,
            "type": "pie"
           }
          ],
          "scatter": [
           {
            "marker": {
             "colorbar": {
              "outlinewidth": 0,
              "ticks": ""
             }
            },
            "type": "scatter"
           }
          ],
          "scatter3d": [
           {
            "line": {
             "colorbar": {
              "outlinewidth": 0,
              "ticks": ""
             }
            },
            "marker": {
             "colorbar": {
              "outlinewidth": 0,
              "ticks": ""
             }
            },
            "type": "scatter3d"
           }
          ],
          "scattercarpet": [
           {
            "marker": {
             "colorbar": {
              "outlinewidth": 0,
              "ticks": ""
             }
            },
            "type": "scattercarpet"
           }
          ],
          "scattergeo": [
           {
            "marker": {
             "colorbar": {
              "outlinewidth": 0,
              "ticks": ""
             }
            },
            "type": "scattergeo"
           }
          ],
          "scattergl": [
           {
            "marker": {
             "colorbar": {
              "outlinewidth": 0,
              "ticks": ""
             }
            },
            "type": "scattergl"
           }
          ],
          "scattermapbox": [
           {
            "marker": {
             "colorbar": {
              "outlinewidth": 0,
              "ticks": ""
             }
            },
            "type": "scattermapbox"
           }
          ],
          "scatterpolar": [
           {
            "marker": {
             "colorbar": {
              "outlinewidth": 0,
              "ticks": ""
             }
            },
            "type": "scatterpolar"
           }
          ],
          "scatterpolargl": [
           {
            "marker": {
             "colorbar": {
              "outlinewidth": 0,
              "ticks": ""
             }
            },
            "type": "scatterpolargl"
           }
          ],
          "scatterternary": [
           {
            "marker": {
             "colorbar": {
              "outlinewidth": 0,
              "ticks": ""
             }
            },
            "type": "scatterternary"
           }
          ],
          "surface": [
           {
            "colorbar": {
             "outlinewidth": 0,
             "ticks": ""
            },
            "colorscale": [
             [
              0,
              "#0d0887"
             ],
             [
              0.1111111111111111,
              "#46039f"
             ],
             [
              0.2222222222222222,
              "#7201a8"
             ],
             [
              0.3333333333333333,
              "#9c179e"
             ],
             [
              0.4444444444444444,
              "#bd3786"
             ],
             [
              0.5555555555555556,
              "#d8576b"
             ],
             [
              0.6666666666666666,
              "#ed7953"
             ],
             [
              0.7777777777777778,
              "#fb9f3a"
             ],
             [
              0.8888888888888888,
              "#fdca26"
             ],
             [
              1,
              "#f0f921"
             ]
            ],
            "type": "surface"
           }
          ],
          "table": [
           {
            "cells": {
             "fill": {
              "color": "#EBF0F8"
             },
             "line": {
              "color": "white"
             }
            },
            "header": {
             "fill": {
              "color": "#C8D4E3"
             },
             "line": {
              "color": "white"
             }
            },
            "type": "table"
           }
          ]
         },
         "layout": {
          "annotationdefaults": {
           "arrowcolor": "#2a3f5f",
           "arrowhead": 0,
           "arrowwidth": 1
          },
          "autotypenumbers": "strict",
          "coloraxis": {
           "colorbar": {
            "outlinewidth": 0,
            "ticks": ""
           }
          },
          "colorscale": {
           "diverging": [
            [
             0,
             "#8e0152"
            ],
            [
             0.1,
             "#c51b7d"
            ],
            [
             0.2,
             "#de77ae"
            ],
            [
             0.3,
             "#f1b6da"
            ],
            [
             0.4,
             "#fde0ef"
            ],
            [
             0.5,
             "#f7f7f7"
            ],
            [
             0.6,
             "#e6f5d0"
            ],
            [
             0.7,
             "#b8e186"
            ],
            [
             0.8,
             "#7fbc41"
            ],
            [
             0.9,
             "#4d9221"
            ],
            [
             1,
             "#276419"
            ]
           ],
           "sequential": [
            [
             0,
             "#0d0887"
            ],
            [
             0.1111111111111111,
             "#46039f"
            ],
            [
             0.2222222222222222,
             "#7201a8"
            ],
            [
             0.3333333333333333,
             "#9c179e"
            ],
            [
             0.4444444444444444,
             "#bd3786"
            ],
            [
             0.5555555555555556,
             "#d8576b"
            ],
            [
             0.6666666666666666,
             "#ed7953"
            ],
            [
             0.7777777777777778,
             "#fb9f3a"
            ],
            [
             0.8888888888888888,
             "#fdca26"
            ],
            [
             1,
             "#f0f921"
            ]
           ],
           "sequentialminus": [
            [
             0,
             "#0d0887"
            ],
            [
             0.1111111111111111,
             "#46039f"
            ],
            [
             0.2222222222222222,
             "#7201a8"
            ],
            [
             0.3333333333333333,
             "#9c179e"
            ],
            [
             0.4444444444444444,
             "#bd3786"
            ],
            [
             0.5555555555555556,
             "#d8576b"
            ],
            [
             0.6666666666666666,
             "#ed7953"
            ],
            [
             0.7777777777777778,
             "#fb9f3a"
            ],
            [
             0.8888888888888888,
             "#fdca26"
            ],
            [
             1,
             "#f0f921"
            ]
           ]
          },
          "colorway": [
           "#636efa",
           "#EF553B",
           "#00cc96",
           "#ab63fa",
           "#FFA15A",
           "#19d3f3",
           "#FF6692",
           "#B6E880",
           "#FF97FF",
           "#FECB52"
          ],
          "font": {
           "color": "#2a3f5f"
          },
          "geo": {
           "bgcolor": "white",
           "lakecolor": "white",
           "landcolor": "#E5ECF6",
           "showlakes": true,
           "showland": true,
           "subunitcolor": "white"
          },
          "hoverlabel": {
           "align": "left"
          },
          "hovermode": "closest",
          "mapbox": {
           "style": "light"
          },
          "paper_bgcolor": "white",
          "plot_bgcolor": "#E5ECF6",
          "polar": {
           "angularaxis": {
            "gridcolor": "white",
            "linecolor": "white",
            "ticks": ""
           },
           "bgcolor": "#E5ECF6",
           "radialaxis": {
            "gridcolor": "white",
            "linecolor": "white",
            "ticks": ""
           }
          },
          "scene": {
           "xaxis": {
            "backgroundcolor": "#E5ECF6",
            "gridcolor": "white",
            "gridwidth": 2,
            "linecolor": "white",
            "showbackground": true,
            "ticks": "",
            "zerolinecolor": "white"
           },
           "yaxis": {
            "backgroundcolor": "#E5ECF6",
            "gridcolor": "white",
            "gridwidth": 2,
            "linecolor": "white",
            "showbackground": true,
            "ticks": "",
            "zerolinecolor": "white"
           },
           "zaxis": {
            "backgroundcolor": "#E5ECF6",
            "gridcolor": "white",
            "gridwidth": 2,
            "linecolor": "white",
            "showbackground": true,
            "ticks": "",
            "zerolinecolor": "white"
           }
          },
          "shapedefaults": {
           "line": {
            "color": "#2a3f5f"
           }
          },
          "ternary": {
           "aaxis": {
            "gridcolor": "white",
            "linecolor": "white",
            "ticks": ""
           },
           "baxis": {
            "gridcolor": "white",
            "linecolor": "white",
            "ticks": ""
           },
           "bgcolor": "#E5ECF6",
           "caxis": {
            "gridcolor": "white",
            "linecolor": "white",
            "ticks": ""
           }
          },
          "title": {
           "x": 0.05
          },
          "xaxis": {
           "automargin": true,
           "gridcolor": "white",
           "linecolor": "white",
           "ticks": "",
           "title": {
            "standoff": 15
           },
           "zerolinecolor": "white",
           "zerolinewidth": 2
          },
          "yaxis": {
           "automargin": true,
           "gridcolor": "white",
           "linecolor": "white",
           "ticks": "",
           "title": {
            "standoff": 15
           },
           "zerolinecolor": "white",
           "zerolinewidth": 2
          }
         }
        },
        "title": {
         "text": "Uber trips with different start and stop locations"
        }
       }
      }
     },
     "metadata": {},
     "output_type": "display_data"
    }
   ],
   "source": [
    "diff_dest = pd.DataFrame(data[data['START'] != data['STOP']]).reset_index(drop=True)\n",
    "fig = px.sunburst(diff_dest, path=['START', 'STOP'], title='Uber trips with different start and stop locations')\n",
    "fig.show()"
   ]
  },
  {
   "cell_type": "markdown",
   "metadata": {},
   "source": [
    "Cary is the most popular starting point, without folks travelling to Morrisville, Durham, and Raleigh, in that order.\n",
    "Other prevalent beginnings were Morrisville and Whitesbridge, as well as some unknown locations."
   ]
  },
  {
   "cell_type": "markdown",
   "metadata": {},
   "source": [
    "What about destinations? Are there any differences?"
   ]
  },
  {
   "cell_type": "code",
   "execution_count": 46,
   "metadata": {},
   "outputs": [
    {
     "data": {
      "application/vnd.plotly.v1+json": {
       "config": {
        "plotlyServerURL": "https://plot.ly"
       },
       "data": [
        {
         "branchvalues": "total",
         "domain": {
          "x": [
           0,
           1
          ],
          "y": [
           0,
           1
          ]
         },
         "hovertemplate": "labels=%{label}<br>count=%{value}<br>parent=%{parent}<br>id=%{id}<extra></extra>",
         "ids": [
          "Cory/Agnew/1",
          "Bryson City/Almond/1",
          "Eagle Rock/Apex/1",
          "Holly Springs/Apex/1",
          "Metairie/Arabi/1",
          "Washington/Arlington/1",
          "Lexington Park at Amberly/Arlington Park at Amberly/1",
          "Mebane/Asheville/1",
          "Topton/Asheville/1",
          "Katy/Austin/1",
          "Boone/Banner Elk/1",
          "Elk Park/Banner Elk/1",
          "Newland/Banner Elk/1",
          "Seattle/Bellevue/1",
          "El Cerrito/Berkeley/1",
          "Menlo Park/Berkeley/1",
          "Mountain View/Berkeley/1",
          "San Jose/Berkeley/1",
          "Banner Elk/Boone/1",
          "Cary/Boone/1",
          "Midtown/Briar Meadow/1",
          "Almond/Bryson City/1",
          "Asheville/Bryson City/1",
          "Whitebridge/Burtrose/1",
          "Bywater/CBD/1",
          "Lower Garden District/CBD/1",
          "Pontchartrain Beach/CBD/1",
          "St Thomas/CBD/1",
          "Mcvan/Capitol One/1",
          "University District/Capitol One/1",
          "Chapel Hill/Cary/1",
          "Fuquay-Varina/Cary/1",
          "Holly Springs/Cary/1",
          "Latta/Cary/1",
          "Unknown Location/Cary/1",
          "Wake Co./Cary/1",
          "Wake Forest/Cary/1",
          "Winston Salem/Cary/1",
          "College Avenue/Central/1",
          "South/Central/1",
          "West Berkeley/Central/1",
          "Arabi/Chalmette/1",
          "Cary/Chapel Hill/1",
          "Morrisville/Chapel Hill/1",
          "Whitebridge/Chessington/1",
          "Central/College Avenue/1",
          "Katunayaka/Colombo/1",
          "Nugegoda/Colombo/1",
          "Kalorama Triangle/Columbia Heights/1",
          "Downtown/Congress Ave District/1",
          "Kalorama Triangle/Connecticut Avenue/1",
          "West University/Convention Center District/1",
          "Agnew/Cory/1",
          "Isles of Buena Vista/Couples Glen/1",
          "Vista East/Couples Glen/1",
          "Mandeville/Covington/1",
          "The Drag/Coxville/1",
          "Jacksonville/Daytona Beach/1",
          "Bay Farm Island/Downtown/1",
          "Central/Downtown/1",
          "Gulfton/Downtown/1",
          "Midtown/Downtown/1",
          "Red River District/Downtown/1",
          "Sunnyside/Downtown/1",
          "West Berkeley/Downtown/1",
          "Apex/Durham/1",
          "Jamestown Court/Eagan Park/1",
          "Cary/Eagle Rock/1",
          "West University/East Austin/1",
          "Jackson Heights/East Elmhurst/1",
          "New York/East Elmhurst/1",
          "NoMad/East Harlem/1",
          "Walnut Terrace/Eastgate/1",
          "Burtrose/Edgehill Farms/1",
          "Preston/Edgehill Farms/1",
          "Berkeley/El Cerrito/1",
          "Banner Elk/Elk Park/1",
          "New York/Elmhurst/1",
          "San Francisco/Emeryville/1",
          "Meredith Townes/Fairmont/1",
          "Edgehill Farms/Farmington Woods/1",
          "Whitebridge/Farmington Woods/1",
          "Depot Historic District/Fayetteville Street/1",
          "Meredith Townes/Fayetteville Street/1",
          "Umstead/Fayetteville Street/1",
          "Kips Bay/Financial District/1",
          "Midtown/Flatiron District/1",
          "Cary/Florence/1",
          "West Palm Beach/Fort Pierce/1",
          "Cary/Fuquay-Varina/1",
          "Houston/Galveston/1",
          "Port Bolivar/Galveston/1",
          "Ilukwatta/Gampaha/1",
          "The Drag/Georgian Acres/1",
          "Downtown/Gulfton/1",
          "Topton/Hayesville/1",
          "Lexington Park at Amberly/Hazelwood/1",
          "Weston/Hazelwood/1",
          "Midtown/Hell's Kitchen/1",
          "Edgehill Farms/Heritage Pines/1",
          "Whitebridge/Heritage Pines/1",
          "Galveston/Houston/1",
          "Sugar Land/Houston/1",
          "Hell's Kitchen/Hudson Square/1",
          "Lower Manhattan/Hudson Square/1",
          "Potrero Flats/Ingleside/1",
          "Noorpur Shahan/Islamabad/1",
          "Rawalpindi/Islamabad/1",
          "East Elmhurst/Jackson Heights/1",
          "Kissimmee/Jacksonville/1",
          "Ridgeland/Jacksonville/1",
          "Columbia Heights/Kalorama Triangle/1",
          "Downtown/Kalorama Triangle/1",
          "K Street/Kalorama Triangle/1",
          "Unknown Location/Katunayaka/1",
          "Gampaha/Katunayake/1",
          "Houston/Katy/1",
          "Metairie/Kenner/1",
          "Kildaire Farms/Kilarney Woods/1",
          "Whitebridge/Kilarney Woods/1",
          "Daytona Beach/Kissimmee/1",
          "Whitebridge/Krendle Woods/1",
          "Whitebridge/Lake Wellingborough/1",
          "Storyville/Lakeview/1",
          "Jacksonville/Latta/1",
          "Westpark Place/Lexington Park at Amberly/1",
          "Whitebridge/Lexington Park at Amberly/1",
          "Jamaica/Long Island City/1",
          "Lakeview/Lower Garden District/1",
          "Hudson Square/Lower Manhattan/1",
          "Metairie/Mandeville/1",
          "Storyville/Marigny/1",
          "Capitol One/Mcvan/1",
          "Cary/Mebane/1",
          "Tudor City/Medical Centre/1",
          "Berkeley/Menlo Park/1",
          "Newark/Menlo Park/1",
          "Palo Alto/Menlo Park/1",
          "Cedar Hill/Meredith/1",
          "Harden Place/Meredith Townes/1",
          "Alief/Midtown/1",
          "Downtown/Midtown/1",
          "East Harlem/Midtown/1",
          "Greater Greenspoint/Midtown/1",
          "Hudson Square/Midtown/1",
          "Midtown East/Midtown/1",
          "Midtown West/Midtown/1",
          "Washington Avenue/Midtown/1",
          "Midtown/Midtown East/1",
          "Banner Elk/Morrisville/1",
          "Berkeley/Mountain View/1",
          "Downtown/NOMA/1",
          "Chalmette/New Orleans/1",
          "Covington/New Orleans/1",
          "Jamaica/New York/1",
          "Long Island City/New York/1",
          "Queens/New York/1",
          "Queens County/New York/1",
          "Menlo Park/Newark/1",
          "San Francisco/Newark/1",
          "Boone/Newland/1",
          "Coxville/North Austin/1",
          "Southside/North Berkeley Hills/1",
          "Preston/Northwoods/1",
          "Tanglewood/Northwoods/1",
          "Whitebridge/Northwoods/1",
          "Unknown Location/Nugegoda/1",
          "Unknown Location/Oakland/1",
          "Hog Island/Old City/1",
          "Parkway Museums/Old City/1",
          "Menlo Park/Palo Alto/1",
          "Sunnyvale/Palo Alto/1",
          "CBD/Pontchartrain Beach/1",
          "Galveston/Port Bolivar/1",
          "Westpark Place/Preston/1",
          "Islamabad/R?walpindi/1",
          "Islamabad/Rawalpindi/1",
          "Downtown/Red River District/1",
          "Bellevue/Redmond/1",
          "Florence/Ridgeland/1",
          "Soho/Rose Hill/1",
          "French Quarter/SOMISSPO/1",
          "Tenderloin/SOMISSPO/1",
          "Emeryville/San Francisco/1",
          "Palo Alto/San Francisco/1",
          "Emeryville/San Jose/1",
          "Santa Clara/San Jose/1",
          "Sky Lake/Sand Lake Commons/1",
          "Berkeley/Santa Clara/1",
          "Kilarney Woods/Savon Height/1",
          "Parkway/Savon Height/1",
          "Gramercy-Flatiron/Seaport/1",
          "Redmond/Seattle/1",
          "Briar Meadow/Sharpstown/1",
          "Sand Lake Commons/Sky Lake/1",
          "Tribeca/Soho/1",
          "Downtown/South/1",
          "Southwest Berkeley/South/1",
          "Southside/South Berkeley/1",
          "Arts District/South Congress/1",
          "North Austin/South Congress/1",
          "South Berkeley/Southside/1",
          "West Berkeley/Southside/1",
          "CBD/St Thomas/1",
          "Lexington Park at Amberly/Stonewater/1",
          "Faubourg Marigny/Storyville/1",
          "Marigny/Storyville/1",
          "Houston/Sugar Land/1",
          "Whitebridge/Summerwinds/1",
          "Ingleside/Sunnyside/1",
          "Newark/Sunnyvale/1",
          "Parkway/Tanglewood/1",
          "Preston/Tanglewood/1",
          "SOMISSPO/Tenderloin/1",
          "North Austin/The Drag/1",
          "Bryson City/Topton/1",
          "Hayesville/Topton/1",
          "Chessington/Townes at Everett Crossing/1",
          "Financial District/Tribeca/1",
          "Capitol One/University District/1",
          "Morrisville/Unknown Location/1",
          "Morrisville/Wake Co./1",
          "Cary/Wake Forest/1",
          "Arlington/Washington/1",
          "Midtown/Washington Avenue/1",
          "Macgregor Downs/Waverly Place/1",
          "North Berkeley Hills/West Berkeley/1",
          "South/West Berkeley/1",
          "Southside/West Berkeley/1",
          "Northwest Rectangle/West End/1",
          "Palm Beach/West Palm Beach/1",
          "Congress Ave District/West University/1",
          "South Congress/West University/1",
          "Hazelwood/Westpark Place/1",
          "Arlington Park at Amberly/Whitebridge/1",
          "Burtrose/Whitebridge/1",
          "Chessington/Whitebridge/1",
          "Farmington Woods/Whitebridge/1",
          "Kildaire Farms/Whitebridge/1",
          "Lake Wellingborough/Whitebridge/1",
          "Macgregor Downs/Whitebridge/1",
          "Stonewater/Whitebridge/1",
          "Summerwinds/Whitebridge/1",
          "Williamsburg Manor/Whitebridge/1",
          "Asheville/Winston Salem/1",
          "Renaissance/Agnew/2",
          "Southside/Central/2",
          "The Drag/Downtown/2",
          "Cary/Holly Springs/2",
          "Weston/Huntington Woods/2",
          "R?walpindi/Islamabad/2",
          "New York/Jamaica/2",
          "Kalorama Triangle/K Street/2",
          "Unknown Location/Karachi/2",
          "Leesville Hollow/Meredith Townes/2",
          "Kenner/Metairie/2",
          "New Orleans/Metairie/2",
          "Metairie/New Orleans/2",
          "Unknown Location/Noorpur Shahan/2",
          "Berkeley/Oakland/2",
          "Emeryville/Oakland/2",
          "San Francisco/Oakland/2",
          "Agnew/Renaissance/2",
          "Oakland/San Francisco/2",
          "Whitebridge/Savon Height/2",
          "Central/Southside/2",
          "Whitebridge/Tanglewood/2",
          "Congress Ave District/The Drag/2",
          "Convention Center District/The Drag/2",
          "South Congress/The Drag/2",
          "Colombo/Unknown Location/2",
          "Central/West Berkeley/2",
          "Heritage Pines/Whitebridge/2",
          "Northwoods/Whitebridge/2",
          "Oakland/Berkeley/3",
          "Oakland/Emeryville/3",
          "Islamabad/Noorpur Shahan/3",
          "Unknown Location/Rawalpindi/3",
          "Midtown/Sharpstown/3",
          "The Drag/South Congress/3",
          "Rawalpindi/Unknown Location/3",
          "Whitebridge/Waverly Place/3",
          "Parkway/Whitebridge/3",
          "Preston/Whitebridge/3",
          "Savon Height/Whitebridge/3",
          "Tanglewood/Whitebridge/3",
          "San Francisco/Berkeley/4",
          "Morrisville/Durham/4",
          "Sharpstown/Midtown/4",
          "Raleigh/Morrisville/4",
          "Berkeley/San Francisco/4",
          "Noorpur Shahan/Unknown Location/4",
          "Whitebridge/Wayne Ridge/4",
          "Hazelwood/Whitebridge/4",
          "Wayne Ridge/Whitebridge/4",
          "Emeryville/Berkeley/5",
          "Whitebridge/Hazelwood/5",
          "Whitebridge/Parkway/5",
          "Whitebridge/Preston/5",
          "Morrisville/Raleigh/5",
          "Waverly Place/Whitebridge/5",
          "Whitebridge/Edgehill Farms/6",
          "Berkeley/Emeryville/6",
          "Orlando/Kissimmee/6",
          "Kenner/New Orleans/6",
          "Kar?chi/Unknown Location/6",
          "Unknown Location/Kar?chi/7",
          "Kissimmee/Orlando/7",
          "New Orleans/Kenner/8",
          "Unknown Location/R?walpindi/8",
          "Edgehill Farms/Whitebridge/8",
          "Unknown Location/Lahore/9",
          "Lahore/Unknown Location/9",
          "R?walpindi/Unknown Location/9",
          "Cary/Apex/13",
          "Apex/Cary/14",
          "Westpark Place/Whitebridge/14",
          "Whitebridge/Westpark Place/16",
          "Cary/Raleigh/21",
          "Raleigh/Cary/23",
          "Unknown Location/Islamabad/28",
          "Islamabad/Unknown Location/28",
          "Cary/Durham/31",
          "Durham/Cary/36",
          "Morrisville/Cary/67",
          "Cary/Morrisville/75",
          "Cory/Agnew",
          "Renaissance/Agnew",
          "Bryson City/Almond",
          "Cary/Apex",
          "Eagle Rock/Apex",
          "Holly Springs/Apex",
          "Metairie/Arabi",
          "Washington/Arlington",
          "Lexington Park at Amberly/Arlington Park at Amberly",
          "Mebane/Asheville",
          "Topton/Asheville",
          "Katy/Austin",
          "Boone/Banner Elk",
          "Elk Park/Banner Elk",
          "Newland/Banner Elk",
          "Seattle/Bellevue",
          "El Cerrito/Berkeley",
          "Emeryville/Berkeley",
          "Menlo Park/Berkeley",
          "Mountain View/Berkeley",
          "Oakland/Berkeley",
          "San Francisco/Berkeley",
          "San Jose/Berkeley",
          "Banner Elk/Boone",
          "Cary/Boone",
          "Midtown/Briar Meadow",
          "Almond/Bryson City",
          "Asheville/Bryson City",
          "Whitebridge/Burtrose",
          "Bywater/CBD",
          "Lower Garden District/CBD",
          "Pontchartrain Beach/CBD",
          "St Thomas/CBD",
          "Mcvan/Capitol One",
          "University District/Capitol One",
          "Apex/Cary",
          "Chapel Hill/Cary",
          "Durham/Cary",
          "Fuquay-Varina/Cary",
          "Holly Springs/Cary",
          "Latta/Cary",
          "Morrisville/Cary",
          "Raleigh/Cary",
          "Unknown Location/Cary",
          "Wake Co./Cary",
          "Wake Forest/Cary",
          "Winston Salem/Cary",
          "College Avenue/Central",
          "South/Central",
          "Southside/Central",
          "West Berkeley/Central",
          "Arabi/Chalmette",
          "Cary/Chapel Hill",
          "Morrisville/Chapel Hill",
          "Whitebridge/Chessington",
          "Central/College Avenue",
          "Katunayaka/Colombo",
          "Nugegoda/Colombo",
          "Kalorama Triangle/Columbia Heights",
          "Downtown/Congress Ave District",
          "Kalorama Triangle/Connecticut Avenue",
          "West University/Convention Center District",
          "Agnew/Cory",
          "Isles of Buena Vista/Couples Glen",
          "Vista East/Couples Glen",
          "Mandeville/Covington",
          "The Drag/Coxville",
          "Jacksonville/Daytona Beach",
          "Bay Farm Island/Downtown",
          "Central/Downtown",
          "Gulfton/Downtown",
          "Midtown/Downtown",
          "Red River District/Downtown",
          "Sunnyside/Downtown",
          "The Drag/Downtown",
          "West Berkeley/Downtown",
          "Apex/Durham",
          "Cary/Durham",
          "Morrisville/Durham",
          "Jamestown Court/Eagan Park",
          "Cary/Eagle Rock",
          "West University/East Austin",
          "Jackson Heights/East Elmhurst",
          "New York/East Elmhurst",
          "NoMad/East Harlem",
          "Walnut Terrace/Eastgate",
          "Burtrose/Edgehill Farms",
          "Preston/Edgehill Farms",
          "Whitebridge/Edgehill Farms",
          "Berkeley/El Cerrito",
          "Banner Elk/Elk Park",
          "New York/Elmhurst",
          "Berkeley/Emeryville",
          "Oakland/Emeryville",
          "San Francisco/Emeryville",
          "Meredith Townes/Fairmont",
          "Edgehill Farms/Farmington Woods",
          "Whitebridge/Farmington Woods",
          "Depot Historic District/Fayetteville Street",
          "Meredith Townes/Fayetteville Street",
          "Umstead/Fayetteville Street",
          "Kips Bay/Financial District",
          "Midtown/Flatiron District",
          "Cary/Florence",
          "West Palm Beach/Fort Pierce",
          "Cary/Fuquay-Varina",
          "Houston/Galveston",
          "Port Bolivar/Galveston",
          "Ilukwatta/Gampaha",
          "The Drag/Georgian Acres",
          "Downtown/Gulfton",
          "Topton/Hayesville",
          "Lexington Park at Amberly/Hazelwood",
          "Weston/Hazelwood",
          "Whitebridge/Hazelwood",
          "Midtown/Hell's Kitchen",
          "Edgehill Farms/Heritage Pines",
          "Whitebridge/Heritage Pines",
          "Cary/Holly Springs",
          "Galveston/Houston",
          "Sugar Land/Houston",
          "Hell's Kitchen/Hudson Square",
          "Lower Manhattan/Hudson Square",
          "Weston/Huntington Woods",
          "Potrero Flats/Ingleside",
          "Noorpur Shahan/Islamabad",
          "R?walpindi/Islamabad",
          "Rawalpindi/Islamabad",
          "Unknown Location/Islamabad",
          "East Elmhurst/Jackson Heights",
          "Kissimmee/Jacksonville",
          "Ridgeland/Jacksonville",
          "New York/Jamaica",
          "Kalorama Triangle/K Street",
          "Columbia Heights/Kalorama Triangle",
          "Downtown/Kalorama Triangle",
          "K Street/Kalorama Triangle",
          "Unknown Location/Kar?chi",
          "Unknown Location/Karachi",
          "Unknown Location/Katunayaka",
          "Gampaha/Katunayake",
          "Houston/Katy",
          "Metairie/Kenner",
          "New Orleans/Kenner",
          "Kildaire Farms/Kilarney Woods",
          "Whitebridge/Kilarney Woods",
          "Daytona Beach/Kissimmee",
          "Orlando/Kissimmee",
          "Whitebridge/Krendle Woods",
          "Unknown Location/Lahore",
          "Whitebridge/Lake Wellingborough",
          "Storyville/Lakeview",
          "Jacksonville/Latta",
          "Westpark Place/Lexington Park at Amberly",
          "Whitebridge/Lexington Park at Amberly",
          "Jamaica/Long Island City",
          "Lakeview/Lower Garden District",
          "Hudson Square/Lower Manhattan",
          "Metairie/Mandeville",
          "Storyville/Marigny",
          "Capitol One/Mcvan",
          "Cary/Mebane",
          "Tudor City/Medical Centre",
          "Berkeley/Menlo Park",
          "Newark/Menlo Park",
          "Palo Alto/Menlo Park",
          "Cedar Hill/Meredith",
          "Harden Place/Meredith Townes",
          "Leesville Hollow/Meredith Townes",
          "Kenner/Metairie",
          "New Orleans/Metairie",
          "Alief/Midtown",
          "Downtown/Midtown",
          "East Harlem/Midtown",
          "Greater Greenspoint/Midtown",
          "Hudson Square/Midtown",
          "Midtown East/Midtown",
          "Midtown West/Midtown",
          "Sharpstown/Midtown",
          "Washington Avenue/Midtown",
          "Midtown/Midtown East",
          "Banner Elk/Morrisville",
          "Cary/Morrisville",
          "Raleigh/Morrisville",
          "Berkeley/Mountain View",
          "Downtown/NOMA",
          "Chalmette/New Orleans",
          "Covington/New Orleans",
          "Kenner/New Orleans",
          "Metairie/New Orleans",
          "Jamaica/New York",
          "Long Island City/New York",
          "Queens/New York",
          "Queens County/New York",
          "Menlo Park/Newark",
          "San Francisco/Newark",
          "Boone/Newland",
          "Islamabad/Noorpur Shahan",
          "Unknown Location/Noorpur Shahan",
          "Coxville/North Austin",
          "Southside/North Berkeley Hills",
          "Preston/Northwoods",
          "Tanglewood/Northwoods",
          "Whitebridge/Northwoods",
          "Unknown Location/Nugegoda",
          "Berkeley/Oakland",
          "Emeryville/Oakland",
          "San Francisco/Oakland",
          "Unknown Location/Oakland",
          "Hog Island/Old City",
          "Parkway Museums/Old City",
          "Kissimmee/Orlando",
          "Menlo Park/Palo Alto",
          "Sunnyvale/Palo Alto",
          "Whitebridge/Parkway",
          "CBD/Pontchartrain Beach",
          "Galveston/Port Bolivar",
          "Westpark Place/Preston",
          "Whitebridge/Preston",
          "Islamabad/R?walpindi",
          "Unknown Location/R?walpindi",
          "Cary/Raleigh",
          "Morrisville/Raleigh",
          "Islamabad/Rawalpindi",
          "Unknown Location/Rawalpindi",
          "Downtown/Red River District",
          "Bellevue/Redmond",
          "Agnew/Renaissance",
          "Florence/Ridgeland",
          "Soho/Rose Hill",
          "French Quarter/SOMISSPO",
          "Tenderloin/SOMISSPO",
          "Berkeley/San Francisco",
          "Emeryville/San Francisco",
          "Oakland/San Francisco",
          "Palo Alto/San Francisco",
          "Emeryville/San Jose",
          "Santa Clara/San Jose",
          "Sky Lake/Sand Lake Commons",
          "Berkeley/Santa Clara",
          "Kilarney Woods/Savon Height",
          "Parkway/Savon Height",
          "Whitebridge/Savon Height",
          "Gramercy-Flatiron/Seaport",
          "Redmond/Seattle",
          "Briar Meadow/Sharpstown",
          "Midtown/Sharpstown",
          "Sand Lake Commons/Sky Lake",
          "Tribeca/Soho",
          "Downtown/South",
          "Southwest Berkeley/South",
          "Southside/South Berkeley",
          "Arts District/South Congress",
          "North Austin/South Congress",
          "The Drag/South Congress",
          "Central/Southside",
          "South Berkeley/Southside",
          "West Berkeley/Southside",
          "CBD/St Thomas",
          "Lexington Park at Amberly/Stonewater",
          "Faubourg Marigny/Storyville",
          "Marigny/Storyville",
          "Houston/Sugar Land",
          "Whitebridge/Summerwinds",
          "Ingleside/Sunnyside",
          "Newark/Sunnyvale",
          "Parkway/Tanglewood",
          "Preston/Tanglewood",
          "Whitebridge/Tanglewood",
          "SOMISSPO/Tenderloin",
          "Congress Ave District/The Drag",
          "Convention Center District/The Drag",
          "North Austin/The Drag",
          "South Congress/The Drag",
          "Bryson City/Topton",
          "Hayesville/Topton",
          "Chessington/Townes at Everett Crossing",
          "Financial District/Tribeca",
          "Capitol One/University District",
          "Colombo/Unknown Location",
          "Islamabad/Unknown Location",
          "Kar?chi/Unknown Location",
          "Lahore/Unknown Location",
          "Morrisville/Unknown Location",
          "Noorpur Shahan/Unknown Location",
          "R?walpindi/Unknown Location",
          "Rawalpindi/Unknown Location",
          "Morrisville/Wake Co.",
          "Cary/Wake Forest",
          "Arlington/Washington",
          "Midtown/Washington Avenue",
          "Macgregor Downs/Waverly Place",
          "Whitebridge/Waverly Place",
          "Whitebridge/Wayne Ridge",
          "Central/West Berkeley",
          "North Berkeley Hills/West Berkeley",
          "South/West Berkeley",
          "Southside/West Berkeley",
          "Northwest Rectangle/West End",
          "Palm Beach/West Palm Beach",
          "Congress Ave District/West University",
          "South Congress/West University",
          "Hazelwood/Westpark Place",
          "Whitebridge/Westpark Place",
          "Arlington Park at Amberly/Whitebridge",
          "Burtrose/Whitebridge",
          "Chessington/Whitebridge",
          "Edgehill Farms/Whitebridge",
          "Farmington Woods/Whitebridge",
          "Hazelwood/Whitebridge",
          "Heritage Pines/Whitebridge",
          "Kildaire Farms/Whitebridge",
          "Lake Wellingborough/Whitebridge",
          "Macgregor Downs/Whitebridge",
          "Northwoods/Whitebridge",
          "Parkway/Whitebridge",
          "Preston/Whitebridge",
          "Savon Height/Whitebridge",
          "Stonewater/Whitebridge",
          "Summerwinds/Whitebridge",
          "Tanglewood/Whitebridge",
          "Waverly Place/Whitebridge",
          "Wayne Ridge/Whitebridge",
          "Westpark Place/Whitebridge",
          "Williamsburg Manor/Whitebridge",
          "Asheville/Winston Salem",
          "Agnew",
          "Alief",
          "Almond",
          "Apex",
          "Arabi",
          "Arlington",
          "Arlington Park at Amberly",
          "Arts District",
          "Asheville",
          "Banner Elk",
          "Bay Farm Island",
          "Bellevue",
          "Berkeley",
          "Boone",
          "Briar Meadow",
          "Bryson City",
          "Burtrose",
          "Bywater",
          "CBD",
          "Capitol One",
          "Cary",
          "Cedar Hill",
          "Central",
          "Chalmette",
          "Chapel Hill",
          "Chessington",
          "College Avenue",
          "Colombo",
          "Columbia Heights",
          "Congress Ave District",
          "Convention Center District",
          "Cory",
          "Covington",
          "Coxville",
          "Daytona Beach",
          "Depot Historic District",
          "Downtown",
          "Durham",
          "Eagle Rock",
          "East Elmhurst",
          "East Harlem",
          "Edgehill Farms",
          "El Cerrito",
          "Elk Park",
          "Emeryville",
          "Farmington Woods",
          "Faubourg Marigny",
          "Financial District",
          "Florence",
          "French Quarter",
          "Fuquay-Varina",
          "Galveston",
          "Gampaha",
          "Gramercy-Flatiron",
          "Greater Greenspoint",
          "Gulfton",
          "Harden Place",
          "Hayesville",
          "Hazelwood",
          "Hell's Kitchen",
          "Heritage Pines",
          "Hog Island",
          "Holly Springs",
          "Houston",
          "Hudson Square",
          "Ilukwatta",
          "Ingleside",
          "Islamabad",
          "Isles of Buena Vista",
          "Jackson Heights",
          "Jacksonville",
          "Jamaica",
          "Jamestown Court",
          "K Street",
          "Kalorama Triangle",
          "Kar?chi",
          "Katunayaka",
          "Katy",
          "Kenner",
          "Kilarney Woods",
          "Kildaire Farms",
          "Kips Bay",
          "Kissimmee",
          "Lahore",
          "Lake Wellingborough",
          "Lakeview",
          "Latta",
          "Leesville Hollow",
          "Lexington Park at Amberly",
          "Long Island City",
          "Lower Garden District",
          "Lower Manhattan",
          "Macgregor Downs",
          "Mandeville",
          "Marigny",
          "Mcvan",
          "Mebane",
          "Menlo Park",
          "Meredith Townes",
          "Metairie",
          "Midtown",
          "Midtown East",
          "Midtown West",
          "Morrisville",
          "Mountain View",
          "New Orleans",
          "New York",
          "Newark",
          "Newland",
          "NoMad",
          "Noorpur Shahan",
          "North Austin",
          "North Berkeley Hills",
          "Northwest Rectangle",
          "Northwoods",
          "Nugegoda",
          "Oakland",
          "Orlando",
          "Palm Beach",
          "Palo Alto",
          "Parkway",
          "Parkway Museums",
          "Pontchartrain Beach",
          "Port Bolivar",
          "Potrero Flats",
          "Preston",
          "Queens",
          "Queens County",
          "R?walpindi",
          "Raleigh",
          "Rawalpindi",
          "Red River District",
          "Redmond",
          "Renaissance",
          "Ridgeland",
          "SOMISSPO",
          "San Francisco",
          "San Jose",
          "Sand Lake Commons",
          "Santa Clara",
          "Savon Height",
          "Seattle",
          "Sharpstown",
          "Sky Lake",
          "Soho",
          "South",
          "South Berkeley",
          "South Congress",
          "Southside",
          "Southwest Berkeley",
          "St Thomas",
          "Stonewater",
          "Storyville",
          "Sugar Land",
          "Summerwinds",
          "Sunnyside",
          "Sunnyvale",
          "Tanglewood",
          "Tenderloin",
          "The Drag",
          "Topton",
          "Tribeca",
          "Tudor City",
          "Umstead",
          "University District",
          "Unknown Location",
          "Vista East",
          "Wake Co.",
          "Wake Forest",
          "Walnut Terrace",
          "Washington",
          "Washington Avenue",
          "Waverly Place",
          "Wayne Ridge",
          "West Berkeley",
          "West Palm Beach",
          "West University",
          "Weston",
          "Westpark Place",
          "Whitebridge",
          "Williamsburg Manor",
          "Winston Salem"
         ],
         "labels": [
          "1",
          "1",
          "1",
          "1",
          "1",
          "1",
          "1",
          "1",
          "1",
          "1",
          "1",
          "1",
          "1",
          "1",
          "1",
          "1",
          "1",
          "1",
          "1",
          "1",
          "1",
          "1",
          "1",
          "1",
          "1",
          "1",
          "1",
          "1",
          "1",
          "1",
          "1",
          "1",
          "1",
          "1",
          "1",
          "1",
          "1",
          "1",
          "1",
          "1",
          "1",
          "1",
          "1",
          "1",
          "1",
          "1",
          "1",
          "1",
          "1",
          "1",
          "1",
          "1",
          "1",
          "1",
          "1",
          "1",
          "1",
          "1",
          "1",
          "1",
          "1",
          "1",
          "1",
          "1",
          "1",
          "1",
          "1",
          "1",
          "1",
          "1",
          "1",
          "1",
          "1",
          "1",
          "1",
          "1",
          "1",
          "1",
          "1",
          "1",
          "1",
          "1",
          "1",
          "1",
          "1",
          "1",
          "1",
          "1",
          "1",
          "1",
          "1",
          "1",
          "1",
          "1",
          "1",
          "1",
          "1",
          "1",
          "1",
          "1",
          "1",
          "1",
          "1",
          "1",
          "1",
          "1",
          "1",
          "1",
          "1",
          "1",
          "1",
          "1",
          "1",
          "1",
          "1",
          "1",
          "1",
          "1",
          "1",
          "1",
          "1",
          "1",
          "1",
          "1",
          "1",
          "1",
          "1",
          "1",
          "1",
          "1",
          "1",
          "1",
          "1",
          "1",
          "1",
          "1",
          "1",
          "1",
          "1",
          "1",
          "1",
          "1",
          "1",
          "1",
          "1",
          "1",
          "1",
          "1",
          "1",
          "1",
          "1",
          "1",
          "1",
          "1",
          "1",
          "1",
          "1",
          "1",
          "1",
          "1",
          "1",
          "1",
          "1",
          "1",
          "1",
          "1",
          "1",
          "1",
          "1",
          "1",
          "1",
          "1",
          "1",
          "1",
          "1",
          "1",
          "1",
          "1",
          "1",
          "1",
          "1",
          "1",
          "1",
          "1",
          "1",
          "1",
          "1",
          "1",
          "1",
          "1",
          "1",
          "1",
          "1",
          "1",
          "1",
          "1",
          "1",
          "1",
          "1",
          "1",
          "1",
          "1",
          "1",
          "1",
          "1",
          "1",
          "1",
          "1",
          "1",
          "1",
          "1",
          "1",
          "1",
          "1",
          "1",
          "1",
          "1",
          "1",
          "1",
          "1",
          "1",
          "1",
          "1",
          "1",
          "1",
          "1",
          "1",
          "1",
          "1",
          "1",
          "1",
          "1",
          "1",
          "1",
          "1",
          "1",
          "1",
          "1",
          "1",
          "1",
          "1",
          "1",
          "1",
          "1",
          "1",
          "2",
          "2",
          "2",
          "2",
          "2",
          "2",
          "2",
          "2",
          "2",
          "2",
          "2",
          "2",
          "2",
          "2",
          "2",
          "2",
          "2",
          "2",
          "2",
          "2",
          "2",
          "2",
          "2",
          "2",
          "2",
          "2",
          "2",
          "2",
          "2",
          "3",
          "3",
          "3",
          "3",
          "3",
          "3",
          "3",
          "3",
          "3",
          "3",
          "3",
          "3",
          "4",
          "4",
          "4",
          "4",
          "4",
          "4",
          "4",
          "4",
          "4",
          "5",
          "5",
          "5",
          "5",
          "5",
          "5",
          "6",
          "6",
          "6",
          "6",
          "6",
          "7",
          "7",
          "8",
          "8",
          "8",
          "9",
          "9",
          "9",
          "13",
          "14",
          "14",
          "16",
          "21",
          "23",
          "28",
          "28",
          "31",
          "36",
          "67",
          "75",
          "Agnew",
          "Agnew",
          "Almond",
          "Apex",
          "Apex",
          "Apex",
          "Arabi",
          "Arlington",
          "Arlington Park at Amberly",
          "Asheville",
          "Asheville",
          "Austin",
          "Banner Elk",
          "Banner Elk",
          "Banner Elk",
          "Bellevue",
          "Berkeley",
          "Berkeley",
          "Berkeley",
          "Berkeley",
          "Berkeley",
          "Berkeley",
          "Berkeley",
          "Boone",
          "Boone",
          "Briar Meadow",
          "Bryson City",
          "Bryson City",
          "Burtrose",
          "CBD",
          "CBD",
          "CBD",
          "CBD",
          "Capitol One",
          "Capitol One",
          "Cary",
          "Cary",
          "Cary",
          "Cary",
          "Cary",
          "Cary",
          "Cary",
          "Cary",
          "Cary",
          "Cary",
          "Cary",
          "Cary",
          "Central",
          "Central",
          "Central",
          "Central",
          "Chalmette",
          "Chapel Hill",
          "Chapel Hill",
          "Chessington",
          "College Avenue",
          "Colombo",
          "Colombo",
          "Columbia Heights",
          "Congress Ave District",
          "Connecticut Avenue",
          "Convention Center District",
          "Cory",
          "Couples Glen",
          "Couples Glen",
          "Covington",
          "Coxville",
          "Daytona Beach",
          "Downtown",
          "Downtown",
          "Downtown",
          "Downtown",
          "Downtown",
          "Downtown",
          "Downtown",
          "Downtown",
          "Durham",
          "Durham",
          "Durham",
          "Eagan Park",
          "Eagle Rock",
          "East Austin",
          "East Elmhurst",
          "East Elmhurst",
          "East Harlem",
          "Eastgate",
          "Edgehill Farms",
          "Edgehill Farms",
          "Edgehill Farms",
          "El Cerrito",
          "Elk Park",
          "Elmhurst",
          "Emeryville",
          "Emeryville",
          "Emeryville",
          "Fairmont",
          "Farmington Woods",
          "Farmington Woods",
          "Fayetteville Street",
          "Fayetteville Street",
          "Fayetteville Street",
          "Financial District",
          "Flatiron District",
          "Florence",
          "Fort Pierce",
          "Fuquay-Varina",
          "Galveston",
          "Galveston",
          "Gampaha",
          "Georgian Acres",
          "Gulfton",
          "Hayesville",
          "Hazelwood",
          "Hazelwood",
          "Hazelwood",
          "Hell's Kitchen",
          "Heritage Pines",
          "Heritage Pines",
          "Holly Springs",
          "Houston",
          "Houston",
          "Hudson Square",
          "Hudson Square",
          "Huntington Woods",
          "Ingleside",
          "Islamabad",
          "Islamabad",
          "Islamabad",
          "Islamabad",
          "Jackson Heights",
          "Jacksonville",
          "Jacksonville",
          "Jamaica",
          "K Street",
          "Kalorama Triangle",
          "Kalorama Triangle",
          "Kalorama Triangle",
          "Kar?chi",
          "Karachi",
          "Katunayaka",
          "Katunayake",
          "Katy",
          "Kenner",
          "Kenner",
          "Kilarney Woods",
          "Kilarney Woods",
          "Kissimmee",
          "Kissimmee",
          "Krendle Woods",
          "Lahore",
          "Lake Wellingborough",
          "Lakeview",
          "Latta",
          "Lexington Park at Amberly",
          "Lexington Park at Amberly",
          "Long Island City",
          "Lower Garden District",
          "Lower Manhattan",
          "Mandeville",
          "Marigny",
          "Mcvan",
          "Mebane",
          "Medical Centre",
          "Menlo Park",
          "Menlo Park",
          "Menlo Park",
          "Meredith",
          "Meredith Townes",
          "Meredith Townes",
          "Metairie",
          "Metairie",
          "Midtown",
          "Midtown",
          "Midtown",
          "Midtown",
          "Midtown",
          "Midtown",
          "Midtown",
          "Midtown",
          "Midtown",
          "Midtown East",
          "Morrisville",
          "Morrisville",
          "Morrisville",
          "Mountain View",
          "NOMA",
          "New Orleans",
          "New Orleans",
          "New Orleans",
          "New Orleans",
          "New York",
          "New York",
          "New York",
          "New York",
          "Newark",
          "Newark",
          "Newland",
          "Noorpur Shahan",
          "Noorpur Shahan",
          "North Austin",
          "North Berkeley Hills",
          "Northwoods",
          "Northwoods",
          "Northwoods",
          "Nugegoda",
          "Oakland",
          "Oakland",
          "Oakland",
          "Oakland",
          "Old City",
          "Old City",
          "Orlando",
          "Palo Alto",
          "Palo Alto",
          "Parkway",
          "Pontchartrain Beach",
          "Port Bolivar",
          "Preston",
          "Preston",
          "R?walpindi",
          "R?walpindi",
          "Raleigh",
          "Raleigh",
          "Rawalpindi",
          "Rawalpindi",
          "Red River District",
          "Redmond",
          "Renaissance",
          "Ridgeland",
          "Rose Hill",
          "SOMISSPO",
          "SOMISSPO",
          "San Francisco",
          "San Francisco",
          "San Francisco",
          "San Francisco",
          "San Jose",
          "San Jose",
          "Sand Lake Commons",
          "Santa Clara",
          "Savon Height",
          "Savon Height",
          "Savon Height",
          "Seaport",
          "Seattle",
          "Sharpstown",
          "Sharpstown",
          "Sky Lake",
          "Soho",
          "South",
          "South",
          "South Berkeley",
          "South Congress",
          "South Congress",
          "South Congress",
          "Southside",
          "Southside",
          "Southside",
          "St Thomas",
          "Stonewater",
          "Storyville",
          "Storyville",
          "Sugar Land",
          "Summerwinds",
          "Sunnyside",
          "Sunnyvale",
          "Tanglewood",
          "Tanglewood",
          "Tanglewood",
          "Tenderloin",
          "The Drag",
          "The Drag",
          "The Drag",
          "The Drag",
          "Topton",
          "Topton",
          "Townes at Everett Crossing",
          "Tribeca",
          "University District",
          "Unknown Location",
          "Unknown Location",
          "Unknown Location",
          "Unknown Location",
          "Unknown Location",
          "Unknown Location",
          "Unknown Location",
          "Unknown Location",
          "Wake Co.",
          "Wake Forest",
          "Washington",
          "Washington Avenue",
          "Waverly Place",
          "Waverly Place",
          "Wayne Ridge",
          "West Berkeley",
          "West Berkeley",
          "West Berkeley",
          "West Berkeley",
          "West End",
          "West Palm Beach",
          "West University",
          "West University",
          "Westpark Place",
          "Westpark Place",
          "Whitebridge",
          "Whitebridge",
          "Whitebridge",
          "Whitebridge",
          "Whitebridge",
          "Whitebridge",
          "Whitebridge",
          "Whitebridge",
          "Whitebridge",
          "Whitebridge",
          "Whitebridge",
          "Whitebridge",
          "Whitebridge",
          "Whitebridge",
          "Whitebridge",
          "Whitebridge",
          "Whitebridge",
          "Whitebridge",
          "Whitebridge",
          "Whitebridge",
          "Whitebridge",
          "Winston Salem",
          "Agnew",
          "Alief",
          "Almond",
          "Apex",
          "Arabi",
          "Arlington",
          "Arlington Park at Amberly",
          "Arts District",
          "Asheville",
          "Banner Elk",
          "Bay Farm Island",
          "Bellevue",
          "Berkeley",
          "Boone",
          "Briar Meadow",
          "Bryson City",
          "Burtrose",
          "Bywater",
          "CBD",
          "Capitol One",
          "Cary",
          "Cedar Hill",
          "Central",
          "Chalmette",
          "Chapel Hill",
          "Chessington",
          "College Avenue",
          "Colombo",
          "Columbia Heights",
          "Congress Ave District",
          "Convention Center District",
          "Cory",
          "Covington",
          "Coxville",
          "Daytona Beach",
          "Depot Historic District",
          "Downtown",
          "Durham",
          "Eagle Rock",
          "East Elmhurst",
          "East Harlem",
          "Edgehill Farms",
          "El Cerrito",
          "Elk Park",
          "Emeryville",
          "Farmington Woods",
          "Faubourg Marigny",
          "Financial District",
          "Florence",
          "French Quarter",
          "Fuquay-Varina",
          "Galveston",
          "Gampaha",
          "Gramercy-Flatiron",
          "Greater Greenspoint",
          "Gulfton",
          "Harden Place",
          "Hayesville",
          "Hazelwood",
          "Hell's Kitchen",
          "Heritage Pines",
          "Hog Island",
          "Holly Springs",
          "Houston",
          "Hudson Square",
          "Ilukwatta",
          "Ingleside",
          "Islamabad",
          "Isles of Buena Vista",
          "Jackson Heights",
          "Jacksonville",
          "Jamaica",
          "Jamestown Court",
          "K Street",
          "Kalorama Triangle",
          "Kar?chi",
          "Katunayaka",
          "Katy",
          "Kenner",
          "Kilarney Woods",
          "Kildaire Farms",
          "Kips Bay",
          "Kissimmee",
          "Lahore",
          "Lake Wellingborough",
          "Lakeview",
          "Latta",
          "Leesville Hollow",
          "Lexington Park at Amberly",
          "Long Island City",
          "Lower Garden District",
          "Lower Manhattan",
          "Macgregor Downs",
          "Mandeville",
          "Marigny",
          "Mcvan",
          "Mebane",
          "Menlo Park",
          "Meredith Townes",
          "Metairie",
          "Midtown",
          "Midtown East",
          "Midtown West",
          "Morrisville",
          "Mountain View",
          "New Orleans",
          "New York",
          "Newark",
          "Newland",
          "NoMad",
          "Noorpur Shahan",
          "North Austin",
          "North Berkeley Hills",
          "Northwest Rectangle",
          "Northwoods",
          "Nugegoda",
          "Oakland",
          "Orlando",
          "Palm Beach",
          "Palo Alto",
          "Parkway",
          "Parkway Museums",
          "Pontchartrain Beach",
          "Port Bolivar",
          "Potrero Flats",
          "Preston",
          "Queens",
          "Queens County",
          "R?walpindi",
          "Raleigh",
          "Rawalpindi",
          "Red River District",
          "Redmond",
          "Renaissance",
          "Ridgeland",
          "SOMISSPO",
          "San Francisco",
          "San Jose",
          "Sand Lake Commons",
          "Santa Clara",
          "Savon Height",
          "Seattle",
          "Sharpstown",
          "Sky Lake",
          "Soho",
          "South",
          "South Berkeley",
          "South Congress",
          "Southside",
          "Southwest Berkeley",
          "St Thomas",
          "Stonewater",
          "Storyville",
          "Sugar Land",
          "Summerwinds",
          "Sunnyside",
          "Sunnyvale",
          "Tanglewood",
          "Tenderloin",
          "The Drag",
          "Topton",
          "Tribeca",
          "Tudor City",
          "Umstead",
          "University District",
          "Unknown Location",
          "Vista East",
          "Wake Co.",
          "Wake Forest",
          "Walnut Terrace",
          "Washington",
          "Washington Avenue",
          "Waverly Place",
          "Wayne Ridge",
          "West Berkeley",
          "West Palm Beach",
          "West University",
          "Weston",
          "Westpark Place",
          "Whitebridge",
          "Williamsburg Manor",
          "Winston Salem"
         ],
         "name": "",
         "parents": [
          "Cory/Agnew",
          "Bryson City/Almond",
          "Eagle Rock/Apex",
          "Holly Springs/Apex",
          "Metairie/Arabi",
          "Washington/Arlington",
          "Lexington Park at Amberly/Arlington Park at Amberly",
          "Mebane/Asheville",
          "Topton/Asheville",
          "Katy/Austin",
          "Boone/Banner Elk",
          "Elk Park/Banner Elk",
          "Newland/Banner Elk",
          "Seattle/Bellevue",
          "El Cerrito/Berkeley",
          "Menlo Park/Berkeley",
          "Mountain View/Berkeley",
          "San Jose/Berkeley",
          "Banner Elk/Boone",
          "Cary/Boone",
          "Midtown/Briar Meadow",
          "Almond/Bryson City",
          "Asheville/Bryson City",
          "Whitebridge/Burtrose",
          "Bywater/CBD",
          "Lower Garden District/CBD",
          "Pontchartrain Beach/CBD",
          "St Thomas/CBD",
          "Mcvan/Capitol One",
          "University District/Capitol One",
          "Chapel Hill/Cary",
          "Fuquay-Varina/Cary",
          "Holly Springs/Cary",
          "Latta/Cary",
          "Unknown Location/Cary",
          "Wake Co./Cary",
          "Wake Forest/Cary",
          "Winston Salem/Cary",
          "College Avenue/Central",
          "South/Central",
          "West Berkeley/Central",
          "Arabi/Chalmette",
          "Cary/Chapel Hill",
          "Morrisville/Chapel Hill",
          "Whitebridge/Chessington",
          "Central/College Avenue",
          "Katunayaka/Colombo",
          "Nugegoda/Colombo",
          "Kalorama Triangle/Columbia Heights",
          "Downtown/Congress Ave District",
          "Kalorama Triangle/Connecticut Avenue",
          "West University/Convention Center District",
          "Agnew/Cory",
          "Isles of Buena Vista/Couples Glen",
          "Vista East/Couples Glen",
          "Mandeville/Covington",
          "The Drag/Coxville",
          "Jacksonville/Daytona Beach",
          "Bay Farm Island/Downtown",
          "Central/Downtown",
          "Gulfton/Downtown",
          "Midtown/Downtown",
          "Red River District/Downtown",
          "Sunnyside/Downtown",
          "West Berkeley/Downtown",
          "Apex/Durham",
          "Jamestown Court/Eagan Park",
          "Cary/Eagle Rock",
          "West University/East Austin",
          "Jackson Heights/East Elmhurst",
          "New York/East Elmhurst",
          "NoMad/East Harlem",
          "Walnut Terrace/Eastgate",
          "Burtrose/Edgehill Farms",
          "Preston/Edgehill Farms",
          "Berkeley/El Cerrito",
          "Banner Elk/Elk Park",
          "New York/Elmhurst",
          "San Francisco/Emeryville",
          "Meredith Townes/Fairmont",
          "Edgehill Farms/Farmington Woods",
          "Whitebridge/Farmington Woods",
          "Depot Historic District/Fayetteville Street",
          "Meredith Townes/Fayetteville Street",
          "Umstead/Fayetteville Street",
          "Kips Bay/Financial District",
          "Midtown/Flatiron District",
          "Cary/Florence",
          "West Palm Beach/Fort Pierce",
          "Cary/Fuquay-Varina",
          "Houston/Galveston",
          "Port Bolivar/Galveston",
          "Ilukwatta/Gampaha",
          "The Drag/Georgian Acres",
          "Downtown/Gulfton",
          "Topton/Hayesville",
          "Lexington Park at Amberly/Hazelwood",
          "Weston/Hazelwood",
          "Midtown/Hell's Kitchen",
          "Edgehill Farms/Heritage Pines",
          "Whitebridge/Heritage Pines",
          "Galveston/Houston",
          "Sugar Land/Houston",
          "Hell's Kitchen/Hudson Square",
          "Lower Manhattan/Hudson Square",
          "Potrero Flats/Ingleside",
          "Noorpur Shahan/Islamabad",
          "Rawalpindi/Islamabad",
          "East Elmhurst/Jackson Heights",
          "Kissimmee/Jacksonville",
          "Ridgeland/Jacksonville",
          "Columbia Heights/Kalorama Triangle",
          "Downtown/Kalorama Triangle",
          "K Street/Kalorama Triangle",
          "Unknown Location/Katunayaka",
          "Gampaha/Katunayake",
          "Houston/Katy",
          "Metairie/Kenner",
          "Kildaire Farms/Kilarney Woods",
          "Whitebridge/Kilarney Woods",
          "Daytona Beach/Kissimmee",
          "Whitebridge/Krendle Woods",
          "Whitebridge/Lake Wellingborough",
          "Storyville/Lakeview",
          "Jacksonville/Latta",
          "Westpark Place/Lexington Park at Amberly",
          "Whitebridge/Lexington Park at Amberly",
          "Jamaica/Long Island City",
          "Lakeview/Lower Garden District",
          "Hudson Square/Lower Manhattan",
          "Metairie/Mandeville",
          "Storyville/Marigny",
          "Capitol One/Mcvan",
          "Cary/Mebane",
          "Tudor City/Medical Centre",
          "Berkeley/Menlo Park",
          "Newark/Menlo Park",
          "Palo Alto/Menlo Park",
          "Cedar Hill/Meredith",
          "Harden Place/Meredith Townes",
          "Alief/Midtown",
          "Downtown/Midtown",
          "East Harlem/Midtown",
          "Greater Greenspoint/Midtown",
          "Hudson Square/Midtown",
          "Midtown East/Midtown",
          "Midtown West/Midtown",
          "Washington Avenue/Midtown",
          "Midtown/Midtown East",
          "Banner Elk/Morrisville",
          "Berkeley/Mountain View",
          "Downtown/NOMA",
          "Chalmette/New Orleans",
          "Covington/New Orleans",
          "Jamaica/New York",
          "Long Island City/New York",
          "Queens/New York",
          "Queens County/New York",
          "Menlo Park/Newark",
          "San Francisco/Newark",
          "Boone/Newland",
          "Coxville/North Austin",
          "Southside/North Berkeley Hills",
          "Preston/Northwoods",
          "Tanglewood/Northwoods",
          "Whitebridge/Northwoods",
          "Unknown Location/Nugegoda",
          "Unknown Location/Oakland",
          "Hog Island/Old City",
          "Parkway Museums/Old City",
          "Menlo Park/Palo Alto",
          "Sunnyvale/Palo Alto",
          "CBD/Pontchartrain Beach",
          "Galveston/Port Bolivar",
          "Westpark Place/Preston",
          "Islamabad/R?walpindi",
          "Islamabad/Rawalpindi",
          "Downtown/Red River District",
          "Bellevue/Redmond",
          "Florence/Ridgeland",
          "Soho/Rose Hill",
          "French Quarter/SOMISSPO",
          "Tenderloin/SOMISSPO",
          "Emeryville/San Francisco",
          "Palo Alto/San Francisco",
          "Emeryville/San Jose",
          "Santa Clara/San Jose",
          "Sky Lake/Sand Lake Commons",
          "Berkeley/Santa Clara",
          "Kilarney Woods/Savon Height",
          "Parkway/Savon Height",
          "Gramercy-Flatiron/Seaport",
          "Redmond/Seattle",
          "Briar Meadow/Sharpstown",
          "Sand Lake Commons/Sky Lake",
          "Tribeca/Soho",
          "Downtown/South",
          "Southwest Berkeley/South",
          "Southside/South Berkeley",
          "Arts District/South Congress",
          "North Austin/South Congress",
          "South Berkeley/Southside",
          "West Berkeley/Southside",
          "CBD/St Thomas",
          "Lexington Park at Amberly/Stonewater",
          "Faubourg Marigny/Storyville",
          "Marigny/Storyville",
          "Houston/Sugar Land",
          "Whitebridge/Summerwinds",
          "Ingleside/Sunnyside",
          "Newark/Sunnyvale",
          "Parkway/Tanglewood",
          "Preston/Tanglewood",
          "SOMISSPO/Tenderloin",
          "North Austin/The Drag",
          "Bryson City/Topton",
          "Hayesville/Topton",
          "Chessington/Townes at Everett Crossing",
          "Financial District/Tribeca",
          "Capitol One/University District",
          "Morrisville/Unknown Location",
          "Morrisville/Wake Co.",
          "Cary/Wake Forest",
          "Arlington/Washington",
          "Midtown/Washington Avenue",
          "Macgregor Downs/Waverly Place",
          "North Berkeley Hills/West Berkeley",
          "South/West Berkeley",
          "Southside/West Berkeley",
          "Northwest Rectangle/West End",
          "Palm Beach/West Palm Beach",
          "Congress Ave District/West University",
          "South Congress/West University",
          "Hazelwood/Westpark Place",
          "Arlington Park at Amberly/Whitebridge",
          "Burtrose/Whitebridge",
          "Chessington/Whitebridge",
          "Farmington Woods/Whitebridge",
          "Kildaire Farms/Whitebridge",
          "Lake Wellingborough/Whitebridge",
          "Macgregor Downs/Whitebridge",
          "Stonewater/Whitebridge",
          "Summerwinds/Whitebridge",
          "Williamsburg Manor/Whitebridge",
          "Asheville/Winston Salem",
          "Renaissance/Agnew",
          "Southside/Central",
          "The Drag/Downtown",
          "Cary/Holly Springs",
          "Weston/Huntington Woods",
          "R?walpindi/Islamabad",
          "New York/Jamaica",
          "Kalorama Triangle/K Street",
          "Unknown Location/Karachi",
          "Leesville Hollow/Meredith Townes",
          "Kenner/Metairie",
          "New Orleans/Metairie",
          "Metairie/New Orleans",
          "Unknown Location/Noorpur Shahan",
          "Berkeley/Oakland",
          "Emeryville/Oakland",
          "San Francisco/Oakland",
          "Agnew/Renaissance",
          "Oakland/San Francisco",
          "Whitebridge/Savon Height",
          "Central/Southside",
          "Whitebridge/Tanglewood",
          "Congress Ave District/The Drag",
          "Convention Center District/The Drag",
          "South Congress/The Drag",
          "Colombo/Unknown Location",
          "Central/West Berkeley",
          "Heritage Pines/Whitebridge",
          "Northwoods/Whitebridge",
          "Oakland/Berkeley",
          "Oakland/Emeryville",
          "Islamabad/Noorpur Shahan",
          "Unknown Location/Rawalpindi",
          "Midtown/Sharpstown",
          "The Drag/South Congress",
          "Rawalpindi/Unknown Location",
          "Whitebridge/Waverly Place",
          "Parkway/Whitebridge",
          "Preston/Whitebridge",
          "Savon Height/Whitebridge",
          "Tanglewood/Whitebridge",
          "San Francisco/Berkeley",
          "Morrisville/Durham",
          "Sharpstown/Midtown",
          "Raleigh/Morrisville",
          "Berkeley/San Francisco",
          "Noorpur Shahan/Unknown Location",
          "Whitebridge/Wayne Ridge",
          "Hazelwood/Whitebridge",
          "Wayne Ridge/Whitebridge",
          "Emeryville/Berkeley",
          "Whitebridge/Hazelwood",
          "Whitebridge/Parkway",
          "Whitebridge/Preston",
          "Morrisville/Raleigh",
          "Waverly Place/Whitebridge",
          "Whitebridge/Edgehill Farms",
          "Berkeley/Emeryville",
          "Orlando/Kissimmee",
          "Kenner/New Orleans",
          "Kar?chi/Unknown Location",
          "Unknown Location/Kar?chi",
          "Kissimmee/Orlando",
          "New Orleans/Kenner",
          "Unknown Location/R?walpindi",
          "Edgehill Farms/Whitebridge",
          "Unknown Location/Lahore",
          "Lahore/Unknown Location",
          "R?walpindi/Unknown Location",
          "Cary/Apex",
          "Apex/Cary",
          "Westpark Place/Whitebridge",
          "Whitebridge/Westpark Place",
          "Cary/Raleigh",
          "Raleigh/Cary",
          "Unknown Location/Islamabad",
          "Islamabad/Unknown Location",
          "Cary/Durham",
          "Durham/Cary",
          "Morrisville/Cary",
          "Cary/Morrisville",
          "Cory",
          "Renaissance",
          "Bryson City",
          "Cary",
          "Eagle Rock",
          "Holly Springs",
          "Metairie",
          "Washington",
          "Lexington Park at Amberly",
          "Mebane",
          "Topton",
          "Katy",
          "Boone",
          "Elk Park",
          "Newland",
          "Seattle",
          "El Cerrito",
          "Emeryville",
          "Menlo Park",
          "Mountain View",
          "Oakland",
          "San Francisco",
          "San Jose",
          "Banner Elk",
          "Cary",
          "Midtown",
          "Almond",
          "Asheville",
          "Whitebridge",
          "Bywater",
          "Lower Garden District",
          "Pontchartrain Beach",
          "St Thomas",
          "Mcvan",
          "University District",
          "Apex",
          "Chapel Hill",
          "Durham",
          "Fuquay-Varina",
          "Holly Springs",
          "Latta",
          "Morrisville",
          "Raleigh",
          "Unknown Location",
          "Wake Co.",
          "Wake Forest",
          "Winston Salem",
          "College Avenue",
          "South",
          "Southside",
          "West Berkeley",
          "Arabi",
          "Cary",
          "Morrisville",
          "Whitebridge",
          "Central",
          "Katunayaka",
          "Nugegoda",
          "Kalorama Triangle",
          "Downtown",
          "Kalorama Triangle",
          "West University",
          "Agnew",
          "Isles of Buena Vista",
          "Vista East",
          "Mandeville",
          "The Drag",
          "Jacksonville",
          "Bay Farm Island",
          "Central",
          "Gulfton",
          "Midtown",
          "Red River District",
          "Sunnyside",
          "The Drag",
          "West Berkeley",
          "Apex",
          "Cary",
          "Morrisville",
          "Jamestown Court",
          "Cary",
          "West University",
          "Jackson Heights",
          "New York",
          "NoMad",
          "Walnut Terrace",
          "Burtrose",
          "Preston",
          "Whitebridge",
          "Berkeley",
          "Banner Elk",
          "New York",
          "Berkeley",
          "Oakland",
          "San Francisco",
          "Meredith Townes",
          "Edgehill Farms",
          "Whitebridge",
          "Depot Historic District",
          "Meredith Townes",
          "Umstead",
          "Kips Bay",
          "Midtown",
          "Cary",
          "West Palm Beach",
          "Cary",
          "Houston",
          "Port Bolivar",
          "Ilukwatta",
          "The Drag",
          "Downtown",
          "Topton",
          "Lexington Park at Amberly",
          "Weston",
          "Whitebridge",
          "Midtown",
          "Edgehill Farms",
          "Whitebridge",
          "Cary",
          "Galveston",
          "Sugar Land",
          "Hell's Kitchen",
          "Lower Manhattan",
          "Weston",
          "Potrero Flats",
          "Noorpur Shahan",
          "R?walpindi",
          "Rawalpindi",
          "Unknown Location",
          "East Elmhurst",
          "Kissimmee",
          "Ridgeland",
          "New York",
          "Kalorama Triangle",
          "Columbia Heights",
          "Downtown",
          "K Street",
          "Unknown Location",
          "Unknown Location",
          "Unknown Location",
          "Gampaha",
          "Houston",
          "Metairie",
          "New Orleans",
          "Kildaire Farms",
          "Whitebridge",
          "Daytona Beach",
          "Orlando",
          "Whitebridge",
          "Unknown Location",
          "Whitebridge",
          "Storyville",
          "Jacksonville",
          "Westpark Place",
          "Whitebridge",
          "Jamaica",
          "Lakeview",
          "Hudson Square",
          "Metairie",
          "Storyville",
          "Capitol One",
          "Cary",
          "Tudor City",
          "Berkeley",
          "Newark",
          "Palo Alto",
          "Cedar Hill",
          "Harden Place",
          "Leesville Hollow",
          "Kenner",
          "New Orleans",
          "Alief",
          "Downtown",
          "East Harlem",
          "Greater Greenspoint",
          "Hudson Square",
          "Midtown East",
          "Midtown West",
          "Sharpstown",
          "Washington Avenue",
          "Midtown",
          "Banner Elk",
          "Cary",
          "Raleigh",
          "Berkeley",
          "Downtown",
          "Chalmette",
          "Covington",
          "Kenner",
          "Metairie",
          "Jamaica",
          "Long Island City",
          "Queens",
          "Queens County",
          "Menlo Park",
          "San Francisco",
          "Boone",
          "Islamabad",
          "Unknown Location",
          "Coxville",
          "Southside",
          "Preston",
          "Tanglewood",
          "Whitebridge",
          "Unknown Location",
          "Berkeley",
          "Emeryville",
          "San Francisco",
          "Unknown Location",
          "Hog Island",
          "Parkway Museums",
          "Kissimmee",
          "Menlo Park",
          "Sunnyvale",
          "Whitebridge",
          "CBD",
          "Galveston",
          "Westpark Place",
          "Whitebridge",
          "Islamabad",
          "Unknown Location",
          "Cary",
          "Morrisville",
          "Islamabad",
          "Unknown Location",
          "Downtown",
          "Bellevue",
          "Agnew",
          "Florence",
          "Soho",
          "French Quarter",
          "Tenderloin",
          "Berkeley",
          "Emeryville",
          "Oakland",
          "Palo Alto",
          "Emeryville",
          "Santa Clara",
          "Sky Lake",
          "Berkeley",
          "Kilarney Woods",
          "Parkway",
          "Whitebridge",
          "Gramercy-Flatiron",
          "Redmond",
          "Briar Meadow",
          "Midtown",
          "Sand Lake Commons",
          "Tribeca",
          "Downtown",
          "Southwest Berkeley",
          "Southside",
          "Arts District",
          "North Austin",
          "The Drag",
          "Central",
          "South Berkeley",
          "West Berkeley",
          "CBD",
          "Lexington Park at Amberly",
          "Faubourg Marigny",
          "Marigny",
          "Houston",
          "Whitebridge",
          "Ingleside",
          "Newark",
          "Parkway",
          "Preston",
          "Whitebridge",
          "SOMISSPO",
          "Congress Ave District",
          "Convention Center District",
          "North Austin",
          "South Congress",
          "Bryson City",
          "Hayesville",
          "Chessington",
          "Financial District",
          "Capitol One",
          "Colombo",
          "Islamabad",
          "Kar?chi",
          "Lahore",
          "Morrisville",
          "Noorpur Shahan",
          "R?walpindi",
          "Rawalpindi",
          "Morrisville",
          "Cary",
          "Arlington",
          "Midtown",
          "Macgregor Downs",
          "Whitebridge",
          "Whitebridge",
          "Central",
          "North Berkeley Hills",
          "South",
          "Southside",
          "Northwest Rectangle",
          "Palm Beach",
          "Congress Ave District",
          "South Congress",
          "Hazelwood",
          "Whitebridge",
          "Arlington Park at Amberly",
          "Burtrose",
          "Chessington",
          "Edgehill Farms",
          "Farmington Woods",
          "Hazelwood",
          "Heritage Pines",
          "Kildaire Farms",
          "Lake Wellingborough",
          "Macgregor Downs",
          "Northwoods",
          "Parkway",
          "Preston",
          "Savon Height",
          "Stonewater",
          "Summerwinds",
          "Tanglewood",
          "Waverly Place",
          "Wayne Ridge",
          "Westpark Place",
          "Williamsburg Manor",
          "Asheville",
          "",
          "",
          "",
          "",
          "",
          "",
          "",
          "",
          "",
          "",
          "",
          "",
          "",
          "",
          "",
          "",
          "",
          "",
          "",
          "",
          "",
          "",
          "",
          "",
          "",
          "",
          "",
          "",
          "",
          "",
          "",
          "",
          "",
          "",
          "",
          "",
          "",
          "",
          "",
          "",
          "",
          "",
          "",
          "",
          "",
          "",
          "",
          "",
          "",
          "",
          "",
          "",
          "",
          "",
          "",
          "",
          "",
          "",
          "",
          "",
          "",
          "",
          "",
          "",
          "",
          "",
          "",
          "",
          "",
          "",
          "",
          "",
          "",
          "",
          "",
          "",
          "",
          "",
          "",
          "",
          "",
          "",
          "",
          "",
          "",
          "",
          "",
          "",
          "",
          "",
          "",
          "",
          "",
          "",
          "",
          "",
          "",
          "",
          "",
          "",
          "",
          "",
          "",
          "",
          "",
          "",
          "",
          "",
          "",
          "",
          "",
          "",
          "",
          "",
          "",
          "",
          "",
          "",
          "",
          "",
          "",
          "",
          "",
          "",
          "",
          "",
          "",
          "",
          "",
          "",
          "",
          "",
          "",
          "",
          "",
          "",
          "",
          "",
          "",
          "",
          "",
          "",
          "",
          "",
          "",
          "",
          "",
          "",
          "",
          "",
          "",
          "",
          "",
          "",
          "",
          "",
          "",
          "",
          "",
          "",
          "",
          "",
          "",
          "",
          "",
          "",
          "",
          "",
          "",
          "",
          "",
          "",
          "",
          "",
          "",
          "",
          "",
          "",
          "",
          "",
          "",
          ""
         ],
         "type": "sunburst",
         "values": [
          1,
          1,
          1,
          1,
          1,
          1,
          1,
          1,
          1,
          1,
          1,
          1,
          1,
          1,
          1,
          1,
          1,
          1,
          1,
          1,
          1,
          1,
          1,
          1,
          1,
          1,
          1,
          1,
          1,
          1,
          1,
          1,
          1,
          1,
          1,
          1,
          1,
          1,
          1,
          1,
          1,
          1,
          1,
          1,
          1,
          1,
          1,
          1,
          1,
          1,
          1,
          1,
          1,
          1,
          1,
          1,
          1,
          1,
          1,
          1,
          1,
          1,
          1,
          1,
          1,
          1,
          1,
          1,
          1,
          1,
          1,
          1,
          1,
          1,
          1,
          1,
          1,
          1,
          1,
          1,
          1,
          1,
          1,
          1,
          1,
          1,
          1,
          1,
          1,
          1,
          1,
          1,
          1,
          1,
          1,
          1,
          1,
          1,
          1,
          1,
          1,
          1,
          1,
          1,
          1,
          1,
          1,
          1,
          1,
          1,
          1,
          1,
          1,
          1,
          1,
          1,
          1,
          1,
          1,
          1,
          1,
          1,
          1,
          1,
          1,
          1,
          1,
          1,
          1,
          1,
          1,
          1,
          1,
          1,
          1,
          1,
          1,
          1,
          1,
          1,
          1,
          1,
          1,
          1,
          1,
          1,
          1,
          1,
          1,
          1,
          1,
          1,
          1,
          1,
          1,
          1,
          1,
          1,
          1,
          1,
          1,
          1,
          1,
          1,
          1,
          1,
          1,
          1,
          1,
          1,
          1,
          1,
          1,
          1,
          1,
          1,
          1,
          1,
          1,
          1,
          1,
          1,
          1,
          1,
          1,
          1,
          1,
          1,
          1,
          1,
          1,
          1,
          1,
          1,
          1,
          1,
          1,
          1,
          1,
          1,
          1,
          1,
          1,
          1,
          1,
          1,
          1,
          1,
          1,
          1,
          1,
          1,
          1,
          1,
          1,
          1,
          1,
          1,
          1,
          1,
          1,
          1,
          1,
          1,
          1,
          1,
          1,
          1,
          1,
          1,
          1,
          1,
          1,
          1,
          1,
          1,
          1,
          1,
          1,
          1,
          1,
          1,
          1,
          1,
          1,
          1,
          1,
          1,
          1,
          1,
          1,
          1,
          1,
          1,
          1,
          1,
          1,
          1,
          1,
          1,
          1,
          1,
          1,
          1,
          1,
          1,
          1,
          1,
          1,
          1,
          1,
          1,
          1,
          1,
          1,
          1,
          1,
          1,
          1,
          1,
          1,
          1,
          1,
          1,
          1,
          1,
          1,
          1,
          1,
          1,
          1,
          1,
          1,
          1,
          1,
          1,
          1,
          1,
          1,
          1,
          1,
          1,
          1,
          1,
          1,
          1,
          1,
          1,
          1,
          1,
          1,
          1,
          1,
          1,
          1,
          1,
          1,
          1,
          1,
          1,
          1,
          1,
          1,
          1,
          1,
          1,
          1,
          1,
          1,
          1,
          1,
          1,
          1,
          1,
          1,
          1,
          1,
          1,
          1,
          1,
          1,
          1,
          1,
          1,
          1,
          1,
          1,
          1,
          1,
          1,
          1,
          1,
          1,
          1,
          1,
          1,
          1,
          1,
          1,
          1,
          1,
          1,
          1,
          1,
          1,
          1,
          1,
          1,
          1,
          1,
          1,
          1,
          1,
          1,
          1,
          1,
          1,
          1,
          1,
          1,
          1,
          1,
          1,
          1,
          1,
          1,
          1,
          1,
          1,
          1,
          1,
          1,
          1,
          1,
          1,
          1,
          1,
          1,
          1,
          1,
          1,
          1,
          1,
          1,
          1,
          1,
          1,
          1,
          1,
          1,
          1,
          1,
          1,
          1,
          1,
          1,
          1,
          1,
          1,
          1,
          1,
          1,
          1,
          1,
          1,
          1,
          1,
          1,
          1,
          1,
          1,
          1,
          1,
          1,
          1,
          1,
          1,
          1,
          1,
          1,
          1,
          1,
          1,
          1,
          1,
          1,
          1,
          1,
          1,
          1,
          1,
          1,
          1,
          1,
          1,
          1,
          1,
          1,
          1,
          1,
          1,
          1,
          1,
          1,
          1,
          1,
          1,
          1,
          1,
          1,
          1,
          1,
          1,
          1,
          1,
          1,
          1,
          1,
          1,
          1,
          1,
          1,
          1,
          1,
          1,
          1,
          1,
          1,
          1,
          1,
          1,
          1,
          1,
          1,
          1,
          1,
          1,
          1,
          1,
          1,
          1,
          1,
          1,
          1,
          1,
          1,
          1,
          1,
          1,
          1,
          1,
          1,
          1,
          1,
          1,
          1,
          1,
          1,
          1,
          1,
          1,
          1,
          1,
          1,
          1,
          1,
          1,
          1,
          1,
          1,
          1,
          1,
          1,
          1,
          1,
          1,
          1,
          1,
          1,
          1,
          1,
          1,
          1,
          1,
          1,
          1,
          1,
          1,
          1,
          1,
          1,
          1,
          1,
          1,
          1,
          1,
          1,
          1,
          1,
          1,
          1,
          1,
          1,
          1,
          1,
          1,
          1,
          1,
          1,
          1,
          1,
          1,
          1,
          1,
          1,
          1,
          1,
          1,
          1,
          1,
          1,
          1,
          1,
          1,
          1,
          1,
          1,
          1,
          1,
          1,
          1,
          1,
          1,
          1,
          1,
          1,
          1,
          1,
          1,
          1,
          1,
          1,
          1,
          1,
          1,
          1,
          1,
          1,
          1,
          1,
          1,
          1,
          1,
          1,
          1,
          1,
          1,
          1,
          1,
          1,
          1,
          1,
          1,
          1,
          1,
          1,
          1,
          1,
          1,
          1,
          1,
          1,
          1,
          1,
          1,
          1,
          1,
          1,
          1,
          1,
          1,
          1,
          1,
          1,
          1,
          1,
          1,
          1,
          1,
          1,
          1,
          1,
          2,
          1,
          1,
          2,
          1,
          1,
          1,
          1,
          2,
          3,
          1,
          1,
          7,
          2,
          1,
          2,
          2,
          1,
          2,
          2,
          12,
          1,
          4,
          1,
          1,
          2,
          1,
          1,
          1,
          2,
          1,
          1,
          1,
          1,
          1,
          1,
          7,
          1,
          1,
          1,
          1,
          3,
          1,
          1,
          4,
          1,
          1,
          1,
          1,
          1,
          1,
          2,
          1,
          1,
          1,
          1,
          1,
          1,
          2,
          1,
          1,
          1,
          2,
          3,
          2,
          1,
          1,
          4,
          1,
          1,
          2,
          2,
          1,
          1,
          3,
          1,
          1,
          1,
          2,
          1,
          2,
          1,
          2,
          1,
          1,
          1,
          1,
          1,
          3,
          1,
          1,
          1,
          2,
          1,
          1,
          1,
          1,
          3,
          2,
          4,
          7,
          1,
          1,
          6,
          1,
          2,
          3,
          2,
          1,
          1,
          2,
          2,
          1,
          1,
          1,
          1,
          3,
          1,
          1,
          2,
          3,
          1,
          1,
          1,
          1,
          4,
          1,
          1,
          2,
          2,
          2,
          1,
          1,
          1,
          1,
          1,
          4,
          1,
          1,
          1,
          1,
          1,
          1,
          1,
          1,
          2,
          1,
          2,
          4,
          1,
          1,
          1,
          2,
          1,
          1,
          1,
          1,
          2,
          1,
          4,
          2,
          1,
          1,
          1,
          1,
          11,
          1,
          1,
          1,
          1,
          1,
          1,
          1,
          1,
          3,
          1,
          2,
          2,
          3,
          19,
          1,
          1
         ]
        }
       ],
       "layout": {
        "legend": {
         "tracegroupgap": 0
        },
        "template": {
         "data": {
          "bar": [
           {
            "error_x": {
             "color": "#2a3f5f"
            },
            "error_y": {
             "color": "#2a3f5f"
            },
            "marker": {
             "line": {
              "color": "#E5ECF6",
              "width": 0.5
             }
            },
            "type": "bar"
           }
          ],
          "barpolar": [
           {
            "marker": {
             "line": {
              "color": "#E5ECF6",
              "width": 0.5
             }
            },
            "type": "barpolar"
           }
          ],
          "carpet": [
           {
            "aaxis": {
             "endlinecolor": "#2a3f5f",
             "gridcolor": "white",
             "linecolor": "white",
             "minorgridcolor": "white",
             "startlinecolor": "#2a3f5f"
            },
            "baxis": {
             "endlinecolor": "#2a3f5f",
             "gridcolor": "white",
             "linecolor": "white",
             "minorgridcolor": "white",
             "startlinecolor": "#2a3f5f"
            },
            "type": "carpet"
           }
          ],
          "choropleth": [
           {
            "colorbar": {
             "outlinewidth": 0,
             "ticks": ""
            },
            "type": "choropleth"
           }
          ],
          "contour": [
           {
            "colorbar": {
             "outlinewidth": 0,
             "ticks": ""
            },
            "colorscale": [
             [
              0,
              "#0d0887"
             ],
             [
              0.1111111111111111,
              "#46039f"
             ],
             [
              0.2222222222222222,
              "#7201a8"
             ],
             [
              0.3333333333333333,
              "#9c179e"
             ],
             [
              0.4444444444444444,
              "#bd3786"
             ],
             [
              0.5555555555555556,
              "#d8576b"
             ],
             [
              0.6666666666666666,
              "#ed7953"
             ],
             [
              0.7777777777777778,
              "#fb9f3a"
             ],
             [
              0.8888888888888888,
              "#fdca26"
             ],
             [
              1,
              "#f0f921"
             ]
            ],
            "type": "contour"
           }
          ],
          "contourcarpet": [
           {
            "colorbar": {
             "outlinewidth": 0,
             "ticks": ""
            },
            "type": "contourcarpet"
           }
          ],
          "heatmap": [
           {
            "colorbar": {
             "outlinewidth": 0,
             "ticks": ""
            },
            "colorscale": [
             [
              0,
              "#0d0887"
             ],
             [
              0.1111111111111111,
              "#46039f"
             ],
             [
              0.2222222222222222,
              "#7201a8"
             ],
             [
              0.3333333333333333,
              "#9c179e"
             ],
             [
              0.4444444444444444,
              "#bd3786"
             ],
             [
              0.5555555555555556,
              "#d8576b"
             ],
             [
              0.6666666666666666,
              "#ed7953"
             ],
             [
              0.7777777777777778,
              "#fb9f3a"
             ],
             [
              0.8888888888888888,
              "#fdca26"
             ],
             [
              1,
              "#f0f921"
             ]
            ],
            "type": "heatmap"
           }
          ],
          "heatmapgl": [
           {
            "colorbar": {
             "outlinewidth": 0,
             "ticks": ""
            },
            "colorscale": [
             [
              0,
              "#0d0887"
             ],
             [
              0.1111111111111111,
              "#46039f"
             ],
             [
              0.2222222222222222,
              "#7201a8"
             ],
             [
              0.3333333333333333,
              "#9c179e"
             ],
             [
              0.4444444444444444,
              "#bd3786"
             ],
             [
              0.5555555555555556,
              "#d8576b"
             ],
             [
              0.6666666666666666,
              "#ed7953"
             ],
             [
              0.7777777777777778,
              "#fb9f3a"
             ],
             [
              0.8888888888888888,
              "#fdca26"
             ],
             [
              1,
              "#f0f921"
             ]
            ],
            "type": "heatmapgl"
           }
          ],
          "histogram": [
           {
            "marker": {
             "colorbar": {
              "outlinewidth": 0,
              "ticks": ""
             }
            },
            "type": "histogram"
           }
          ],
          "histogram2d": [
           {
            "colorbar": {
             "outlinewidth": 0,
             "ticks": ""
            },
            "colorscale": [
             [
              0,
              "#0d0887"
             ],
             [
              0.1111111111111111,
              "#46039f"
             ],
             [
              0.2222222222222222,
              "#7201a8"
             ],
             [
              0.3333333333333333,
              "#9c179e"
             ],
             [
              0.4444444444444444,
              "#bd3786"
             ],
             [
              0.5555555555555556,
              "#d8576b"
             ],
             [
              0.6666666666666666,
              "#ed7953"
             ],
             [
              0.7777777777777778,
              "#fb9f3a"
             ],
             [
              0.8888888888888888,
              "#fdca26"
             ],
             [
              1,
              "#f0f921"
             ]
            ],
            "type": "histogram2d"
           }
          ],
          "histogram2dcontour": [
           {
            "colorbar": {
             "outlinewidth": 0,
             "ticks": ""
            },
            "colorscale": [
             [
              0,
              "#0d0887"
             ],
             [
              0.1111111111111111,
              "#46039f"
             ],
             [
              0.2222222222222222,
              "#7201a8"
             ],
             [
              0.3333333333333333,
              "#9c179e"
             ],
             [
              0.4444444444444444,
              "#bd3786"
             ],
             [
              0.5555555555555556,
              "#d8576b"
             ],
             [
              0.6666666666666666,
              "#ed7953"
             ],
             [
              0.7777777777777778,
              "#fb9f3a"
             ],
             [
              0.8888888888888888,
              "#fdca26"
             ],
             [
              1,
              "#f0f921"
             ]
            ],
            "type": "histogram2dcontour"
           }
          ],
          "mesh3d": [
           {
            "colorbar": {
             "outlinewidth": 0,
             "ticks": ""
            },
            "type": "mesh3d"
           }
          ],
          "parcoords": [
           {
            "line": {
             "colorbar": {
              "outlinewidth": 0,
              "ticks": ""
             }
            },
            "type": "parcoords"
           }
          ],
          "pie": [
           {
            "automargin": true,
            "type": "pie"
           }
          ],
          "scatter": [
           {
            "marker": {
             "colorbar": {
              "outlinewidth": 0,
              "ticks": ""
             }
            },
            "type": "scatter"
           }
          ],
          "scatter3d": [
           {
            "line": {
             "colorbar": {
              "outlinewidth": 0,
              "ticks": ""
             }
            },
            "marker": {
             "colorbar": {
              "outlinewidth": 0,
              "ticks": ""
             }
            },
            "type": "scatter3d"
           }
          ],
          "scattercarpet": [
           {
            "marker": {
             "colorbar": {
              "outlinewidth": 0,
              "ticks": ""
             }
            },
            "type": "scattercarpet"
           }
          ],
          "scattergeo": [
           {
            "marker": {
             "colorbar": {
              "outlinewidth": 0,
              "ticks": ""
             }
            },
            "type": "scattergeo"
           }
          ],
          "scattergl": [
           {
            "marker": {
             "colorbar": {
              "outlinewidth": 0,
              "ticks": ""
             }
            },
            "type": "scattergl"
           }
          ],
          "scattermapbox": [
           {
            "marker": {
             "colorbar": {
              "outlinewidth": 0,
              "ticks": ""
             }
            },
            "type": "scattermapbox"
           }
          ],
          "scatterpolar": [
           {
            "marker": {
             "colorbar": {
              "outlinewidth": 0,
              "ticks": ""
             }
            },
            "type": "scatterpolar"
           }
          ],
          "scatterpolargl": [
           {
            "marker": {
             "colorbar": {
              "outlinewidth": 0,
              "ticks": ""
             }
            },
            "type": "scatterpolargl"
           }
          ],
          "scatterternary": [
           {
            "marker": {
             "colorbar": {
              "outlinewidth": 0,
              "ticks": ""
             }
            },
            "type": "scatterternary"
           }
          ],
          "surface": [
           {
            "colorbar": {
             "outlinewidth": 0,
             "ticks": ""
            },
            "colorscale": [
             [
              0,
              "#0d0887"
             ],
             [
              0.1111111111111111,
              "#46039f"
             ],
             [
              0.2222222222222222,
              "#7201a8"
             ],
             [
              0.3333333333333333,
              "#9c179e"
             ],
             [
              0.4444444444444444,
              "#bd3786"
             ],
             [
              0.5555555555555556,
              "#d8576b"
             ],
             [
              0.6666666666666666,
              "#ed7953"
             ],
             [
              0.7777777777777778,
              "#fb9f3a"
             ],
             [
              0.8888888888888888,
              "#fdca26"
             ],
             [
              1,
              "#f0f921"
             ]
            ],
            "type": "surface"
           }
          ],
          "table": [
           {
            "cells": {
             "fill": {
              "color": "#EBF0F8"
             },
             "line": {
              "color": "white"
             }
            },
            "header": {
             "fill": {
              "color": "#C8D4E3"
             },
             "line": {
              "color": "white"
             }
            },
            "type": "table"
           }
          ]
         },
         "layout": {
          "annotationdefaults": {
           "arrowcolor": "#2a3f5f",
           "arrowhead": 0,
           "arrowwidth": 1
          },
          "autotypenumbers": "strict",
          "coloraxis": {
           "colorbar": {
            "outlinewidth": 0,
            "ticks": ""
           }
          },
          "colorscale": {
           "diverging": [
            [
             0,
             "#8e0152"
            ],
            [
             0.1,
             "#c51b7d"
            ],
            [
             0.2,
             "#de77ae"
            ],
            [
             0.3,
             "#f1b6da"
            ],
            [
             0.4,
             "#fde0ef"
            ],
            [
             0.5,
             "#f7f7f7"
            ],
            [
             0.6,
             "#e6f5d0"
            ],
            [
             0.7,
             "#b8e186"
            ],
            [
             0.8,
             "#7fbc41"
            ],
            [
             0.9,
             "#4d9221"
            ],
            [
             1,
             "#276419"
            ]
           ],
           "sequential": [
            [
             0,
             "#0d0887"
            ],
            [
             0.1111111111111111,
             "#46039f"
            ],
            [
             0.2222222222222222,
             "#7201a8"
            ],
            [
             0.3333333333333333,
             "#9c179e"
            ],
            [
             0.4444444444444444,
             "#bd3786"
            ],
            [
             0.5555555555555556,
             "#d8576b"
            ],
            [
             0.6666666666666666,
             "#ed7953"
            ],
            [
             0.7777777777777778,
             "#fb9f3a"
            ],
            [
             0.8888888888888888,
             "#fdca26"
            ],
            [
             1,
             "#f0f921"
            ]
           ],
           "sequentialminus": [
            [
             0,
             "#0d0887"
            ],
            [
             0.1111111111111111,
             "#46039f"
            ],
            [
             0.2222222222222222,
             "#7201a8"
            ],
            [
             0.3333333333333333,
             "#9c179e"
            ],
            [
             0.4444444444444444,
             "#bd3786"
            ],
            [
             0.5555555555555556,
             "#d8576b"
            ],
            [
             0.6666666666666666,
             "#ed7953"
            ],
            [
             0.7777777777777778,
             "#fb9f3a"
            ],
            [
             0.8888888888888888,
             "#fdca26"
            ],
            [
             1,
             "#f0f921"
            ]
           ]
          },
          "colorway": [
           "#636efa",
           "#EF553B",
           "#00cc96",
           "#ab63fa",
           "#FFA15A",
           "#19d3f3",
           "#FF6692",
           "#B6E880",
           "#FF97FF",
           "#FECB52"
          ],
          "font": {
           "color": "#2a3f5f"
          },
          "geo": {
           "bgcolor": "white",
           "lakecolor": "white",
           "landcolor": "#E5ECF6",
           "showlakes": true,
           "showland": true,
           "subunitcolor": "white"
          },
          "hoverlabel": {
           "align": "left"
          },
          "hovermode": "closest",
          "mapbox": {
           "style": "light"
          },
          "paper_bgcolor": "white",
          "plot_bgcolor": "#E5ECF6",
          "polar": {
           "angularaxis": {
            "gridcolor": "white",
            "linecolor": "white",
            "ticks": ""
           },
           "bgcolor": "#E5ECF6",
           "radialaxis": {
            "gridcolor": "white",
            "linecolor": "white",
            "ticks": ""
           }
          },
          "scene": {
           "xaxis": {
            "backgroundcolor": "#E5ECF6",
            "gridcolor": "white",
            "gridwidth": 2,
            "linecolor": "white",
            "showbackground": true,
            "ticks": "",
            "zerolinecolor": "white"
           },
           "yaxis": {
            "backgroundcolor": "#E5ECF6",
            "gridcolor": "white",
            "gridwidth": 2,
            "linecolor": "white",
            "showbackground": true,
            "ticks": "",
            "zerolinecolor": "white"
           },
           "zaxis": {
            "backgroundcolor": "#E5ECF6",
            "gridcolor": "white",
            "gridwidth": 2,
            "linecolor": "white",
            "showbackground": true,
            "ticks": "",
            "zerolinecolor": "white"
           }
          },
          "shapedefaults": {
           "line": {
            "color": "#2a3f5f"
           }
          },
          "ternary": {
           "aaxis": {
            "gridcolor": "white",
            "linecolor": "white",
            "ticks": ""
           },
           "baxis": {
            "gridcolor": "white",
            "linecolor": "white",
            "ticks": ""
           },
           "bgcolor": "#E5ECF6",
           "caxis": {
            "gridcolor": "white",
            "linecolor": "white",
            "ticks": ""
           }
          },
          "title": {
           "x": 0.05
          },
          "xaxis": {
           "automargin": true,
           "gridcolor": "white",
           "linecolor": "white",
           "ticks": "",
           "title": {
            "standoff": 15
           },
           "zerolinecolor": "white",
           "zerolinewidth": 2
          },
          "yaxis": {
           "automargin": true,
           "gridcolor": "white",
           "linecolor": "white",
           "ticks": "",
           "title": {
            "standoff": 15
           },
           "zerolinecolor": "white",
           "zerolinewidth": 2
          }
         }
        },
        "title": {
         "text": "Uber trips with by their destinations"
        }
       }
      }
     },
     "metadata": {},
     "output_type": "display_data"
    }
   ],
   "source": [
    "stop_to_start = diff_dest.groupby(['STOP', 'START']).size().reset_index(name='COUNT')\n",
    "fig = px.sunburst(stop_to_start, path=['STOP', 'START', 'COUNT'], title='Uber trips with by their destinations')\n",
    "fig.show()"
   ]
  },
  {
   "cell_type": "markdown",
   "metadata": {},
   "source": [
    "Apparently, yes!\n",
    "\n",
    "Destinations were much more evenly distributed, with only 1 or 2 rides per destination.\n",
    "\n",
    "The most popular destination was Whitebridge, with 19 rides arriving there, followed by Cary (12), Unknown Location (11), Berkeley (7), and Downtown (7)."
   ]
  },
  {
   "cell_type": "markdown",
   "metadata": {},
   "source": [
    "Lastly, let's look at the distribution of rides with similar/different start and end points."
   ]
  },
  {
   "cell_type": "code",
   "execution_count": 29,
   "metadata": {},
   "outputs": [
    {
     "data": {
      "image/png": "[encoded data removed]",
      "text/plain": [
       "<Figure size 432x288 with 1 Axes>"
      ]
     },
     "metadata": {},
     "output_type": "display_data"
    },
    {
     "data": {
      "text/plain": [
       "<Figure size 432x288 with 0 Axes>"
      ]
     },
     "metadata": {},
     "output_type": "display_data"
    }
   ],
   "source": [
    "# reference: https://python-graph-gallery.com/162-change-background-of-donut-plot/\n",
    "plt.pie([same_dest.shape[0], diff_dest.shape[0]], \n",
    "        autopct='%1.1f%%',\n",
    "        startangle=140)\n",
    "\n",
    "plt.legend(labels=['Same Start and Stop', 'Different Start and Stop'], loc='lower center')\n",
    "\n",
    "# add a circle at the center to transform it in a donut chart\n",
    "my_circle=plt.Circle( (0,0), 0.7, color='white')\n",
    "p=plt.gcf()\n",
    "p.gca().add_artist(my_circle)\n",
    "\n",
    "fig = plt.figure()\n",
    "fig.patch.set_facecolor='white'\n",
    "plt.show()"
   ]
  },
  {
   "cell_type": "markdown",
   "metadata": {},
   "source": [
    "Exactly a quarter of the rides travelled from and to the same areas, while the rest had different starts and ends."
   ]
  },
  {
   "cell_type": "code",
   "execution_count": 53,
   "metadata": {},
   "outputs": [
    {
     "data": {
      "image/png": "[encoded data removed]",
      "text/plain": [
       "<Figure size 720x432 with 1 Axes>"
      ]
     },
     "metadata": {
      "needs_background": "light"
     },
     "output_type": "display_data"
    }
   ],
   "source": [
    "weekday = data['START_DATE'].dt.day_name()\n",
    "plt.figure(figsize=(10, 6))\n",
    "sns.countplot(x=weekday, order=['Monday', 'Tuesday', 'Wednesday', 'Thursday', 'Friday', 'Saturday', 'Sunday'])\n",
    "plt.xlabel('Day of the Week')\n",
    "add_data_labels(data_col=weekday, text_buffer=7, y_axis_buffer=15)\n",
    "plt.show()"
   ]
  },
  {
   "cell_type": "markdown",
   "metadata": {},
   "source": [
    "For this dataset, Uber rides were most likely to occur on Fridays (206), followed by Monday and Tuesday on a neck-to-neck tie at 174 and 175, respectively."
   ]
  },
  {
   "cell_type": "code",
   "execution_count": 68,
   "metadata": {},
   "outputs": [
    {
     "data": {
      "text/html": [
       "<div>\n",
       "<style scoped>\n",
       "    .dataframe tbody tr th:only-of-type {\n",
       "        vertical-align: middle;\n",
       "    }\n",
       "\n",
       "    .dataframe tbody tr th {\n",
       "        vertical-align: top;\n",
       "    }\n",
       "\n",
       "    .dataframe thead th {\n",
       "        text-align: right;\n",
       "    }\n",
       "</style>\n",
       "<table border=\"1\" class=\"dataframe\">\n",
       "  <thead>\n",
       "    <tr style=\"text-align: right;\">\n",
       "      <th></th>\n",
       "      <th>Month Num</th>\n",
       "      <th>Count</th>\n",
       "      <th>Month</th>\n",
       "    </tr>\n",
       "  </thead>\n",
       "  <tbody>\n",
       "    <tr>\n",
       "      <th>0</th>\n",
       "      <td>1</td>\n",
       "      <td>61</td>\n",
       "      <td>January</td>\n",
       "    </tr>\n",
       "    <tr>\n",
       "      <th>1</th>\n",
       "      <td>2</td>\n",
       "      <td>115</td>\n",
       "      <td>February</td>\n",
       "    </tr>\n",
       "    <tr>\n",
       "      <th>2</th>\n",
       "      <td>3</td>\n",
       "      <td>113</td>\n",
       "      <td>March</td>\n",
       "    </tr>\n",
       "    <tr>\n",
       "      <th>3</th>\n",
       "      <td>4</td>\n",
       "      <td>54</td>\n",
       "      <td>April</td>\n",
       "    </tr>\n",
       "    <tr>\n",
       "      <th>4</th>\n",
       "      <td>5</td>\n",
       "      <td>49</td>\n",
       "      <td>May</td>\n",
       "    </tr>\n",
       "    <tr>\n",
       "      <th>5</th>\n",
       "      <td>6</td>\n",
       "      <td>107</td>\n",
       "      <td>June</td>\n",
       "    </tr>\n",
       "    <tr>\n",
       "      <th>6</th>\n",
       "      <td>7</td>\n",
       "      <td>112</td>\n",
       "      <td>July</td>\n",
       "    </tr>\n",
       "    <tr>\n",
       "      <th>7</th>\n",
       "      <td>8</td>\n",
       "      <td>133</td>\n",
       "      <td>August</td>\n",
       "    </tr>\n",
       "    <tr>\n",
       "      <th>8</th>\n",
       "      <td>9</td>\n",
       "      <td>36</td>\n",
       "      <td>September</td>\n",
       "    </tr>\n",
       "    <tr>\n",
       "      <th>9</th>\n",
       "      <td>10</td>\n",
       "      <td>106</td>\n",
       "      <td>October</td>\n",
       "    </tr>\n",
       "    <tr>\n",
       "      <th>10</th>\n",
       "      <td>11</td>\n",
       "      <td>122</td>\n",
       "      <td>November</td>\n",
       "    </tr>\n",
       "    <tr>\n",
       "      <th>11</th>\n",
       "      <td>12</td>\n",
       "      <td>146</td>\n",
       "      <td>December</td>\n",
       "    </tr>\n",
       "  </tbody>\n",
       "</table>\n",
       "</div>"
      ],
      "text/plain": [
       "    Month Num  Count      Month\n",
       "0           1     61    January\n",
       "1           2    115   February\n",
       "2           3    113      March\n",
       "3           4     54      April\n",
       "4           5     49        May\n",
       "5           6    107       June\n",
       "6           7    112       July\n",
       "7           8    133     August\n",
       "8           9     36  September\n",
       "9          10    106    October\n",
       "10         11    122   November\n",
       "11         12    146   December"
      ]
     },
     "execution_count": 68,
     "metadata": {},
     "output_type": "execute_result"
    }
   ],
   "source": [
    "# Process month data\n",
    "month = data['START_DATE'].dt.month\n",
    "df_month = month.value_counts().reset_index()\n",
    "df_month.columns = ['Month Num', 'Count']\n",
    "df_month['Month'] = df_month['Month Num'].apply(lambda x: datetime(1900, x, 1).strftime('%B'))\n",
    "df_month = df_month.sort_values(by='Month Num').reset_index(drop=True)\n",
    "df_month"
   ]
  },
  {
   "cell_type": "markdown",
   "metadata": {},
   "source": [
    "Let's draw the line chart from our month data."
   ]
  },
  {
   "cell_type": "code",
   "execution_count": 101,
   "metadata": {},
   "outputs": [
    {
     "data": {
      "image/png": "[encoded data removed]",
      "text/plain": [
       "<Figure size 864x432 with 1 Axes>"
      ]
     },
     "metadata": {
      "needs_background": "light"
     },
     "output_type": "display_data"
    }
   ],
   "source": [
    "plt.figure(figsize=(12, 6))\n",
    "sns.lineplot(data=df_month, x='Month', y='Count', marker='o')\n",
    "\n",
    "plt.title('Uber Trips by Month')\n",
    "\n",
    "for x, y in zip(df_month['Month'], df_month['Count']):\n",
    "    plt.text(x, y+9, y, fontsize=10, ha='center', va='center_baseline')"
   ]
  },
  {
   "cell_type": "markdown",
   "metadata": {},
   "source": [
    "Uber rides peaked during December, with steady rises in ridership between June - August and October - December.\n",
    "\n",
    "Along with this came significant drop offs in the months of September (36), May (49), April (54), and January (61), respectively."
   ]
  }
 ],
 "metadata": {
  "kernelspec": {
   "display_name": "Python 3",
   "language": "python",
   "name": "python3"
  },
  "language_info": {
   "codemirror_mode": {
    "name": "ipython",
    "version": 3
   },
   "file_extension": ".py",
   "mimetype": "text/x-python",
   "name": "python",
   "nbconvert_exporter": "python",
   "pygments_lexer": "ipython3",
   "version": "3.9.1"
  }
 },
 "nbformat": 4,
 "nbformat_minor": 2
}
