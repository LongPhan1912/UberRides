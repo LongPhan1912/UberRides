{
 "cells": [
  {
   "cell_type": "code",
   "execution_count": 2,
   "metadata": {},
   "outputs": [
    {
     "data": {
      "text/html": [
       "<div>\n",
       "<style scoped>\n",
       "    .dataframe tbody tr th:only-of-type {\n",
       "        vertical-align: middle;\n",
       "    }\n",
       "\n",
       "    .dataframe tbody tr th {\n",
       "        vertical-align: top;\n",
       "    }\n",
       "\n",
       "    .dataframe thead th {\n",
       "        text-align: right;\n",
       "    }\n",
       "</style>\n",
       "<table border=\"1\" class=\"dataframe\">\n",
       "  <thead>\n",
       "    <tr style=\"text-align: right;\">\n",
       "      <th></th>\n",
       "      <th>START_DATE</th>\n",
       "      <th>END_DATE</th>\n",
       "      <th>CATEGORY</th>\n",
       "      <th>START</th>\n",
       "      <th>STOP</th>\n",
       "      <th>MILES</th>\n",
       "      <th>PURPOSE</th>\n",
       "    </tr>\n",
       "  </thead>\n",
       "  <tbody>\n",
       "    <tr>\n",
       "      <th>0</th>\n",
       "      <td>01-01-2016 21:11</td>\n",
       "      <td>01-01-2016 21:17</td>\n",
       "      <td>Business</td>\n",
       "      <td>Fort Pierce</td>\n",
       "      <td>Fort Pierce</td>\n",
       "      <td>5.1</td>\n",
       "      <td>Meal/Entertain</td>\n",
       "    </tr>\n",
       "    <tr>\n",
       "      <th>1</th>\n",
       "      <td>01-02-2016 01:25</td>\n",
       "      <td>01-02-2016 01:37</td>\n",
       "      <td>Business</td>\n",
       "      <td>Fort Pierce</td>\n",
       "      <td>Fort Pierce</td>\n",
       "      <td>5.0</td>\n",
       "      <td>NaN</td>\n",
       "    </tr>\n",
       "    <tr>\n",
       "      <th>2</th>\n",
       "      <td>01-02-2016 20:25</td>\n",
       "      <td>01-02-2016 20:38</td>\n",
       "      <td>Business</td>\n",
       "      <td>Fort Pierce</td>\n",
       "      <td>Fort Pierce</td>\n",
       "      <td>4.8</td>\n",
       "      <td>Errand/Supplies</td>\n",
       "    </tr>\n",
       "    <tr>\n",
       "      <th>3</th>\n",
       "      <td>01-05-2016 17:31</td>\n",
       "      <td>01-05-2016 17:45</td>\n",
       "      <td>Business</td>\n",
       "      <td>Fort Pierce</td>\n",
       "      <td>Fort Pierce</td>\n",
       "      <td>4.7</td>\n",
       "      <td>Meeting</td>\n",
       "    </tr>\n",
       "    <tr>\n",
       "      <th>4</th>\n",
       "      <td>01-06-2016 14:42</td>\n",
       "      <td>01-06-2016 15:49</td>\n",
       "      <td>Business</td>\n",
       "      <td>Fort Pierce</td>\n",
       "      <td>West Palm Beach</td>\n",
       "      <td>63.7</td>\n",
       "      <td>Customer Visit</td>\n",
       "    </tr>\n",
       "  </tbody>\n",
       "</table>\n",
       "</div>"
      ],
      "text/plain": [
       "         START_DATE          END_DATE  CATEGORY        START             STOP  \\\n",
       "0  01-01-2016 21:11  01-01-2016 21:17  Business  Fort Pierce      Fort Pierce   \n",
       "1  01-02-2016 01:25  01-02-2016 01:37  Business  Fort Pierce      Fort Pierce   \n",
       "2  01-02-2016 20:25  01-02-2016 20:38  Business  Fort Pierce      Fort Pierce   \n",
       "3  01-05-2016 17:31  01-05-2016 17:45  Business  Fort Pierce      Fort Pierce   \n",
       "4  01-06-2016 14:42  01-06-2016 15:49  Business  Fort Pierce  West Palm Beach   \n",
       "\n",
       "   MILES          PURPOSE  \n",
       "0    5.1   Meal/Entertain  \n",
       "1    5.0              NaN  \n",
       "2    4.8  Errand/Supplies  \n",
       "3    4.7          Meeting  \n",
       "4   63.7   Customer Visit  "
      ]
     },
     "execution_count": 2,
     "metadata": {},
     "output_type": "execute_result"
    }
   ],
   "source": [
    "import numpy as np\n",
    "import matplotlib.pyplot as plt\n",
    "import seaborn as sns\n",
    "import pandas as pd\n",
    "from datetime import datetime, time\n",
    "\n",
    "# Load the data\n",
    "data = pd.read_csv('UberDataset.csv')\n",
    "data.head()"
   ]
  },
  {
   "cell_type": "code",
   "execution_count": 3,
   "metadata": {},
   "outputs": [
    {
     "data": {
      "text/plain": [
       "(1156, 7)"
      ]
     },
     "execution_count": 3,
     "metadata": {},
     "output_type": "execute_result"
    }
   ],
   "source": [
    "data.shape"
   ]
  },
  {
   "cell_type": "code",
   "execution_count": 4,
   "metadata": {},
   "outputs": [
    {
     "name": "stdout",
     "output_type": "stream",
     "text": [
      "<class 'pandas.core.frame.DataFrame'>\n",
      "RangeIndex: 1156 entries, 0 to 1155\n",
      "Data columns (total 7 columns):\n",
      " #   Column      Non-Null Count  Dtype  \n",
      "---  ------      --------------  -----  \n",
      " 0   START_DATE  1156 non-null   object \n",
      " 1   END_DATE    1155 non-null   object \n",
      " 2   CATEGORY    1155 non-null   object \n",
      " 3   START       1155 non-null   object \n",
      " 4   STOP        1155 non-null   object \n",
      " 5   MILES       1156 non-null   float64\n",
      " 6   PURPOSE     653 non-null    object \n",
      "dtypes: float64(1), object(6)\n",
      "memory usage: 63.3+ KB\n"
     ]
    }
   ],
   "source": [
    "data.info()"
   ]
  },
  {
   "cell_type": "code",
   "execution_count": 5,
   "metadata": {},
   "outputs": [
    {
     "data": {
      "text/plain": [
       "503"
      ]
     },
     "execution_count": 5,
     "metadata": {},
     "output_type": "execute_result"
    }
   ],
   "source": [
    "data['PURPOSE'].isna().sum()"
   ]
  },
  {
   "cell_type": "code",
   "execution_count": 6,
   "metadata": {},
   "outputs": [],
   "source": [
    "# Fill the missing values with 'Not Available'\n",
    "data['PURPOSE'].fillna('Not Available', inplace=True)"
   ]
  },
  {
   "cell_type": "code",
   "execution_count": 7,
   "metadata": {},
   "outputs": [
    {
     "name": "stdout",
     "output_type": "stream",
     "text": [
      "<class 'pandas.core.frame.DataFrame'>\n",
      "RangeIndex: 1156 entries, 0 to 1155\n",
      "Data columns (total 7 columns):\n",
      " #   Column      Non-Null Count  Dtype  \n",
      "---  ------      --------------  -----  \n",
      " 0   START_DATE  1156 non-null   object \n",
      " 1   END_DATE    1155 non-null   object \n",
      " 2   CATEGORY    1155 non-null   object \n",
      " 3   START       1155 non-null   object \n",
      " 4   STOP        1155 non-null   object \n",
      " 5   MILES       1156 non-null   float64\n",
      " 6   PURPOSE     1156 non-null   object \n",
      "dtypes: float64(1), object(6)\n",
      "memory usage: 63.3+ KB\n"
     ]
    }
   ],
   "source": [
    "# Check the purpose column again to see if the missing values are filled\n",
    "data.info()"
   ]
  },
  {
   "cell_type": "code",
   "execution_count": 8,
   "metadata": {},
   "outputs": [
    {
     "data": {
      "text/html": [
       "<div>\n",
       "<style scoped>\n",
       "    .dataframe tbody tr th:only-of-type {\n",
       "        vertical-align: middle;\n",
       "    }\n",
       "\n",
       "    .dataframe tbody tr th {\n",
       "        vertical-align: top;\n",
       "    }\n",
       "\n",
       "    .dataframe thead th {\n",
       "        text-align: right;\n",
       "    }\n",
       "</style>\n",
       "<table border=\"1\" class=\"dataframe\">\n",
       "  <thead>\n",
       "    <tr style=\"text-align: right;\">\n",
       "      <th></th>\n",
       "      <th>START_DATE</th>\n",
       "      <th>END_DATE</th>\n",
       "      <th>CATEGORY</th>\n",
       "      <th>START</th>\n",
       "      <th>STOP</th>\n",
       "      <th>MILES</th>\n",
       "      <th>PURPOSE</th>\n",
       "    </tr>\n",
       "  </thead>\n",
       "  <tbody>\n",
       "    <tr>\n",
       "      <th>1155</th>\n",
       "      <td>Totals</td>\n",
       "      <td>NaN</td>\n",
       "      <td>NaN</td>\n",
       "      <td>NaN</td>\n",
       "      <td>NaN</td>\n",
       "      <td>12204.7</td>\n",
       "      <td>Not Available</td>\n",
       "    </tr>\n",
       "  </tbody>\n",
       "</table>\n",
       "</div>"
      ],
      "text/plain": [
       "     START_DATE END_DATE CATEGORY START STOP    MILES        PURPOSE\n",
       "1155     Totals      NaN      NaN   NaN  NaN  12204.7  Not Available"
      ]
     },
     "execution_count": 8,
     "metadata": {},
     "output_type": "execute_result"
    }
   ],
   "source": [
    "# view the row with missing values\n",
    "data[data['END_DATE'].isna()]"
   ]
  },
  {
   "cell_type": "code",
   "execution_count": 9,
   "metadata": {},
   "outputs": [],
   "source": [
    "# drop all the rows with missing values\n",
    "data.dropna(inplace=True)"
   ]
  },
  {
   "cell_type": "code",
   "execution_count": 10,
   "metadata": {},
   "outputs": [
    {
     "data": {
      "text/plain": [
       "START_DATE    0\n",
       "END_DATE      0\n",
       "CATEGORY      0\n",
       "START         0\n",
       "STOP          0\n",
       "MILES         0\n",
       "PURPOSE       0\n",
       "dtype: int64"
      ]
     },
     "execution_count": 10,
     "metadata": {},
     "output_type": "execute_result"
    }
   ],
   "source": [
    "data[data.isna()].count()"
   ]
  },
  {
   "cell_type": "code",
   "execution_count": 11,
   "metadata": {},
   "outputs": [],
   "source": [
    "data.drop_duplicates(inplace=True)"
   ]
  },
  {
   "cell_type": "code",
   "execution_count": 12,
   "metadata": {},
   "outputs": [
    {
     "data": {
      "text/plain": [
       "(1154, 7)"
      ]
     },
     "execution_count": 12,
     "metadata": {},
     "output_type": "execute_result"
    }
   ],
   "source": [
    "# We can see one row is removed\n",
    "data.shape"
   ]
  },
  {
   "cell_type": "code",
   "execution_count": 13,
   "metadata": {},
   "outputs": [],
   "source": [
    "data['START_DATE'] = pd.to_datetime(data['START_DATE'])\n",
    "data['END_DATE'] = pd.to_datetime(data['END_DATE'])"
   ]
  },
  {
   "cell_type": "code",
   "execution_count": 14,
   "metadata": {},
   "outputs": [
    {
     "data": {
      "text/html": [
       "<div>\n",
       "<style scoped>\n",
       "    .dataframe tbody tr th:only-of-type {\n",
       "        vertical-align: middle;\n",
       "    }\n",
       "\n",
       "    .dataframe tbody tr th {\n",
       "        vertical-align: top;\n",
       "    }\n",
       "\n",
       "    .dataframe thead th {\n",
       "        text-align: right;\n",
       "    }\n",
       "</style>\n",
       "<table border=\"1\" class=\"dataframe\">\n",
       "  <thead>\n",
       "    <tr style=\"text-align: right;\">\n",
       "      <th></th>\n",
       "      <th>START_DATE</th>\n",
       "      <th>TIME_OF_DAY</th>\n",
       "      <th>END_DATE</th>\n",
       "      <th>CATEGORY</th>\n",
       "      <th>START</th>\n",
       "      <th>STOP</th>\n",
       "      <th>MILES</th>\n",
       "      <th>PURPOSE</th>\n",
       "    </tr>\n",
       "  </thead>\n",
       "  <tbody>\n",
       "    <tr>\n",
       "      <th>0</th>\n",
       "      <td>2016-01-01 21:11:00</td>\n",
       "      <td>Night</td>\n",
       "      <td>2016-01-01 21:17:00</td>\n",
       "      <td>Business</td>\n",
       "      <td>Fort Pierce</td>\n",
       "      <td>Fort Pierce</td>\n",
       "      <td>5.1</td>\n",
       "      <td>Meal/Entertain</td>\n",
       "    </tr>\n",
       "    <tr>\n",
       "      <th>1</th>\n",
       "      <td>2016-01-02 01:25:00</td>\n",
       "      <td>Late Night</td>\n",
       "      <td>2016-01-02 01:37:00</td>\n",
       "      <td>Business</td>\n",
       "      <td>Fort Pierce</td>\n",
       "      <td>Fort Pierce</td>\n",
       "      <td>5.0</td>\n",
       "      <td>Not Available</td>\n",
       "    </tr>\n",
       "    <tr>\n",
       "      <th>2</th>\n",
       "      <td>2016-01-02 20:25:00</td>\n",
       "      <td>Evening</td>\n",
       "      <td>2016-01-02 20:38:00</td>\n",
       "      <td>Business</td>\n",
       "      <td>Fort Pierce</td>\n",
       "      <td>Fort Pierce</td>\n",
       "      <td>4.8</td>\n",
       "      <td>Errand/Supplies</td>\n",
       "    </tr>\n",
       "    <tr>\n",
       "      <th>3</th>\n",
       "      <td>2016-01-05 17:31:00</td>\n",
       "      <td>Afternoon</td>\n",
       "      <td>2016-01-05 17:45:00</td>\n",
       "      <td>Business</td>\n",
       "      <td>Fort Pierce</td>\n",
       "      <td>Fort Pierce</td>\n",
       "      <td>4.7</td>\n",
       "      <td>Meeting</td>\n",
       "    </tr>\n",
       "    <tr>\n",
       "      <th>4</th>\n",
       "      <td>2016-01-06 14:42:00</td>\n",
       "      <td>Afternoon</td>\n",
       "      <td>2016-01-06 15:49:00</td>\n",
       "      <td>Business</td>\n",
       "      <td>Fort Pierce</td>\n",
       "      <td>West Palm Beach</td>\n",
       "      <td>63.7</td>\n",
       "      <td>Customer Visit</td>\n",
       "    </tr>\n",
       "    <tr>\n",
       "      <th>...</th>\n",
       "      <td>...</td>\n",
       "      <td>...</td>\n",
       "      <td>...</td>\n",
       "      <td>...</td>\n",
       "      <td>...</td>\n",
       "      <td>...</td>\n",
       "      <td>...</td>\n",
       "      <td>...</td>\n",
       "    </tr>\n",
       "    <tr>\n",
       "      <th>1150</th>\n",
       "      <td>2016-12-31 01:07:00</td>\n",
       "      <td>Late Night</td>\n",
       "      <td>2016-12-31 01:14:00</td>\n",
       "      <td>Business</td>\n",
       "      <td>Kar?chi</td>\n",
       "      <td>Kar?chi</td>\n",
       "      <td>0.7</td>\n",
       "      <td>Meeting</td>\n",
       "    </tr>\n",
       "    <tr>\n",
       "      <th>1151</th>\n",
       "      <td>2016-12-31 13:24:00</td>\n",
       "      <td>Afternoon</td>\n",
       "      <td>2016-12-31 13:42:00</td>\n",
       "      <td>Business</td>\n",
       "      <td>Kar?chi</td>\n",
       "      <td>Unknown Location</td>\n",
       "      <td>3.9</td>\n",
       "      <td>Temporary Site</td>\n",
       "    </tr>\n",
       "    <tr>\n",
       "      <th>1152</th>\n",
       "      <td>2016-12-31 15:03:00</td>\n",
       "      <td>Afternoon</td>\n",
       "      <td>2016-12-31 15:38:00</td>\n",
       "      <td>Business</td>\n",
       "      <td>Unknown Location</td>\n",
       "      <td>Unknown Location</td>\n",
       "      <td>16.2</td>\n",
       "      <td>Meeting</td>\n",
       "    </tr>\n",
       "    <tr>\n",
       "      <th>1153</th>\n",
       "      <td>2016-12-31 21:32:00</td>\n",
       "      <td>Night</td>\n",
       "      <td>2016-12-31 21:50:00</td>\n",
       "      <td>Business</td>\n",
       "      <td>Katunayake</td>\n",
       "      <td>Gampaha</td>\n",
       "      <td>6.4</td>\n",
       "      <td>Temporary Site</td>\n",
       "    </tr>\n",
       "    <tr>\n",
       "      <th>1154</th>\n",
       "      <td>2016-12-31 22:08:00</td>\n",
       "      <td>Night</td>\n",
       "      <td>2016-12-31 23:51:00</td>\n",
       "      <td>Business</td>\n",
       "      <td>Gampaha</td>\n",
       "      <td>Ilukwatta</td>\n",
       "      <td>48.2</td>\n",
       "      <td>Temporary Site</td>\n",
       "    </tr>\n",
       "  </tbody>\n",
       "</table>\n",
       "<p>1154 rows × 8 columns</p>\n",
       "</div>"
      ],
      "text/plain": [
       "              START_DATE TIME_OF_DAY            END_DATE  CATEGORY  \\\n",
       "0    2016-01-01 21:11:00       Night 2016-01-01 21:17:00  Business   \n",
       "1    2016-01-02 01:25:00  Late Night 2016-01-02 01:37:00  Business   \n",
       "2    2016-01-02 20:25:00     Evening 2016-01-02 20:38:00  Business   \n",
       "3    2016-01-05 17:31:00   Afternoon 2016-01-05 17:45:00  Business   \n",
       "4    2016-01-06 14:42:00   Afternoon 2016-01-06 15:49:00  Business   \n",
       "...                  ...         ...                 ...       ...   \n",
       "1150 2016-12-31 01:07:00  Late Night 2016-12-31 01:14:00  Business   \n",
       "1151 2016-12-31 13:24:00   Afternoon 2016-12-31 13:42:00  Business   \n",
       "1152 2016-12-31 15:03:00   Afternoon 2016-12-31 15:38:00  Business   \n",
       "1153 2016-12-31 21:32:00       Night 2016-12-31 21:50:00  Business   \n",
       "1154 2016-12-31 22:08:00       Night 2016-12-31 23:51:00  Business   \n",
       "\n",
       "                 START              STOP  MILES          PURPOSE  \n",
       "0          Fort Pierce       Fort Pierce    5.1   Meal/Entertain  \n",
       "1          Fort Pierce       Fort Pierce    5.0    Not Available  \n",
       "2          Fort Pierce       Fort Pierce    4.8  Errand/Supplies  \n",
       "3          Fort Pierce       Fort Pierce    4.7          Meeting  \n",
       "4          Fort Pierce   West Palm Beach   63.7   Customer Visit  \n",
       "...                ...               ...    ...              ...  \n",
       "1150           Kar?chi           Kar?chi    0.7          Meeting  \n",
       "1151           Kar?chi  Unknown Location    3.9   Temporary Site  \n",
       "1152  Unknown Location  Unknown Location   16.2          Meeting  \n",
       "1153        Katunayake           Gampaha    6.4   Temporary Site  \n",
       "1154           Gampaha         Ilukwatta   48.2   Temporary Site  \n",
       "\n",
       "[1154 rows x 8 columns]"
      ]
     },
     "execution_count": 14,
     "metadata": {},
     "output_type": "execute_result"
    }
   ],
   "source": [
    "def bin_time(x):\n",
    "    if x < time(4, 0, 0):\n",
    "        return 'Late Night'\n",
    "    elif x < time(12, 0, 0):\n",
    "        return 'Morning'\n",
    "    elif x < time(18, 0, 0):\n",
    "        return 'Afternoon'\n",
    "    elif x < time(21, 0, 0):\n",
    "        return 'Evening'\n",
    "    else:   \n",
    "        return 'Night'\n",
    "\n",
    "data['TIME_OF_DAY'] = data['START_DATE'].dt.time.apply(bin_time)\n",
    "data.insert(1, 'TIME_OF_DAY', data.pop('TIME_OF_DAY'))\n",
    "data"
   ]
  },
  {
   "cell_type": "code",
   "execution_count": 15,
   "metadata": {},
   "outputs": [
    {
     "name": "stdout",
     "output_type": "stream",
     "text": [
      "TIME_OF_DAY: 5\n",
      "CATEGORY: 2\n",
      "START: 177\n",
      "STOP: 188\n",
      "PURPOSE: 11\n"
     ]
    }
   ],
   "source": [
    "obj_cols = data.select_dtypes(include='object').columns\n",
    "\n",
    "# Count the number of unique values in each object column \n",
    "for idx, col in enumerate(obj_cols):\n",
    "    unique_vals = data[col].unique().size\n",
    "    print(f\"{col}: {unique_vals}\")"
   ]
  },
  {
   "cell_type": "code",
   "execution_count": 16,
   "metadata": {},
   "outputs": [
    {
     "data": {
      "text/plain": [
       "(array([0, 1, 2, 3, 4, 5, 6, 7, 8, 9]),\n",
       " [Text(0, 0, 'Meeting'),\n",
       "  Text(1, 0, 'Meal/Entertain'),\n",
       "  Text(2, 0, 'Errand/Supplies'),\n",
       "  Text(3, 0, 'Customer Visit'),\n",
       "  Text(4, 0, 'Temporary Site'),\n",
       "  Text(5, 0, 'Between Offices'),\n",
       "  Text(6, 0, 'Moving'),\n",
       "  Text(7, 0, 'Airport/Travel'),\n",
       "  Text(8, 0, 'Charity ($)'),\n",
       "  Text(9, 0, 'Commute')])"
      ]
     },
     "execution_count": 16,
     "metadata": {},
     "output_type": "execute_result"
    },
    {
     "data": {
      "image/png": "[encoded data removed]",
      "text/plain": [
       "<Figure size 576x432 with 1 Axes>"
      ]
     },
     "metadata": {
      "needs_background": "light"
     },
     "output_type": "display_data"
    }
   ],
   "source": [
    "# get just the PURPOSE column and filter out the 'Not Available' rows\n",
    "purpose = pd.DataFrame(data['PURPOSE'])\n",
    "purpose = purpose[purpose['PURPOSE'] != 'Not Available'].reset_index(drop=True)\n",
    "\n",
    "# plot the count of the purpose for each trip\n",
    "plt.figure(figsize=(8, 6))\n",
    "sns.countplot(x = 'PURPOSE', data = purpose, order = purpose['PURPOSE'].value_counts().index)\n",
    "\n",
    "# reference: https://stackoverflow.com/questions/39444665/add-data-labels-to-seaborn-factor-plot\n",
    "\n",
    "def add_data_labels(data_col, text_buffer, y_axis_buffer):\n",
    "    # get the current axis of the plot\n",
    "    ax = plt.gca()\n",
    "\n",
    "    # set the y-axis range\n",
    "    ax.set_ylim([0, data_col.value_counts().max() + y_axis_buffer])\n",
    "\n",
    "    # iterate over the bars and add the data labels\n",
    "    for i, bar in enumerate(ax.patches):\n",
    "        h = bar.get_height()\n",
    "        ax.text(\n",
    "            i, # bar index (x coordinate of text)\n",
    "            h+text_buffer, # y coordinate of text\n",
    "            '{}'.format(int(h)),  # y label\n",
    "            ha='center', \n",
    "            va='center', \n",
    "            size=10)\n",
    "        \n",
    "add_data_labels(data_col=purpose['PURPOSE'], text_buffer=8, y_axis_buffer=15)\n",
    "\n",
    "# rotate the x-axis labels by 45 degrees\n",
    "plt.xticks(rotation=45)"
   ]
  },
  {
   "cell_type": "code",
   "execution_count": 17,
   "metadata": {},
   "outputs": [
    {
     "data": {
      "image/png": "[encoded data removed]",
      "text/plain": [
       "<Figure size 720x432 with 2 Axes>"
      ]
     },
     "metadata": {
      "needs_background": "light"
     },
     "output_type": "display_data"
    }
   ],
   "source": [
    "plt.figure(figsize=(10, 6))\n",
    "\n",
    "# on the left plot, plot the count of trips per each time of day\n",
    "plt.subplot(1, 2, 1)\n",
    "sns.countplot(x = 'TIME_OF_DAY', data = data, order = data['TIME_OF_DAY'].value_counts().index)\n",
    "add_data_labels(data_col=data['TIME_OF_DAY'], text_buffer=10, y_axis_buffer=25)\n",
    "\n",
    "# on the right plot, plot the count of trips per each category\n",
    "plt.subplot(1, 2, 2)\n",
    "sns.countplot(x = 'CATEGORY', data = data, order = data['CATEGORY'].value_counts().index)\n",
    "add_data_labels(data_col=data['CATEGORY'], text_buffer=17, y_axis_buffer=45)\n",
    "\n",
    "plt.show()"
   ]
  },
  {
   "cell_type": "code",
   "execution_count": 18,
   "metadata": {},
   "outputs": [
    {
     "data": {
      "application/vnd.plotly.v1+json": {
       "config": {
        "plotlyServerURL": "https://plot.ly"
       },
       "data": [
        {
         "branchvalues": "total",
         "domain": {
          "x": [
           0,
           1
          ],
          "y": [
           0,
           1
          ]
         },
         "hovertemplate": "labels=%{label}<br>count=%{value}<br>parent=%{parent}<br>id=%{id}<extra></extra>",
         "ids": [
          "Business/Airport/Travel",
          "Business/Between Offices",
          "Personal/Charity ($)",
          "Personal/Commute",
          "Business/Customer Visit",
          "Business/Errand/Supplies",
          "Business/Meal/Entertain",
          "Business/Meeting",
          "Personal/Moving",
          "Business/Not Available",
          "Personal/Not Available",
          "Business/Temporary Site",
          "Business",
          "Personal"
         ],
         "labels": [
          "Airport/Travel",
          "Between Offices",
          "Charity ($)",
          "Commute",
          "Customer Visit",
          "Errand/Supplies",
          "Meal/Entertain",
          "Meeting",
          "Moving",
          "Not Available",
          "Not Available",
          "Temporary Site",
          "Business",
          "Personal"
         ],
         "name": "",
         "parents": [
          "Business",
          "Business",
          "Personal",
          "Personal",
          "Business",
          "Business",
          "Business",
          "Business",
          "Personal",
          "Business",
          "Personal",
          "Business",
          "",
          ""
         ],
         "type": "sunburst",
         "values": [
          3,
          18,
          1,
          1,
          101,
          128,
          160,
          186,
          4,
          431,
          71,
          50,
          1077,
          77
         ]
        }
       ],
       "layout": {
        "legend": {
         "tracegroupgap": 0
        },
        "template": {
         "data": {
          "bar": [
           {
            "error_x": {
             "color": "#2a3f5f"
            },
            "error_y": {
             "color": "#2a3f5f"
            },
            "marker": {
             "line": {
              "color": "#E5ECF6",
              "width": 0.5
             }
            },
            "type": "bar"
           }
          ],
          "barpolar": [
           {
            "marker": {
             "line": {
              "color": "#E5ECF6",
              "width": 0.5
             }
            },
            "type": "barpolar"
           }
          ],
          "carpet": [
           {
            "aaxis": {
             "endlinecolor": "#2a3f5f",
             "gridcolor": "white",
             "linecolor": "white",
             "minorgridcolor": "white",
             "startlinecolor": "#2a3f5f"
            },
            "baxis": {
             "endlinecolor": "#2a3f5f",
             "gridcolor": "white",
             "linecolor": "white",
             "minorgridcolor": "white",
             "startlinecolor": "#2a3f5f"
            },
            "type": "carpet"
           }
          ],
          "choropleth": [
           {
            "colorbar": {
             "outlinewidth": 0,
             "ticks": ""
            },
            "type": "choropleth"
           }
          ],
          "contour": [
           {
            "colorbar": {
             "outlinewidth": 0,
             "ticks": ""
            },
            "colorscale": [
             [
              0,
              "#0d0887"
             ],
             [
              0.1111111111111111,
              "#46039f"
             ],
             [
              0.2222222222222222,
              "#7201a8"
             ],
             [
              0.3333333333333333,
              "#9c179e"
             ],
             [
              0.4444444444444444,
              "#bd3786"
             ],
             [
              0.5555555555555556,
              "#d8576b"
             ],
             [
              0.6666666666666666,
              "#ed7953"
             ],
             [
              0.7777777777777778,
              "#fb9f3a"
             ],
             [
              0.8888888888888888,
              "#fdca26"
             ],
             [
              1,
              "#f0f921"
             ]
            ],
            "type": "contour"
           }
          ],
          "contourcarpet": [
           {
            "colorbar": {
             "outlinewidth": 0,
             "ticks": ""
            },
            "type": "contourcarpet"
           }
          ],
          "heatmap": [
           {
            "colorbar": {
             "outlinewidth": 0,
             "ticks": ""
            },
            "colorscale": [
             [
              0,
              "#0d0887"
             ],
             [
              0.1111111111111111,
              "#46039f"
             ],
             [
              0.2222222222222222,
              "#7201a8"
             ],
             [
              0.3333333333333333,
              "#9c179e"
             ],
             [
              0.4444444444444444,
              "#bd3786"
             ],
             [
              0.5555555555555556,
              "#d8576b"
             ],
             [
              0.6666666666666666,
              "#ed7953"
             ],
             [
              0.7777777777777778,
              "#fb9f3a"
             ],
             [
              0.8888888888888888,
              "#fdca26"
             ],
             [
              1,
              "#f0f921"
             ]
            ],
            "type": "heatmap"
           }
          ],
          "heatmapgl": [
           {
            "colorbar": {
             "outlinewidth": 0,
             "ticks": ""
            },
            "colorscale": [
             [
              0,
              "#0d0887"
             ],
             [
              0.1111111111111111,
              "#46039f"
             ],
             [
              0.2222222222222222,
              "#7201a8"
             ],
             [
              0.3333333333333333,
              "#9c179e"
             ],
             [
              0.4444444444444444,
              "#bd3786"
             ],
             [
              0.5555555555555556,
              "#d8576b"
             ],
             [
              0.6666666666666666,
              "#ed7953"
             ],
             [
              0.7777777777777778,
              "#fb9f3a"
             ],
             [
              0.8888888888888888,
              "#fdca26"
             ],
             [
              1,
              "#f0f921"
             ]
            ],
            "type": "heatmapgl"
           }
          ],
          "histogram": [
           {
            "marker": {
             "colorbar": {
              "outlinewidth": 0,
              "ticks": ""
             }
            },
            "type": "histogram"
           }
          ],
          "histogram2d": [
           {
            "colorbar": {
             "outlinewidth": 0,
             "ticks": ""
            },
            "colorscale": [
             [
              0,
              "#0d0887"
             ],
             [
              0.1111111111111111,
              "#46039f"
             ],
             [
              0.2222222222222222,
              "#7201a8"
             ],
             [
              0.3333333333333333,
              "#9c179e"
             ],
             [
              0.4444444444444444,
              "#bd3786"
             ],
             [
              0.5555555555555556,
              "#d8576b"
             ],
             [
              0.6666666666666666,
              "#ed7953"
             ],
             [
              0.7777777777777778,
              "#fb9f3a"
             ],
             [
              0.8888888888888888,
              "#fdca26"
             ],
             [
              1,
              "#f0f921"
             ]
            ],
            "type": "histogram2d"
           }
          ],
          "histogram2dcontour": [
           {
            "colorbar": {
             "outlinewidth": 0,
             "ticks": ""
            },
            "colorscale": [
             [
              0,
              "#0d0887"
             ],
             [
              0.1111111111111111,
              "#46039f"
             ],
             [
              0.2222222222222222,
              "#7201a8"
             ],
             [
              0.3333333333333333,
              "#9c179e"
             ],
             [
              0.4444444444444444,
              "#bd3786"
             ],
             [
              0.5555555555555556,
              "#d8576b"
             ],
             [
              0.6666666666666666,
              "#ed7953"
             ],
             [
              0.7777777777777778,
              "#fb9f3a"
             ],
             [
              0.8888888888888888,
              "#fdca26"
             ],
             [
              1,
              "#f0f921"
             ]
            ],
            "type": "histogram2dcontour"
           }
          ],
          "mesh3d": [
           {
            "colorbar": {
             "outlinewidth": 0,
             "ticks": ""
            },
            "type": "mesh3d"
           }
          ],
          "parcoords": [
           {
            "line": {
             "colorbar": {
              "outlinewidth": 0,
              "ticks": ""
             }
            },
            "type": "parcoords"
           }
          ],
          "pie": [
           {
            "automargin": true,
            "type": "pie"
           }
          ],
          "scatter": [
           {
            "marker": {
             "colorbar": {
              "outlinewidth": 0,
              "ticks": ""
             }
            },
            "type": "scatter"
           }
          ],
          "scatter3d": [
           {
            "line": {
             "colorbar": {
              "outlinewidth": 0,
              "ticks": ""
             }
            },
            "marker": {
             "colorbar": {
              "outlinewidth": 0,
              "ticks": ""
             }
            },
            "type": "scatter3d"
           }
          ],
          "scattercarpet": [
           {
            "marker": {
             "colorbar": {
              "outlinewidth": 0,
              "ticks": ""
             }
            },
            "type": "scattercarpet"
           }
          ],
          "scattergeo": [
           {
            "marker": {
             "colorbar": {
              "outlinewidth": 0,
              "ticks": ""
             }
            },
            "type": "scattergeo"
           }
          ],
          "scattergl": [
           {
            "marker": {
             "colorbar": {
              "outlinewidth": 0,
              "ticks": ""
             }
            },
            "type": "scattergl"
           }
          ],
          "scattermapbox": [
           {
            "marker": {
             "colorbar": {
              "outlinewidth": 0,
              "ticks": ""
             }
            },
            "type": "scattermapbox"
           }
          ],
          "scatterpolar": [
           {
            "marker": {
             "colorbar": {
              "outlinewidth": 0,
              "ticks": ""
             }
            },
            "type": "scatterpolar"
           }
          ],
          "scatterpolargl": [
           {
            "marker": {
             "colorbar": {
              "outlinewidth": 0,
              "ticks": ""
             }
            },
            "type": "scatterpolargl"
           }
          ],
          "scatterternary": [
           {
            "marker": {
             "colorbar": {
              "outlinewidth": 0,
              "ticks": ""
             }
            },
            "type": "scatterternary"
           }
          ],
          "surface": [
           {
            "colorbar": {
             "outlinewidth": 0,
             "ticks": ""
            },
            "colorscale": [
             [
              0,
              "#0d0887"
             ],
             [
              0.1111111111111111,
              "#46039f"
             ],
             [
              0.2222222222222222,
              "#7201a8"
             ],
             [
              0.3333333333333333,
              "#9c179e"
             ],
             [
              0.4444444444444444,
              "#bd3786"
             ],
             [
              0.5555555555555556,
              "#d8576b"
             ],
             [
              0.6666666666666666,
              "#ed7953"
             ],
             [
              0.7777777777777778,
              "#fb9f3a"
             ],
             [
              0.8888888888888888,
              "#fdca26"
             ],
             [
              1,
              "#f0f921"
             ]
            ],
            "type": "surface"
           }
          ],
          "table": [
           {
            "cells": {
             "fill": {
              "color": "#EBF0F8"
             },
             "line": {
              "color": "white"
             }
            },
            "header": {
             "fill": {
              "color": "#C8D4E3"
             },
             "line": {
              "color": "white"
             }
            },
            "type": "table"
           }
          ]
         },
         "layout": {
          "annotationdefaults": {
           "arrowcolor": "#2a3f5f",
           "arrowhead": 0,
           "arrowwidth": 1
          },
          "autotypenumbers": "strict",
          "coloraxis": {
           "colorbar": {
            "outlinewidth": 0,
            "ticks": ""
           }
          },
          "colorscale": {
           "diverging": [
            [
             0,
             "#8e0152"
            ],
            [
             0.1,
             "#c51b7d"
            ],
            [
             0.2,
             "#de77ae"
            ],
            [
             0.3,
             "#f1b6da"
            ],
            [
             0.4,
             "#fde0ef"
            ],
            [
             0.5,
             "#f7f7f7"
            ],
            [
             0.6,
             "#e6f5d0"
            ],
            [
             0.7,
             "#b8e186"
            ],
            [
             0.8,
             "#7fbc41"
            ],
            [
             0.9,
             "#4d9221"
            ],
            [
             1,
             "#276419"
            ]
           ],
           "sequential": [
            [
             0,
             "#0d0887"
            ],
            [
             0.1111111111111111,
             "#46039f"
            ],
            [
             0.2222222222222222,
             "#7201a8"
            ],
            [
             0.3333333333333333,
             "#9c179e"
            ],
            [
             0.4444444444444444,
             "#bd3786"
            ],
            [
             0.5555555555555556,
             "#d8576b"
            ],
            [
             0.6666666666666666,
             "#ed7953"
            ],
            [
             0.7777777777777778,
             "#fb9f3a"
            ],
            [
             0.8888888888888888,
             "#fdca26"
            ],
            [
             1,
             "#f0f921"
            ]
           ],
           "sequentialminus": [
            [
             0,
             "#0d0887"
            ],
            [
             0.1111111111111111,
             "#46039f"
            ],
            [
             0.2222222222222222,
             "#7201a8"
            ],
            [
             0.3333333333333333,
             "#9c179e"
            ],
            [
             0.4444444444444444,
             "#bd3786"
            ],
            [
             0.5555555555555556,
             "#d8576b"
            ],
            [
             0.6666666666666666,
             "#ed7953"
            ],
            [
             0.7777777777777778,
             "#fb9f3a"
            ],
            [
             0.8888888888888888,
             "#fdca26"
            ],
            [
             1,
             "#f0f921"
            ]
           ]
          },
          "colorway": [
           "#636efa",
           "#EF553B",
           "#00cc96",
           "#ab63fa",
           "#FFA15A",
           "#19d3f3",
           "#FF6692",
           "#B6E880",
           "#FF97FF",
           "#FECB52"
          ],
          "font": {
           "color": "#2a3f5f"
          },
          "geo": {
           "bgcolor": "white",
           "lakecolor": "white",
           "landcolor": "#E5ECF6",
           "showlakes": true,
           "showland": true,
           "subunitcolor": "white"
          },
          "hoverlabel": {
           "align": "left"
          },
          "hovermode": "closest",
          "mapbox": {
           "style": "light"
          },
          "paper_bgcolor": "white",
          "plot_bgcolor": "#E5ECF6",
          "polar": {
           "angularaxis": {
            "gridcolor": "white",
            "linecolor": "white",
            "ticks": ""
           },
           "bgcolor": "#E5ECF6",
           "radialaxis": {
            "gridcolor": "white",
            "linecolor": "white",
            "ticks": ""
           }
          },
          "scene": {
           "xaxis": {
            "backgroundcolor": "#E5ECF6",
            "gridcolor": "white",
            "gridwidth": 2,
            "linecolor": "white",
            "showbackground": true,
            "ticks": "",
            "zerolinecolor": "white"
           },
           "yaxis": {
            "backgroundcolor": "#E5ECF6",
            "gridcolor": "white",
            "gridwidth": 2,
            "linecolor": "white",
            "showbackground": true,
            "ticks": "",
            "zerolinecolor": "white"
           },
           "zaxis": {
            "backgroundcolor": "#E5ECF6",
            "gridcolor": "white",
            "gridwidth": 2,
            "linecolor": "white",
            "showbackground": true,
            "ticks": "",
            "zerolinecolor": "white"
           }
          },
          "shapedefaults": {
           "line": {
            "color": "#2a3f5f"
           }
          },
          "ternary": {
           "aaxis": {
            "gridcolor": "white",
            "linecolor": "white",
            "ticks": ""
           },
           "baxis": {
            "gridcolor": "white",
            "linecolor": "white",
            "ticks": ""
           },
           "bgcolor": "#E5ECF6",
           "caxis": {
            "gridcolor": "white",
            "linecolor": "white",
            "ticks": ""
           }
          },
          "title": {
           "x": 0.05
          },
          "xaxis": {
           "automargin": true,
           "gridcolor": "white",
           "linecolor": "white",
           "ticks": "",
           "title": {
            "standoff": 15
           },
           "zerolinecolor": "white",
           "zerolinewidth": 2
          },
          "yaxis": {
           "automargin": true,
           "gridcolor": "white",
           "linecolor": "white",
           "ticks": "",
           "title": {
            "standoff": 15
           },
           "zerolinecolor": "white",
           "zerolinewidth": 2
          }
         }
        },
        "title": {
         "text": "Uber Trips by Category and Purpose"
        }
       }
      }
     },
     "metadata": {},
     "output_type": "display_data"
    }
   ],
   "source": [
    "# reference to Plotly documentation: https://plotly.com/python/sunburst-charts/\n",
    "import plotly.express as px\n",
    "fig = px.sunburst(data, path=['CATEGORY', 'PURPOSE'], title='Uber Trips by Category and Purpose')\n",
    "fig.show()"
   ]
  },
  {
   "cell_type": "code",
   "execution_count": 19,
   "metadata": {},
   "outputs": [
    {
     "data": {
      "text/html": [
       "<div>\n",
       "<style scoped>\n",
       "    .dataframe tbody tr th:only-of-type {\n",
       "        vertical-align: middle;\n",
       "    }\n",
       "\n",
       "    .dataframe tbody tr th {\n",
       "        vertical-align: top;\n",
       "    }\n",
       "\n",
       "    .dataframe thead th {\n",
       "        text-align: right;\n",
       "    }\n",
       "</style>\n",
       "<table border=\"1\" class=\"dataframe\">\n",
       "  <thead>\n",
       "    <tr style=\"text-align: right;\">\n",
       "      <th></th>\n",
       "      <th>CATEGORY</th>\n",
       "      <th>PURPOSE</th>\n",
       "      <th>COUNT</th>\n",
       "    </tr>\n",
       "  </thead>\n",
       "  <tbody>\n",
       "    <tr>\n",
       "      <th>0</th>\n",
       "      <td>Business</td>\n",
       "      <td>Airport/Travel</td>\n",
       "      <td>3</td>\n",
       "    </tr>\n",
       "    <tr>\n",
       "      <th>1</th>\n",
       "      <td>Business</td>\n",
       "      <td>Between Offices</td>\n",
       "      <td>18</td>\n",
       "    </tr>\n",
       "    <tr>\n",
       "      <th>2</th>\n",
       "      <td>Business</td>\n",
       "      <td>Customer Visit</td>\n",
       "      <td>101</td>\n",
       "    </tr>\n",
       "    <tr>\n",
       "      <th>3</th>\n",
       "      <td>Business</td>\n",
       "      <td>Errand/Supplies</td>\n",
       "      <td>128</td>\n",
       "    </tr>\n",
       "    <tr>\n",
       "      <th>4</th>\n",
       "      <td>Business</td>\n",
       "      <td>Meal/Entertain</td>\n",
       "      <td>160</td>\n",
       "    </tr>\n",
       "    <tr>\n",
       "      <th>5</th>\n",
       "      <td>Business</td>\n",
       "      <td>Meeting</td>\n",
       "      <td>186</td>\n",
       "    </tr>\n",
       "    <tr>\n",
       "      <th>6</th>\n",
       "      <td>Business</td>\n",
       "      <td>Temporary Site</td>\n",
       "      <td>50</td>\n",
       "    </tr>\n",
       "    <tr>\n",
       "      <th>7</th>\n",
       "      <td>Personal</td>\n",
       "      <td>Charity ($)</td>\n",
       "      <td>1</td>\n",
       "    </tr>\n",
       "    <tr>\n",
       "      <th>8</th>\n",
       "      <td>Personal</td>\n",
       "      <td>Commute</td>\n",
       "      <td>1</td>\n",
       "    </tr>\n",
       "    <tr>\n",
       "      <th>9</th>\n",
       "      <td>Personal</td>\n",
       "      <td>Moving</td>\n",
       "      <td>4</td>\n",
       "    </tr>\n",
       "  </tbody>\n",
       "</table>\n",
       "</div>"
      ],
      "text/plain": [
       "   CATEGORY          PURPOSE  COUNT\n",
       "0  Business   Airport/Travel      3\n",
       "1  Business  Between Offices     18\n",
       "2  Business   Customer Visit    101\n",
       "3  Business  Errand/Supplies    128\n",
       "4  Business   Meal/Entertain    160\n",
       "5  Business          Meeting    186\n",
       "6  Business   Temporary Site     50\n",
       "7  Personal      Charity ($)      1\n",
       "8  Personal          Commute      1\n",
       "9  Personal           Moving      4"
      ]
     },
     "execution_count": 19,
     "metadata": {},
     "output_type": "execute_result"
    }
   ],
   "source": [
    "# In the graph above, we can see that out of all business trips, 431 are not available.\n",
    "# Similarly, out of all personal trips, 71 are not available.\n",
    "\n",
    "# Let's create the graph again. This time, we will filter out the 'Not Available' rows.\n",
    "category_and_purpose = pd.DataFrame(data[['CATEGORY', 'PURPOSE']])\n",
    "category_and_purpose = category_and_purpose[category_and_purpose['PURPOSE'] != 'Not Available'].reset_index(drop=True)\n",
    "\n",
    "# Check the count for each category and purpose pairs\n",
    "category_and_purpose.groupby(['CATEGORY', 'PURPOSE']).size().reset_index(name='COUNT')"
   ]
  },
  {
   "cell_type": "code",
   "execution_count": 20,
   "metadata": {},
   "outputs": [
    {
     "data": {
      "application/vnd.plotly.v1+json": {
       "config": {
        "plotlyServerURL": "https://plot.ly"
       },
       "data": [
        {
         "branchvalues": "total",
         "domain": {
          "x": [
           0,
           1
          ],
          "y": [
           0,
           1
          ]
         },
         "hovertemplate": "labels=%{label}<br>count=%{value}<br>parent=%{parent}<br>id=%{id}<extra></extra>",
         "ids": [
          "Business/Airport/Travel",
          "Business/Between Offices",
          "Personal/Charity ($)",
          "Personal/Commute",
          "Business/Customer Visit",
          "Business/Errand/Supplies",
          "Business/Meal/Entertain",
          "Business/Meeting",
          "Personal/Moving",
          "Business/Temporary Site",
          "Business",
          "Personal"
         ],
         "labels": [
          "Airport/Travel",
          "Between Offices",
          "Charity ($)",
          "Commute",
          "Customer Visit",
          "Errand/Supplies",
          "Meal/Entertain",
          "Meeting",
          "Moving",
          "Temporary Site",
          "Business",
          "Personal"
         ],
         "name": "",
         "parents": [
          "Business",
          "Business",
          "Personal",
          "Personal",
          "Business",
          "Business",
          "Business",
          "Business",
          "Personal",
          "Business",
          "",
          ""
         ],
         "type": "sunburst",
         "values": [
          3,
          18,
          1,
          1,
          101,
          128,
          160,
          186,
          4,
          50,
          646,
          6
         ]
        }
       ],
       "layout": {
        "legend": {
         "tracegroupgap": 0
        },
        "template": {
         "data": {
          "bar": [
           {
            "error_x": {
             "color": "#2a3f5f"
            },
            "error_y": {
             "color": "#2a3f5f"
            },
            "marker": {
             "line": {
              "color": "#E5ECF6",
              "width": 0.5
             }
            },
            "type": "bar"
           }
          ],
          "barpolar": [
           {
            "marker": {
             "line": {
              "color": "#E5ECF6",
              "width": 0.5
             }
            },
            "type": "barpolar"
           }
          ],
          "carpet": [
           {
            "aaxis": {
             "endlinecolor": "#2a3f5f",
             "gridcolor": "white",
             "linecolor": "white",
             "minorgridcolor": "white",
             "startlinecolor": "#2a3f5f"
            },
            "baxis": {
             "endlinecolor": "#2a3f5f",
             "gridcolor": "white",
             "linecolor": "white",
             "minorgridcolor": "white",
             "startlinecolor": "#2a3f5f"
            },
            "type": "carpet"
           }
          ],
          "choropleth": [
           {
            "colorbar": {
             "outlinewidth": 0,
             "ticks": ""
            },
            "type": "choropleth"
           }
          ],
          "contour": [
           {
            "colorbar": {
             "outlinewidth": 0,
             "ticks": ""
            },
            "colorscale": [
             [
              0,
              "#0d0887"
             ],
             [
              0.1111111111111111,
              "#46039f"
             ],
             [
              0.2222222222222222,
              "#7201a8"
             ],
             [
              0.3333333333333333,
              "#9c179e"
             ],
             [
              0.4444444444444444,
              "#bd3786"
             ],
             [
              0.5555555555555556,
              "#d8576b"
             ],
             [
              0.6666666666666666,
              "#ed7953"
             ],
             [
              0.7777777777777778,
              "#fb9f3a"
             ],
             [
              0.8888888888888888,
              "#fdca26"
             ],
             [
              1,
              "#f0f921"
             ]
            ],
            "type": "contour"
           }
          ],
          "contourcarpet": [
           {
            "colorbar": {
             "outlinewidth": 0,
             "ticks": ""
            },
            "type": "contourcarpet"
           }
          ],
          "heatmap": [
           {
            "colorbar": {
             "outlinewidth": 0,
             "ticks": ""
            },
            "colorscale": [
             [
              0,
              "#0d0887"
             ],
             [
              0.1111111111111111,
              "#46039f"
             ],
             [
              0.2222222222222222,
              "#7201a8"
             ],
             [
              0.3333333333333333,
              "#9c179e"
             ],
             [
              0.4444444444444444,
              "#bd3786"
             ],
             [
              0.5555555555555556,
              "#d8576b"
             ],
             [
              0.6666666666666666,
              "#ed7953"
             ],
             [
              0.7777777777777778,
              "#fb9f3a"
             ],
             [
              0.8888888888888888,
              "#fdca26"
             ],
             [
              1,
              "#f0f921"
             ]
            ],
            "type": "heatmap"
           }
          ],
          "heatmapgl": [
           {
            "colorbar": {
             "outlinewidth": 0,
             "ticks": ""
            },
            "colorscale": [
             [
              0,
              "#0d0887"
             ],
             [
              0.1111111111111111,
              "#46039f"
             ],
             [
              0.2222222222222222,
              "#7201a8"
             ],
             [
              0.3333333333333333,
              "#9c179e"
             ],
             [
              0.4444444444444444,
              "#bd3786"
             ],
             [
              0.5555555555555556,
              "#d8576b"
             ],
             [
              0.6666666666666666,
              "#ed7953"
             ],
             [
              0.7777777777777778,
              "#fb9f3a"
             ],
             [
              0.8888888888888888,
              "#fdca26"
             ],
             [
              1,
              "#f0f921"
             ]
            ],
            "type": "heatmapgl"
           }
          ],
          "histogram": [
           {
            "marker": {
             "colorbar": {
              "outlinewidth": 0,
              "ticks": ""
             }
            },
            "type": "histogram"
           }
          ],
          "histogram2d": [
           {
            "colorbar": {
             "outlinewidth": 0,
             "ticks": ""
            },
            "colorscale": [
             [
              0,
              "#0d0887"
             ],
             [
              0.1111111111111111,
              "#46039f"
             ],
             [
              0.2222222222222222,
              "#7201a8"
             ],
             [
              0.3333333333333333,
              "#9c179e"
             ],
             [
              0.4444444444444444,
              "#bd3786"
             ],
             [
              0.5555555555555556,
              "#d8576b"
             ],
             [
              0.6666666666666666,
              "#ed7953"
             ],
             [
              0.7777777777777778,
              "#fb9f3a"
             ],
             [
              0.8888888888888888,
              "#fdca26"
             ],
             [
              1,
              "#f0f921"
             ]
            ],
            "type": "histogram2d"
           }
          ],
          "histogram2dcontour": [
           {
            "colorbar": {
             "outlinewidth": 0,
             "ticks": ""
            },
            "colorscale": [
             [
              0,
              "#0d0887"
             ],
             [
              0.1111111111111111,
              "#46039f"
             ],
             [
              0.2222222222222222,
              "#7201a8"
             ],
             [
              0.3333333333333333,
              "#9c179e"
             ],
             [
              0.4444444444444444,
              "#bd3786"
             ],
             [
              0.5555555555555556,
              "#d8576b"
             ],
             [
              0.6666666666666666,
              "#ed7953"
             ],
             [
              0.7777777777777778,
              "#fb9f3a"
             ],
             [
              0.8888888888888888,
              "#fdca26"
             ],
             [
              1,
              "#f0f921"
             ]
            ],
            "type": "histogram2dcontour"
           }
          ],
          "mesh3d": [
           {
            "colorbar": {
             "outlinewidth": 0,
             "ticks": ""
            },
            "type": "mesh3d"
           }
          ],
          "parcoords": [
           {
            "line": {
             "colorbar": {
              "outlinewidth": 0,
              "ticks": ""
             }
            },
            "type": "parcoords"
           }
          ],
          "pie": [
           {
            "automargin": true,
            "type": "pie"
           }
          ],
          "scatter": [
           {
            "marker": {
             "colorbar": {
              "outlinewidth": 0,
              "ticks": ""
             }
            },
            "type": "scatter"
           }
          ],
          "scatter3d": [
           {
            "line": {
             "colorbar": {
              "outlinewidth": 0,
              "ticks": ""
             }
            },
            "marker": {
             "colorbar": {
              "outlinewidth": 0,
              "ticks": ""
             }
            },
            "type": "scatter3d"
           }
          ],
          "scattercarpet": [
           {
            "marker": {
             "colorbar": {
              "outlinewidth": 0,
              "ticks": ""
             }
            },
            "type": "scattercarpet"
           }
          ],
          "scattergeo": [
           {
            "marker": {
             "colorbar": {
              "outlinewidth": 0,
              "ticks": ""
             }
            },
            "type": "scattergeo"
           }
          ],
          "scattergl": [
           {
            "marker": {
             "colorbar": {
              "outlinewidth": 0,
              "ticks": ""
             }
            },
            "type": "scattergl"
           }
          ],
          "scattermapbox": [
           {
            "marker": {
             "colorbar": {
              "outlinewidth": 0,
              "ticks": ""
             }
            },
            "type": "scattermapbox"
           }
          ],
          "scatterpolar": [
           {
            "marker": {
             "colorbar": {
              "outlinewidth": 0,
              "ticks": ""
             }
            },
            "type": "scatterpolar"
           }
          ],
          "scatterpolargl": [
           {
            "marker": {
             "colorbar": {
              "outlinewidth": 0,
              "ticks": ""
             }
            },
            "type": "scatterpolargl"
           }
          ],
          "scatterternary": [
           {
            "marker": {
             "colorbar": {
              "outlinewidth": 0,
              "ticks": ""
             }
            },
            "type": "scatterternary"
           }
          ],
          "surface": [
           {
            "colorbar": {
             "outlinewidth": 0,
             "ticks": ""
            },
            "colorscale": [
             [
              0,
              "#0d0887"
             ],
             [
              0.1111111111111111,
              "#46039f"
             ],
             [
              0.2222222222222222,
              "#7201a8"
             ],
             [
              0.3333333333333333,
              "#9c179e"
             ],
             [
              0.4444444444444444,
              "#bd3786"
             ],
             [
              0.5555555555555556,
              "#d8576b"
             ],
             [
              0.6666666666666666,
              "#ed7953"
             ],
             [
              0.7777777777777778,
              "#fb9f3a"
             ],
             [
              0.8888888888888888,
              "#fdca26"
             ],
             [
              1,
              "#f0f921"
             ]
            ],
            "type": "surface"
           }
          ],
          "table": [
           {
            "cells": {
             "fill": {
              "color": "#EBF0F8"
             },
             "line": {
              "color": "white"
             }
            },
            "header": {
             "fill": {
              "color": "#C8D4E3"
             },
             "line": {
              "color": "white"
             }
            },
            "type": "table"
           }
          ]
         },
         "layout": {
          "annotationdefaults": {
           "arrowcolor": "#2a3f5f",
           "arrowhead": 0,
           "arrowwidth": 1
          },
          "autotypenumbers": "strict",
          "coloraxis": {
           "colorbar": {
            "outlinewidth": 0,
            "ticks": ""
           }
          },
          "colorscale": {
           "diverging": [
            [
             0,
             "#8e0152"
            ],
            [
             0.1,
             "#c51b7d"
            ],
            [
             0.2,
             "#de77ae"
            ],
            [
             0.3,
             "#f1b6da"
            ],
            [
             0.4,
             "#fde0ef"
            ],
            [
             0.5,
             "#f7f7f7"
            ],
            [
             0.6,
             "#e6f5d0"
            ],
            [
             0.7,
             "#b8e186"
            ],
            [
             0.8,
             "#7fbc41"
            ],
            [
             0.9,
             "#4d9221"
            ],
            [
             1,
             "#276419"
            ]
           ],
           "sequential": [
            [
             0,
             "#0d0887"
            ],
            [
             0.1111111111111111,
             "#46039f"
            ],
            [
             0.2222222222222222,
             "#7201a8"
            ],
            [
             0.3333333333333333,
             "#9c179e"
            ],
            [
             0.4444444444444444,
             "#bd3786"
            ],
            [
             0.5555555555555556,
             "#d8576b"
            ],
            [
             0.6666666666666666,
             "#ed7953"
            ],
            [
             0.7777777777777778,
             "#fb9f3a"
            ],
            [
             0.8888888888888888,
             "#fdca26"
            ],
            [
             1,
             "#f0f921"
            ]
           ],
           "sequentialminus": [
            [
             0,
             "#0d0887"
            ],
            [
             0.1111111111111111,
             "#46039f"
            ],
            [
             0.2222222222222222,
             "#7201a8"
            ],
            [
             0.3333333333333333,
             "#9c179e"
            ],
            [
             0.4444444444444444,
             "#bd3786"
            ],
            [
             0.5555555555555556,
             "#d8576b"
            ],
            [
             0.6666666666666666,
             "#ed7953"
            ],
            [
             0.7777777777777778,
             "#fb9f3a"
            ],
            [
             0.8888888888888888,
             "#fdca26"
            ],
            [
             1,
             "#f0f921"
            ]
           ]
          },
          "colorway": [
           "#636efa",
           "#EF553B",
           "#00cc96",
           "#ab63fa",
           "#FFA15A",
           "#19d3f3",
           "#FF6692",
           "#B6E880",
           "#FF97FF",
           "#FECB52"
          ],
          "font": {
           "color": "#2a3f5f"
          },
          "geo": {
           "bgcolor": "white",
           "lakecolor": "white",
           "landcolor": "#E5ECF6",
           "showlakes": true,
           "showland": true,
           "subunitcolor": "white"
          },
          "hoverlabel": {
           "align": "left"
          },
          "hovermode": "closest",
          "mapbox": {
           "style": "light"
          },
          "paper_bgcolor": "white",
          "plot_bgcolor": "#E5ECF6",
          "polar": {
           "angularaxis": {
            "gridcolor": "white",
            "linecolor": "white",
            "ticks": ""
           },
           "bgcolor": "#E5ECF6",
           "radialaxis": {
            "gridcolor": "white",
            "linecolor": "white",
            "ticks": ""
           }
          },
          "scene": {
           "xaxis": {
            "backgroundcolor": "#E5ECF6",
            "gridcolor": "white",
            "gridwidth": 2,
            "linecolor": "white",
            "showbackground": true,
            "ticks": "",
            "zerolinecolor": "white"
           },
           "yaxis": {
            "backgroundcolor": "#E5ECF6",
            "gridcolor": "white",
            "gridwidth": 2,
            "linecolor": "white",
            "showbackground": true,
            "ticks": "",
            "zerolinecolor": "white"
           },
           "zaxis": {
            "backgroundcolor": "#E5ECF6",
            "gridcolor": "white",
            "gridwidth": 2,
            "linecolor": "white",
            "showbackground": true,
            "ticks": "",
            "zerolinecolor": "white"
           }
          },
          "shapedefaults": {
           "line": {
            "color": "#2a3f5f"
           }
          },
          "ternary": {
           "aaxis": {
            "gridcolor": "white",
            "linecolor": "white",
            "ticks": ""
           },
           "baxis": {
            "gridcolor": "white",
            "linecolor": "white",
            "ticks": ""
           },
           "bgcolor": "#E5ECF6",
           "caxis": {
            "gridcolor": "white",
            "linecolor": "white",
            "ticks": ""
           }
          },
          "title": {
           "x": 0.05
          },
          "xaxis": {
           "automargin": true,
           "gridcolor": "white",
           "linecolor": "white",
           "ticks": "",
           "title": {
            "standoff": 15
           },
           "zerolinecolor": "white",
           "zerolinewidth": 2
          },
          "yaxis": {
           "automargin": true,
           "gridcolor": "white",
           "linecolor": "white",
           "ticks": "",
           "title": {
            "standoff": 15
           },
           "zerolinecolor": "white",
           "zerolinewidth": 2
          }
         }
        },
        "title": {
         "text": "Uber Trips by Category and Purpose (Updated)"
        }
       }
      }
     },
     "metadata": {},
     "output_type": "display_data"
    }
   ],
   "source": [
    "fig = px.sunburst(category_and_purpose, path=['CATEGORY', 'PURPOSE'], title='Uber Trips by Category and Purpose (Updated)')\n",
    "fig.show()"
   ]
  },
  {
   "cell_type": "code",
   "execution_count": 21,
   "metadata": {},
   "outputs": [
    {
     "name": "stderr",
     "output_type": "stream",
     "text": [
      "/Library/Frameworks/Python.framework/Versions/3.9/lib/python3.9/site-packages/seaborn/_decorators.py:36: FutureWarning:\n",
      "\n",
      "Pass the following variable as a keyword arg: x. From version 0.12, the only valid positional argument will be `data`, and passing other arguments without an explicit keyword will result in an error or misinterpretation.\n",
      "\n",
      "/Library/Frameworks/Python.framework/Versions/3.9/lib/python3.9/site-packages/seaborn/_core.py:1326: UserWarning:\n",
      "\n",
      "Vertical orientation ignored with only `x` specified.\n",
      "\n"
     ]
    },
    {
     "data": {
      "text/plain": [
       "<AxesSubplot:xlabel='MILES'>"
      ]
     },
     "execution_count": 21,
     "metadata": {},
     "output_type": "execute_result"
    },
    {
     "data": {
      "image/png": "[encoded data removed]",
      "text/plain": [
       "<Figure size 432x288 with 1 Axes>"
      ]
     },
     "metadata": {
      "needs_background": "light"
     },
     "output_type": "display_data"
    }
   ],
   "source": [
    "sns.boxplot(data['MILES'], orient='v')"
   ]
  },
  {
   "cell_type": "code",
   "execution_count": 45,
   "metadata": {},
   "outputs": [
    {
     "name": "stdout",
     "output_type": "stream",
     "text": [
      "\n",
      "Min: 0.5\n",
      "Max: 310.3\n",
      "Mean: 10.6\n",
      "Median: 6.0\n",
      "Lower Bound: 0\n",
      "Q1: 2.9\n",
      "IQR: 7.5\n",
      "Q3: 10.4\n",
      "Upper Bound: 21.6\n",
      "\n"
     ]
    }
   ],
   "source": [
    "Q1 = data['MILES'].quantile(0.25)\n",
    "Q3 = data['MILES'].quantile(0.75)\n",
    "IQR = Q3 - Q1\n",
    "lower_bound = max(0, Q1 - 1.5 * IQR)\n",
    "upper_bound = round(Q3 + 1.5 * IQR, 1)\n",
    "median = data['MILES'].median()\n",
    "mean = data['MILES'].mean()\n",
    "min_miles = round(data['MILES'].min(), 1)\n",
    "max_miles = round(data['MILES'].max(), 1)\n",
    "\n",
    "print(f\"\"\"\n",
    "Min: {min_miles}\n",
    "Max: {max_miles}\n",
    "Mean: {round(mean, 1)}\n",
    "Median: {median}\n",
    "Lower Bound: {lower_bound}\n",
    "Q1: {Q1}\n",
    "IQR: {IQR}\n",
    "Q3: {Q3}\n",
    "Upper Bound: {upper_bound}\n",
    "\"\"\")"
   ]
  },
  {
   "cell_type": "code",
   "execution_count": 52,
   "metadata": {},
   "outputs": [
    {
     "name": "stderr",
     "output_type": "stream",
     "text": [
      "/Library/Frameworks/Python.framework/Versions/3.9/lib/python3.9/site-packages/seaborn/_decorators.py:36: FutureWarning:\n",
      "\n",
      "Pass the following variable as a keyword arg: x. From version 0.12, the only valid positional argument will be `data`, and passing other arguments without an explicit keyword will result in an error or misinterpretation.\n",
      "\n"
     ]
    },
    {
     "data": {
      "text/plain": [
       "<AxesSubplot:xlabel='MILES'>"
      ]
     },
     "execution_count": 52,
     "metadata": {},
     "output_type": "execute_result"
    },
    {
     "data": {
      "image/png": "[encoded data removed]",
      "text/plain": [
       "<Figure size 432x288 with 1 Axes>"
      ]
     },
     "metadata": {
      "needs_background": "light"
     },
     "output_type": "display_data"
    }
   ],
   "source": [
    "# Redraw the boxplot with the outliers removed\n",
    "sns.boxplot(data[data['MILES'] <= upper_bound]['MILES'])"
   ]
  },
  {
   "cell_type": "code",
   "execution_count": 53,
   "metadata": {},
   "outputs": [
    {
     "data": {
      "text/plain": [
       "<seaborn.axisgrid.FacetGrid at 0x7f9f11355700>"
      ]
     },
     "execution_count": 53,
     "metadata": {},
     "output_type": "execute_result"
    },
    {
     "data": {
      "image/png": "[encoded data removed]",
      "text/plain": [
       "<Figure size 425.5x360 with 1 Axes>"
      ]
     },
     "metadata": {
      "needs_background": "light"
     },
     "output_type": "display_data"
    }
   ],
   "source": [
    "# Let's see this data again with a histogram, which shows the data as right-skewed.\n",
    "# Here, we can see most of the trips were booked for distances within 2 to 3 miles, \n",
    "# with the number of rides tapering off after 5 miles.\n",
    "\n",
    "sns.displot(data[data['MILES'] <= upper_bound], bins=20, kde=False)"
   ]
  },
  {
   "cell_type": "code",
   "execution_count": 61,
   "metadata": {},
   "outputs": [
    {
     "data": {
      "text/plain": [
       "<seaborn.axisgrid.FacetGrid at 0x7f9f113d3d30>"
      ]
     },
     "execution_count": 61,
     "metadata": {},
     "output_type": "execute_result"
    },
    {
     "data": {
      "image/png": "[encoded data removed]",
      "text/plain": [
       "<Figure size 425.5x360 with 1 Axes>"
      ]
     },
     "metadata": {
      "needs_background": "light"
     },
     "output_type": "display_data"
    }
   ],
   "source": [
    "# Now, looking at the outliers only, we can see that the bulk of the trips were within 22 and 50 miles. \n",
    "sns.displot(data[(data['MILES'] > upper_bound)], bins=round(max_miles-upper_bound), kde=False)"
   ]
  },
  {
   "cell_type": "code",
   "execution_count": 62,
   "metadata": {},
   "outputs": [
    {
     "data": {
      "text/plain": [
       "<seaborn.axisgrid.FacetGrid at 0x7f9f1203f520>"
      ]
     },
     "execution_count": 62,
     "metadata": {},
     "output_type": "execute_result"
    },
    {
     "data": {
      "image/png": "[encoded data removed]",
      "text/plain": [
       "<Figure size 425.5x360 with 1 Axes>"
      ]
     },
     "metadata": {
      "needs_background": "light"
     },
     "output_type": "display_data"
    }
   ],
   "source": [
    "# ... And within the 22 and 50 miles range, only the 22 and 23 mile trips had 5 or more riders.\n",
    "# In other words, we can expect 3 or fewer riders taking trips between 24 and 50 miles, and even less so beyond 50 miles.\n",
    "sns.displot(data[(data['MILES'] > upper_bound) & (data['MILES'] <= 50)], bins=round(50 - upper_bound), kde=False)"
   ]
  },
  {
   "cell_type": "code",
   "execution_count": 153,
   "metadata": {},
   "outputs": [
    {
     "data": {
      "image/png": "[encoded data removed]",
      "text/plain": [
       "<Figure size 720x432 with 2 Axes>"
      ]
     },
     "metadata": {
      "needs_background": "light"
     },
     "output_type": "display_data"
    }
   ],
   "source": [
    "same_dest = pd.DataFrame(data[data['START'] == data['STOP']]).reset_index(drop=True)\n",
    "# 288 trips had the same start and stop location.\n",
    "len(same_dest)\n",
    "\n",
    "df1 = pd.DataFrame(same_dest['MILES'])\n",
    "df2 = df1[df1['MILES'] <= 25]\n",
    "\n",
    "fig, axes = plt.subplots(1, 2, figsize=(10, 6))\n",
    "\n",
    "# Plot the histogram for all the trips with the same start and stop location\n",
    "axes[0].hist(df1, bins=20, histtype='barstacked', rwidth=0.8)\n",
    "axes[0].set_title('Trips with same start and stop \\nlocations by distance (All)')\n",
    "axes[0].set_xlabel('Miles')\n",
    "axes[0].set_ylabel('Trips')\n",
    "\n",
    "# Plot the histogram for all the trips with the same start and stop location, but only for trips <= 25 miles\n",
    "axes[1].hist(df2, bins=25, histtype='barstacked', rwidth=0.8)\n",
    "axes[1].set_title('Trips with same start and stop \\nlocations by distance (<= 25 miles)')\n",
    "axes[1].set_xlabel('Miles')\n",
    "\n",
    "fig.tight_layout()\n",
    "plt.show()"
   ]
  },
  {
   "cell_type": "code",
   "execution_count": 155,
   "metadata": {},
   "outputs": [
    {
     "data": {
      "application/vnd.plotly.v1+json": {
       "config": {
        "plotlyServerURL": "https://plot.ly"
       },
       "data": [
        {
         "branchvalues": "total",
         "domain": {
          "x": [
           0,
           1
          ],
          "y": [
           0,
           1
          ]
         },
         "hovertemplate": "labels=%{label}<br>count=%{value}<br>parent=%{parent}<br>id=%{id}<extra></extra>",
         "ids": [
          "Cory/Agnew",
          "Renaissance/Agnew",
          "Midtown/Alief",
          "Bryson City/Almond",
          "Cary/Apex",
          "Durham/Apex",
          "Chalmette/Arabi",
          "Washington/Arlington",
          "Whitebridge/Arlington Park at Amberly",
          "South Congress/Arts District",
          "Bryson City/Asheville",
          "Winston Salem/Asheville",
          "Boone/Banner Elk",
          "Elk Park/Banner Elk",
          "Morrisville/Banner Elk",
          "Downtown/Bay Farm Island",
          "Redmond/Bellevue",
          "El Cerrito/Berkeley",
          "Emeryville/Berkeley",
          "Menlo Park/Berkeley",
          "Mountain View/Berkeley",
          "Oakland/Berkeley",
          "San Francisco/Berkeley",
          "Santa Clara/Berkeley",
          "Banner Elk/Boone",
          "Newland/Boone",
          "Sharpstown/Briar Meadow",
          "Almond/Bryson City",
          "Topton/Bryson City",
          "Edgehill Farms/Burtrose",
          "Whitebridge/Burtrose",
          "CBD/Bywater",
          "Pontchartrain Beach/CBD",
          "St Thomas/CBD",
          "Mcvan/Capitol One",
          "University District/Capitol One",
          "Apex/Cary",
          "Boone/Cary",
          "Chapel Hill/Cary",
          "Durham/Cary",
          "Eagle Rock/Cary",
          "Florence/Cary",
          "Fuquay-Varina/Cary",
          "Holly Springs/Cary",
          "Mebane/Cary",
          "Morrisville/Cary",
          "Raleigh/Cary",
          "Wake Forest/Cary",
          "Meredith/Cedar Hill",
          "College Avenue/Central",
          "Downtown/Central",
          "Southside/Central",
          "West Berkeley/Central",
          "New Orleans/Chalmette",
          "Cary/Chapel Hill",
          "Townes at Everett Crossing/Chessington",
          "Whitebridge/Chessington",
          "Central/College Avenue",
          "Unknown Location/Colombo",
          "Kalorama Triangle/Columbia Heights",
          "The Drag/Congress Ave District",
          "West University/Congress Ave District",
          "The Drag/Convention Center District",
          "Agnew/Cory",
          "New Orleans/Covington",
          "North Austin/Coxville",
          "Kissimmee/Daytona Beach",
          "Fayetteville Street/Depot Historic District",
          "Congress Ave District/Downtown",
          "Gulfton/Downtown",
          "Kalorama Triangle/Downtown",
          "Midtown/Downtown",
          "NOMA/Downtown",
          "Red River District/Downtown",
          "South/Downtown",
          "Cary/Durham",
          "Apex/Eagle Rock",
          "Jackson Heights/East Elmhurst",
          "Midtown/East Harlem",
          "Farmington Woods/Edgehill Farms",
          "Heritage Pines/Edgehill Farms",
          "Whitebridge/Edgehill Farms",
          "Berkeley/El Cerrito",
          "Banner Elk/Elk Park",
          "Berkeley/Emeryville",
          "Oakland/Emeryville",
          "San Francisco/Emeryville",
          "San Jose/Emeryville",
          "Whitebridge/Farmington Woods",
          "Storyville/Faubourg Marigny",
          "Tribeca/Financial District",
          "Ridgeland/Florence",
          "SOMISSPO/French Quarter",
          "Cary/Fuquay-Varina",
          "Houston/Galveston",
          "Port Bolivar/Galveston",
          "Katunayake/Gampaha",
          "Seaport/Gramercy-Flatiron",
          "Midtown/Greater Greenspoint",
          "Downtown/Gulfton",
          "Meredith Townes/Harden Place",
          "Topton/Hayesville",
          "Westpark Place/Hazelwood",
          "Whitebridge/Hazelwood",
          "Hudson Square/Hell's Kitchen",
          "Whitebridge/Heritage Pines",
          "Old City/Hog Island",
          "Apex/Holly Springs",
          "Cary/Holly Springs",
          "Galveston/Houston",
          "Katy/Houston",
          "Sugar Land/Houston",
          "Lower Manhattan/Hudson Square",
          "Midtown/Hudson Square",
          "Gampaha/Ilukwatta",
          "Sunnyside/Ingleside",
          "Noorpur Shahan/Islamabad",
          "R?walpindi/Islamabad",
          "Rawalpindi/Islamabad",
          "Unknown Location/Islamabad",
          "Couples Glen/Isles of Buena Vista",
          "East Elmhurst/Jackson Heights",
          "Daytona Beach/Jacksonville",
          "Latta/Jacksonville",
          "Long Island City/Jamaica",
          "New York/Jamaica",
          "Eagan Park/Jamestown Court",
          "Kalorama Triangle/K Street",
          "Columbia Heights/Kalorama Triangle",
          "Connecticut Avenue/Kalorama Triangle",
          "K Street/Kalorama Triangle",
          "Unknown Location/Kar?chi",
          "Colombo/Katunayaka",
          "Austin/Katy",
          "Metairie/Kenner",
          "New Orleans/Kenner",
          "Savon Height/Kilarney Woods",
          "Kilarney Woods/Kildaire Farms",
          "Whitebridge/Kildaire Farms",
          "Financial District/Kips Bay",
          "Jacksonville/Kissimmee",
          "Orlando/Kissimmee",
          "Unknown Location/Lahore",
          "Whitebridge/Lake Wellingborough",
          "Lower Garden District/Lakeview",
          "Cary/Latta",
          "Meredith Townes/Leesville Hollow",
          "Arlington Park at Amberly/Lexington Park at Amberly",
          "Hazelwood/Lexington Park at Amberly",
          "Stonewater/Lexington Park at Amberly",
          "New York/Long Island City",
          "CBD/Lower Garden District",
          "Hudson Square/Lower Manhattan",
          "Waverly Place/Macgregor Downs",
          "Whitebridge/Macgregor Downs",
          "Covington/Mandeville",
          "Storyville/Marigny",
          "Capitol One/Mcvan",
          "Asheville/Mebane",
          "Berkeley/Menlo Park",
          "Newark/Menlo Park",
          "Palo Alto/Menlo Park",
          "Fairmont/Meredith Townes",
          "Fayetteville Street/Meredith Townes",
          "Arabi/Metairie",
          "Kenner/Metairie",
          "Mandeville/Metairie",
          "New Orleans/Metairie",
          "Briar Meadow/Midtown",
          "Downtown/Midtown",
          "Flatiron District/Midtown",
          "Hell's Kitchen/Midtown",
          "Midtown East/Midtown",
          "Sharpstown/Midtown",
          "Washington Avenue/Midtown",
          "Midtown/Midtown East",
          "Midtown/Midtown West",
          "Cary/Morrisville",
          "Chapel Hill/Morrisville",
          "Durham/Morrisville",
          "Raleigh/Morrisville",
          "Unknown Location/Morrisville",
          "Wake Co./Morrisville",
          "Berkeley/Mountain View",
          "Kenner/New Orleans",
          "Metairie/New Orleans",
          "East Elmhurst/New York",
          "Elmhurst/New York",
          "Jamaica/New York",
          "Menlo Park/Newark",
          "Sunnyvale/Newark",
          "Banner Elk/Newland",
          "East Harlem/NoMad",
          "Islamabad/Noorpur Shahan",
          "Unknown Location/Noorpur Shahan",
          "South Congress/North Austin",
          "The Drag/North Austin",
          "West Berkeley/North Berkeley Hills",
          "West End/Northwest Rectangle",
          "Whitebridge/Northwoods",
          "Colombo/Nugegoda",
          "Berkeley/Oakland",
          "Emeryville/Oakland",
          "San Francisco/Oakland",
          "Kissimmee/Orlando",
          "West Palm Beach/Palm Beach",
          "Menlo Park/Palo Alto",
          "San Francisco/Palo Alto",
          "Savon Height/Parkway",
          "Tanglewood/Parkway",
          "Whitebridge/Parkway",
          "Old City/Parkway Museums",
          "CBD/Pontchartrain Beach",
          "Galveston/Port Bolivar",
          "Ingleside/Potrero Flats",
          "Edgehill Farms/Preston",
          "Northwoods/Preston",
          "Tanglewood/Preston",
          "Whitebridge/Preston",
          "New York/Queens",
          "New York/Queens County",
          "Islamabad/R?walpindi",
          "Unknown Location/R?walpindi",
          "Cary/Raleigh",
          "Morrisville/Raleigh",
          "Islamabad/Rawalpindi",
          "Unknown Location/Rawalpindi",
          "Downtown/Red River District",
          "Seattle/Redmond",
          "Agnew/Renaissance",
          "Jacksonville/Ridgeland",
          "Tenderloin/SOMISSPO",
          "Berkeley/San Francisco",
          "Emeryville/San Francisco",
          "Newark/San Francisco",
          "Oakland/San Francisco",
          "Berkeley/San Jose",
          "Sky Lake/Sand Lake Commons",
          "San Jose/Santa Clara",
          "Whitebridge/Savon Height",
          "Bellevue/Seattle",
          "Midtown/Sharpstown",
          "Sand Lake Commons/Sky Lake",
          "Rose Hill/Soho",
          "Central/South",
          "West Berkeley/South",
          "Southside/South Berkeley",
          "The Drag/South Congress",
          "West University/South Congress",
          "Central/Southside",
          "North Berkeley Hills/Southside",
          "South Berkeley/Southside",
          "West Berkeley/Southside",
          "South/Southwest Berkeley",
          "CBD/St Thomas",
          "Whitebridge/Stonewater",
          "Lakeview/Storyville",
          "Marigny/Storyville",
          "Houston/Sugar Land",
          "Whitebridge/Summerwinds",
          "Downtown/Sunnyside",
          "Palo Alto/Sunnyvale",
          "Northwoods/Tanglewood",
          "Whitebridge/Tanglewood",
          "SOMISSPO/Tenderloin",
          "Coxville/The Drag",
          "Downtown/The Drag",
          "Georgian Acres/The Drag",
          "South Congress/The Drag",
          "Asheville/Topton",
          "Hayesville/Topton",
          "Soho/Tribeca",
          "Medical Centre/Tudor City",
          "Fayetteville Street/Umstead",
          "Capitol One/University District",
          "Cary/Unknown Location",
          "Islamabad/Unknown Location",
          "Kar?chi/Unknown Location",
          "Karachi/Unknown Location",
          "Katunayaka/Unknown Location",
          "Lahore/Unknown Location",
          "Noorpur Shahan/Unknown Location",
          "Nugegoda/Unknown Location",
          "Oakland/Unknown Location",
          "R?walpindi/Unknown Location",
          "Rawalpindi/Unknown Location",
          "Couples Glen/Vista East",
          "Cary/Wake Co.",
          "Cary/Wake Forest",
          "Eastgate/Walnut Terrace",
          "Arlington/Washington",
          "Midtown/Washington Avenue",
          "Whitebridge/Waverly Place",
          "Whitebridge/Wayne Ridge",
          "Central/West Berkeley",
          "Downtown/West Berkeley",
          "Southside/West Berkeley",
          "Fort Pierce/West Palm Beach",
          "Convention Center District/West University",
          "East Austin/West University",
          "Hazelwood/Weston",
          "Huntington Woods/Weston",
          "Lexington Park at Amberly/Westpark Place",
          "Preston/Westpark Place",
          "Whitebridge/Westpark Place",
          "Burtrose/Whitebridge",
          "Chessington/Whitebridge",
          "Edgehill Farms/Whitebridge",
          "Farmington Woods/Whitebridge",
          "Hazelwood/Whitebridge",
          "Heritage Pines/Whitebridge",
          "Kilarney Woods/Whitebridge",
          "Krendle Woods/Whitebridge",
          "Lake Wellingborough/Whitebridge",
          "Lexington Park at Amberly/Whitebridge",
          "Northwoods/Whitebridge",
          "Parkway/Whitebridge",
          "Preston/Whitebridge",
          "Savon Height/Whitebridge",
          "Summerwinds/Whitebridge",
          "Tanglewood/Whitebridge",
          "Waverly Place/Whitebridge",
          "Wayne Ridge/Whitebridge",
          "Westpark Place/Whitebridge",
          "Whitebridge/Williamsburg Manor",
          "Cary/Winston Salem",
          "Agnew",
          "Almond",
          "Apex",
          "Arabi",
          "Arlington",
          "Arlington Park at Amberly",
          "Asheville",
          "Austin",
          "Banner Elk",
          "Bellevue",
          "Berkeley",
          "Boone",
          "Briar Meadow",
          "Bryson City",
          "Burtrose",
          "CBD",
          "Capitol One",
          "Cary",
          "Central",
          "Chalmette",
          "Chapel Hill",
          "Chessington",
          "College Avenue",
          "Colombo",
          "Columbia Heights",
          "Congress Ave District",
          "Connecticut Avenue",
          "Convention Center District",
          "Cory",
          "Couples Glen",
          "Covington",
          "Coxville",
          "Daytona Beach",
          "Downtown",
          "Durham",
          "Eagan Park",
          "Eagle Rock",
          "East Austin",
          "East Elmhurst",
          "East Harlem",
          "Eastgate",
          "Edgehill Farms",
          "El Cerrito",
          "Elk Park",
          "Elmhurst",
          "Emeryville",
          "Fairmont",
          "Farmington Woods",
          "Fayetteville Street",
          "Financial District",
          "Flatiron District",
          "Florence",
          "Fort Pierce",
          "Fuquay-Varina",
          "Galveston",
          "Gampaha",
          "Georgian Acres",
          "Gulfton",
          "Hayesville",
          "Hazelwood",
          "Hell's Kitchen",
          "Heritage Pines",
          "Holly Springs",
          "Houston",
          "Hudson Square",
          "Huntington Woods",
          "Ingleside",
          "Islamabad",
          "Jackson Heights",
          "Jacksonville",
          "Jamaica",
          "K Street",
          "Kalorama Triangle",
          "Kar?chi",
          "Karachi",
          "Katunayaka",
          "Katunayake",
          "Katy",
          "Kenner",
          "Kilarney Woods",
          "Kissimmee",
          "Krendle Woods",
          "Lahore",
          "Lake Wellingborough",
          "Lakeview",
          "Latta",
          "Lexington Park at Amberly",
          "Long Island City",
          "Lower Garden District",
          "Lower Manhattan",
          "Mandeville",
          "Marigny",
          "Mcvan",
          "Mebane",
          "Medical Centre",
          "Menlo Park",
          "Meredith",
          "Meredith Townes",
          "Metairie",
          "Midtown",
          "Midtown East",
          "Morrisville",
          "Mountain View",
          "NOMA",
          "New Orleans",
          "New York",
          "Newark",
          "Newland",
          "Noorpur Shahan",
          "North Austin",
          "North Berkeley Hills",
          "Northwoods",
          "Nugegoda",
          "Oakland",
          "Old City",
          "Orlando",
          "Palo Alto",
          "Parkway",
          "Pontchartrain Beach",
          "Port Bolivar",
          "Preston",
          "R?walpindi",
          "Raleigh",
          "Rawalpindi",
          "Red River District",
          "Redmond",
          "Renaissance",
          "Ridgeland",
          "Rose Hill",
          "SOMISSPO",
          "San Francisco",
          "San Jose",
          "Sand Lake Commons",
          "Santa Clara",
          "Savon Height",
          "Seaport",
          "Seattle",
          "Sharpstown",
          "Sky Lake",
          "Soho",
          "South",
          "South Berkeley",
          "South Congress",
          "Southside",
          "St Thomas",
          "Stonewater",
          "Storyville",
          "Sugar Land",
          "Summerwinds",
          "Sunnyside",
          "Sunnyvale",
          "Tanglewood",
          "Tenderloin",
          "The Drag",
          "Topton",
          "Townes at Everett Crossing",
          "Tribeca",
          "University District",
          "Unknown Location",
          "Wake Co.",
          "Wake Forest",
          "Washington",
          "Washington Avenue",
          "Waverly Place",
          "Wayne Ridge",
          "West Berkeley",
          "West End",
          "West Palm Beach",
          "West University",
          "Westpark Place",
          "Whitebridge",
          "Winston Salem"
         ],
         "labels": [
          "Agnew",
          "Agnew",
          "Alief",
          "Almond",
          "Apex",
          "Apex",
          "Arabi",
          "Arlington",
          "Arlington Park at Amberly",
          "Arts District",
          "Asheville",
          "Asheville",
          "Banner Elk",
          "Banner Elk",
          "Banner Elk",
          "Bay Farm Island",
          "Bellevue",
          "Berkeley",
          "Berkeley",
          "Berkeley",
          "Berkeley",
          "Berkeley",
          "Berkeley",
          "Berkeley",
          "Boone",
          "Boone",
          "Briar Meadow",
          "Bryson City",
          "Bryson City",
          "Burtrose",
          "Burtrose",
          "Bywater",
          "CBD",
          "CBD",
          "Capitol One",
          "Capitol One",
          "Cary",
          "Cary",
          "Cary",
          "Cary",
          "Cary",
          "Cary",
          "Cary",
          "Cary",
          "Cary",
          "Cary",
          "Cary",
          "Cary",
          "Cedar Hill",
          "Central",
          "Central",
          "Central",
          "Central",
          "Chalmette",
          "Chapel Hill",
          "Chessington",
          "Chessington",
          "College Avenue",
          "Colombo",
          "Columbia Heights",
          "Congress Ave District",
          "Congress Ave District",
          "Convention Center District",
          "Cory",
          "Covington",
          "Coxville",
          "Daytona Beach",
          "Depot Historic District",
          "Downtown",
          "Downtown",
          "Downtown",
          "Downtown",
          "Downtown",
          "Downtown",
          "Downtown",
          "Durham",
          "Eagle Rock",
          "East Elmhurst",
          "East Harlem",
          "Edgehill Farms",
          "Edgehill Farms",
          "Edgehill Farms",
          "El Cerrito",
          "Elk Park",
          "Emeryville",
          "Emeryville",
          "Emeryville",
          "Emeryville",
          "Farmington Woods",
          "Faubourg Marigny",
          "Financial District",
          "Florence",
          "French Quarter",
          "Fuquay-Varina",
          "Galveston",
          "Galveston",
          "Gampaha",
          "Gramercy-Flatiron",
          "Greater Greenspoint",
          "Gulfton",
          "Harden Place",
          "Hayesville",
          "Hazelwood",
          "Hazelwood",
          "Hell's Kitchen",
          "Heritage Pines",
          "Hog Island",
          "Holly Springs",
          "Holly Springs",
          "Houston",
          "Houston",
          "Houston",
          "Hudson Square",
          "Hudson Square",
          "Ilukwatta",
          "Ingleside",
          "Islamabad",
          "Islamabad",
          "Islamabad",
          "Islamabad",
          "Isles of Buena Vista",
          "Jackson Heights",
          "Jacksonville",
          "Jacksonville",
          "Jamaica",
          "Jamaica",
          "Jamestown Court",
          "K Street",
          "Kalorama Triangle",
          "Kalorama Triangle",
          "Kalorama Triangle",
          "Kar?chi",
          "Katunayaka",
          "Katy",
          "Kenner",
          "Kenner",
          "Kilarney Woods",
          "Kildaire Farms",
          "Kildaire Farms",
          "Kips Bay",
          "Kissimmee",
          "Kissimmee",
          "Lahore",
          "Lake Wellingborough",
          "Lakeview",
          "Latta",
          "Leesville Hollow",
          "Lexington Park at Amberly",
          "Lexington Park at Amberly",
          "Lexington Park at Amberly",
          "Long Island City",
          "Lower Garden District",
          "Lower Manhattan",
          "Macgregor Downs",
          "Macgregor Downs",
          "Mandeville",
          "Marigny",
          "Mcvan",
          "Mebane",
          "Menlo Park",
          "Menlo Park",
          "Menlo Park",
          "Meredith Townes",
          "Meredith Townes",
          "Metairie",
          "Metairie",
          "Metairie",
          "Metairie",
          "Midtown",
          "Midtown",
          "Midtown",
          "Midtown",
          "Midtown",
          "Midtown",
          "Midtown",
          "Midtown East",
          "Midtown West",
          "Morrisville",
          "Morrisville",
          "Morrisville",
          "Morrisville",
          "Morrisville",
          "Morrisville",
          "Mountain View",
          "New Orleans",
          "New Orleans",
          "New York",
          "New York",
          "New York",
          "Newark",
          "Newark",
          "Newland",
          "NoMad",
          "Noorpur Shahan",
          "Noorpur Shahan",
          "North Austin",
          "North Austin",
          "North Berkeley Hills",
          "Northwest Rectangle",
          "Northwoods",
          "Nugegoda",
          "Oakland",
          "Oakland",
          "Oakland",
          "Orlando",
          "Palm Beach",
          "Palo Alto",
          "Palo Alto",
          "Parkway",
          "Parkway",
          "Parkway",
          "Parkway Museums",
          "Pontchartrain Beach",
          "Port Bolivar",
          "Potrero Flats",
          "Preston",
          "Preston",
          "Preston",
          "Preston",
          "Queens",
          "Queens County",
          "R?walpindi",
          "R?walpindi",
          "Raleigh",
          "Raleigh",
          "Rawalpindi",
          "Rawalpindi",
          "Red River District",
          "Redmond",
          "Renaissance",
          "Ridgeland",
          "SOMISSPO",
          "San Francisco",
          "San Francisco",
          "San Francisco",
          "San Francisco",
          "San Jose",
          "Sand Lake Commons",
          "Santa Clara",
          "Savon Height",
          "Seattle",
          "Sharpstown",
          "Sky Lake",
          "Soho",
          "South",
          "South",
          "South Berkeley",
          "South Congress",
          "South Congress",
          "Southside",
          "Southside",
          "Southside",
          "Southside",
          "Southwest Berkeley",
          "St Thomas",
          "Stonewater",
          "Storyville",
          "Storyville",
          "Sugar Land",
          "Summerwinds",
          "Sunnyside",
          "Sunnyvale",
          "Tanglewood",
          "Tanglewood",
          "Tenderloin",
          "The Drag",
          "The Drag",
          "The Drag",
          "The Drag",
          "Topton",
          "Topton",
          "Tribeca",
          "Tudor City",
          "Umstead",
          "University District",
          "Unknown Location",
          "Unknown Location",
          "Unknown Location",
          "Unknown Location",
          "Unknown Location",
          "Unknown Location",
          "Unknown Location",
          "Unknown Location",
          "Unknown Location",
          "Unknown Location",
          "Unknown Location",
          "Vista East",
          "Wake Co.",
          "Wake Forest",
          "Walnut Terrace",
          "Washington",
          "Washington Avenue",
          "Waverly Place",
          "Wayne Ridge",
          "West Berkeley",
          "West Berkeley",
          "West Berkeley",
          "West Palm Beach",
          "West University",
          "West University",
          "Weston",
          "Weston",
          "Westpark Place",
          "Westpark Place",
          "Westpark Place",
          "Whitebridge",
          "Whitebridge",
          "Whitebridge",
          "Whitebridge",
          "Whitebridge",
          "Whitebridge",
          "Whitebridge",
          "Whitebridge",
          "Whitebridge",
          "Whitebridge",
          "Whitebridge",
          "Whitebridge",
          "Whitebridge",
          "Whitebridge",
          "Whitebridge",
          "Whitebridge",
          "Whitebridge",
          "Whitebridge",
          "Whitebridge",
          "Williamsburg Manor",
          "Winston Salem",
          "Agnew",
          "Almond",
          "Apex",
          "Arabi",
          "Arlington",
          "Arlington Park at Amberly",
          "Asheville",
          "Austin",
          "Banner Elk",
          "Bellevue",
          "Berkeley",
          "Boone",
          "Briar Meadow",
          "Bryson City",
          "Burtrose",
          "CBD",
          "Capitol One",
          "Cary",
          "Central",
          "Chalmette",
          "Chapel Hill",
          "Chessington",
          "College Avenue",
          "Colombo",
          "Columbia Heights",
          "Congress Ave District",
          "Connecticut Avenue",
          "Convention Center District",
          "Cory",
          "Couples Glen",
          "Covington",
          "Coxville",
          "Daytona Beach",
          "Downtown",
          "Durham",
          "Eagan Park",
          "Eagle Rock",
          "East Austin",
          "East Elmhurst",
          "East Harlem",
          "Eastgate",
          "Edgehill Farms",
          "El Cerrito",
          "Elk Park",
          "Elmhurst",
          "Emeryville",
          "Fairmont",
          "Farmington Woods",
          "Fayetteville Street",
          "Financial District",
          "Flatiron District",
          "Florence",
          "Fort Pierce",
          "Fuquay-Varina",
          "Galveston",
          "Gampaha",
          "Georgian Acres",
          "Gulfton",
          "Hayesville",
          "Hazelwood",
          "Hell's Kitchen",
          "Heritage Pines",
          "Holly Springs",
          "Houston",
          "Hudson Square",
          "Huntington Woods",
          "Ingleside",
          "Islamabad",
          "Jackson Heights",
          "Jacksonville",
          "Jamaica",
          "K Street",
          "Kalorama Triangle",
          "Kar?chi",
          "Karachi",
          "Katunayaka",
          "Katunayake",
          "Katy",
          "Kenner",
          "Kilarney Woods",
          "Kissimmee",
          "Krendle Woods",
          "Lahore",
          "Lake Wellingborough",
          "Lakeview",
          "Latta",
          "Lexington Park at Amberly",
          "Long Island City",
          "Lower Garden District",
          "Lower Manhattan",
          "Mandeville",
          "Marigny",
          "Mcvan",
          "Mebane",
          "Medical Centre",
          "Menlo Park",
          "Meredith",
          "Meredith Townes",
          "Metairie",
          "Midtown",
          "Midtown East",
          "Morrisville",
          "Mountain View",
          "NOMA",
          "New Orleans",
          "New York",
          "Newark",
          "Newland",
          "Noorpur Shahan",
          "North Austin",
          "North Berkeley Hills",
          "Northwoods",
          "Nugegoda",
          "Oakland",
          "Old City",
          "Orlando",
          "Palo Alto",
          "Parkway",
          "Pontchartrain Beach",
          "Port Bolivar",
          "Preston",
          "R?walpindi",
          "Raleigh",
          "Rawalpindi",
          "Red River District",
          "Redmond",
          "Renaissance",
          "Ridgeland",
          "Rose Hill",
          "SOMISSPO",
          "San Francisco",
          "San Jose",
          "Sand Lake Commons",
          "Santa Clara",
          "Savon Height",
          "Seaport",
          "Seattle",
          "Sharpstown",
          "Sky Lake",
          "Soho",
          "South",
          "South Berkeley",
          "South Congress",
          "Southside",
          "St Thomas",
          "Stonewater",
          "Storyville",
          "Sugar Land",
          "Summerwinds",
          "Sunnyside",
          "Sunnyvale",
          "Tanglewood",
          "Tenderloin",
          "The Drag",
          "Topton",
          "Townes at Everett Crossing",
          "Tribeca",
          "University District",
          "Unknown Location",
          "Wake Co.",
          "Wake Forest",
          "Washington",
          "Washington Avenue",
          "Waverly Place",
          "Wayne Ridge",
          "West Berkeley",
          "West End",
          "West Palm Beach",
          "West University",
          "Westpark Place",
          "Whitebridge",
          "Winston Salem"
         ],
         "name": "",
         "parents": [
          "Cory",
          "Renaissance",
          "Midtown",
          "Bryson City",
          "Cary",
          "Durham",
          "Chalmette",
          "Washington",
          "Whitebridge",
          "South Congress",
          "Bryson City",
          "Winston Salem",
          "Boone",
          "Elk Park",
          "Morrisville",
          "Downtown",
          "Redmond",
          "El Cerrito",
          "Emeryville",
          "Menlo Park",
          "Mountain View",
          "Oakland",
          "San Francisco",
          "Santa Clara",
          "Banner Elk",
          "Newland",
          "Sharpstown",
          "Almond",
          "Topton",
          "Edgehill Farms",
          "Whitebridge",
          "CBD",
          "Pontchartrain Beach",
          "St Thomas",
          "Mcvan",
          "University District",
          "Apex",
          "Boone",
          "Chapel Hill",
          "Durham",
          "Eagle Rock",
          "Florence",
          "Fuquay-Varina",
          "Holly Springs",
          "Mebane",
          "Morrisville",
          "Raleigh",
          "Wake Forest",
          "Meredith",
          "College Avenue",
          "Downtown",
          "Southside",
          "West Berkeley",
          "New Orleans",
          "Cary",
          "Townes at Everett Crossing",
          "Whitebridge",
          "Central",
          "Unknown Location",
          "Kalorama Triangle",
          "The Drag",
          "West University",
          "The Drag",
          "Agnew",
          "New Orleans",
          "North Austin",
          "Kissimmee",
          "Fayetteville Street",
          "Congress Ave District",
          "Gulfton",
          "Kalorama Triangle",
          "Midtown",
          "NOMA",
          "Red River District",
          "South",
          "Cary",
          "Apex",
          "Jackson Heights",
          "Midtown",
          "Farmington Woods",
          "Heritage Pines",
          "Whitebridge",
          "Berkeley",
          "Banner Elk",
          "Berkeley",
          "Oakland",
          "San Francisco",
          "San Jose",
          "Whitebridge",
          "Storyville",
          "Tribeca",
          "Ridgeland",
          "SOMISSPO",
          "Cary",
          "Houston",
          "Port Bolivar",
          "Katunayake",
          "Seaport",
          "Midtown",
          "Downtown",
          "Meredith Townes",
          "Topton",
          "Westpark Place",
          "Whitebridge",
          "Hudson Square",
          "Whitebridge",
          "Old City",
          "Apex",
          "Cary",
          "Galveston",
          "Katy",
          "Sugar Land",
          "Lower Manhattan",
          "Midtown",
          "Gampaha",
          "Sunnyside",
          "Noorpur Shahan",
          "R?walpindi",
          "Rawalpindi",
          "Unknown Location",
          "Couples Glen",
          "East Elmhurst",
          "Daytona Beach",
          "Latta",
          "Long Island City",
          "New York",
          "Eagan Park",
          "Kalorama Triangle",
          "Columbia Heights",
          "Connecticut Avenue",
          "K Street",
          "Unknown Location",
          "Colombo",
          "Austin",
          "Metairie",
          "New Orleans",
          "Savon Height",
          "Kilarney Woods",
          "Whitebridge",
          "Financial District",
          "Jacksonville",
          "Orlando",
          "Unknown Location",
          "Whitebridge",
          "Lower Garden District",
          "Cary",
          "Meredith Townes",
          "Arlington Park at Amberly",
          "Hazelwood",
          "Stonewater",
          "New York",
          "CBD",
          "Hudson Square",
          "Waverly Place",
          "Whitebridge",
          "Covington",
          "Storyville",
          "Capitol One",
          "Asheville",
          "Berkeley",
          "Newark",
          "Palo Alto",
          "Fairmont",
          "Fayetteville Street",
          "Arabi",
          "Kenner",
          "Mandeville",
          "New Orleans",
          "Briar Meadow",
          "Downtown",
          "Flatiron District",
          "Hell's Kitchen",
          "Midtown East",
          "Sharpstown",
          "Washington Avenue",
          "Midtown",
          "Midtown",
          "Cary",
          "Chapel Hill",
          "Durham",
          "Raleigh",
          "Unknown Location",
          "Wake Co.",
          "Berkeley",
          "Kenner",
          "Metairie",
          "East Elmhurst",
          "Elmhurst",
          "Jamaica",
          "Menlo Park",
          "Sunnyvale",
          "Banner Elk",
          "East Harlem",
          "Islamabad",
          "Unknown Location",
          "South Congress",
          "The Drag",
          "West Berkeley",
          "West End",
          "Whitebridge",
          "Colombo",
          "Berkeley",
          "Emeryville",
          "San Francisco",
          "Kissimmee",
          "West Palm Beach",
          "Menlo Park",
          "San Francisco",
          "Savon Height",
          "Tanglewood",
          "Whitebridge",
          "Old City",
          "CBD",
          "Galveston",
          "Ingleside",
          "Edgehill Farms",
          "Northwoods",
          "Tanglewood",
          "Whitebridge",
          "New York",
          "New York",
          "Islamabad",
          "Unknown Location",
          "Cary",
          "Morrisville",
          "Islamabad",
          "Unknown Location",
          "Downtown",
          "Seattle",
          "Agnew",
          "Jacksonville",
          "Tenderloin",
          "Berkeley",
          "Emeryville",
          "Newark",
          "Oakland",
          "Berkeley",
          "Sky Lake",
          "San Jose",
          "Whitebridge",
          "Bellevue",
          "Midtown",
          "Sand Lake Commons",
          "Rose Hill",
          "Central",
          "West Berkeley",
          "Southside",
          "The Drag",
          "West University",
          "Central",
          "North Berkeley Hills",
          "South Berkeley",
          "West Berkeley",
          "South",
          "CBD",
          "Whitebridge",
          "Lakeview",
          "Marigny",
          "Houston",
          "Whitebridge",
          "Downtown",
          "Palo Alto",
          "Northwoods",
          "Whitebridge",
          "SOMISSPO",
          "Coxville",
          "Downtown",
          "Georgian Acres",
          "South Congress",
          "Asheville",
          "Hayesville",
          "Soho",
          "Medical Centre",
          "Fayetteville Street",
          "Capitol One",
          "Cary",
          "Islamabad",
          "Kar?chi",
          "Karachi",
          "Katunayaka",
          "Lahore",
          "Noorpur Shahan",
          "Nugegoda",
          "Oakland",
          "R?walpindi",
          "Rawalpindi",
          "Couples Glen",
          "Cary",
          "Cary",
          "Eastgate",
          "Arlington",
          "Midtown",
          "Whitebridge",
          "Whitebridge",
          "Central",
          "Downtown",
          "Southside",
          "Fort Pierce",
          "Convention Center District",
          "East Austin",
          "Hazelwood",
          "Huntington Woods",
          "Lexington Park at Amberly",
          "Preston",
          "Whitebridge",
          "Burtrose",
          "Chessington",
          "Edgehill Farms",
          "Farmington Woods",
          "Hazelwood",
          "Heritage Pines",
          "Kilarney Woods",
          "Krendle Woods",
          "Lake Wellingborough",
          "Lexington Park at Amberly",
          "Northwoods",
          "Parkway",
          "Preston",
          "Savon Height",
          "Summerwinds",
          "Tanglewood",
          "Waverly Place",
          "Wayne Ridge",
          "Westpark Place",
          "Whitebridge",
          "Cary",
          "",
          "",
          "",
          "",
          "",
          "",
          "",
          "",
          "",
          "",
          "",
          "",
          "",
          "",
          "",
          "",
          "",
          "",
          "",
          "",
          "",
          "",
          "",
          "",
          "",
          "",
          "",
          "",
          "",
          "",
          "",
          "",
          "",
          "",
          "",
          "",
          "",
          "",
          "",
          "",
          "",
          "",
          "",
          "",
          "",
          "",
          "",
          "",
          "",
          "",
          "",
          "",
          "",
          "",
          "",
          "",
          "",
          "",
          "",
          "",
          "",
          "",
          "",
          "",
          "",
          "",
          "",
          "",
          "",
          "",
          "",
          "",
          "",
          "",
          "",
          "",
          "",
          "",
          "",
          "",
          "",
          "",
          "",
          "",
          "",
          "",
          "",
          "",
          "",
          "",
          "",
          "",
          "",
          "",
          "",
          "",
          "",
          "",
          "",
          "",
          "",
          "",
          "",
          "",
          "",
          "",
          "",
          "",
          "",
          "",
          "",
          "",
          "",
          "",
          "",
          "",
          "",
          "",
          "",
          "",
          "",
          "",
          "",
          "",
          "",
          "",
          "",
          "",
          "",
          "",
          "",
          "",
          "",
          "",
          "",
          "",
          "",
          "",
          "",
          "",
          "",
          "",
          "",
          "",
          "",
          "",
          "",
          "",
          "",
          "",
          "",
          "",
          "",
          "",
          "",
          "",
          "",
          "",
          "",
          "",
          "",
          "",
          "",
          "",
          "",
          "",
          "",
          "",
          "",
          "",
          "",
          ""
         ],
         "type": "sunburst",
         "values": [
          1,
          2,
          1,
          1,
          14,
          1,
          1,
          1,
          1,
          1,
          1,
          1,
          1,
          1,
          1,
          1,
          1,
          1,
          6,
          1,
          1,
          2,
          4,
          1,
          1,
          1,
          1,
          1,
          1,
          1,
          1,
          1,
          1,
          1,
          1,
          1,
          13,
          1,
          1,
          31,
          1,
          1,
          1,
          2,
          1,
          75,
          21,
          1,
          1,
          1,
          1,
          2,
          2,
          1,
          1,
          1,
          1,
          1,
          2,
          1,
          2,
          1,
          2,
          1,
          1,
          1,
          1,
          1,
          1,
          1,
          1,
          1,
          1,
          1,
          1,
          36,
          1,
          1,
          1,
          1,
          1,
          8,
          1,
          1,
          5,
          2,
          1,
          1,
          1,
          1,
          1,
          1,
          1,
          1,
          1,
          1,
          1,
          1,
          1,
          1,
          1,
          1,
          1,
          4,
          1,
          2,
          1,
          1,
          1,
          1,
          1,
          1,
          1,
          1,
          1,
          1,
          3,
          1,
          1,
          28,
          1,
          1,
          1,
          1,
          1,
          1,
          1,
          1,
          1,
          1,
          2,
          6,
          1,
          1,
          2,
          6,
          1,
          1,
          1,
          1,
          1,
          7,
          9,
          1,
          1,
          1,
          2,
          1,
          1,
          1,
          1,
          1,
          1,
          1,
          1,
          1,
          1,
          1,
          1,
          1,
          1,
          1,
          1,
          1,
          1,
          1,
          1,
          2,
          1,
          1,
          1,
          1,
          1,
          3,
          1,
          1,
          1,
          67,
          1,
          4,
          5,
          1,
          1,
          1,
          8,
          2,
          1,
          1,
          2,
          1,
          1,
          1,
          1,
          1,
          4,
          1,
          1,
          1,
          1,
          2,
          1,
          3,
          3,
          2,
          6,
          1,
          1,
          1,
          1,
          1,
          3,
          1,
          1,
          1,
          1,
          1,
          1,
          1,
          3,
          1,
          1,
          2,
          9,
          23,
          4,
          1,
          3,
          1,
          1,
          2,
          1,
          1,
          4,
          1,
          1,
          2,
          1,
          1,
          1,
          3,
          1,
          4,
          1,
          1,
          1,
          1,
          1,
          2,
          1,
          2,
          1,
          1,
          1,
          1,
          1,
          1,
          1,
          1,
          1,
          1,
          1,
          1,
          1,
          3,
          1,
          1,
          2,
          1,
          3,
          1,
          1,
          1,
          1,
          1,
          1,
          1,
          28,
          7,
          2,
          1,
          9,
          2,
          1,
          1,
          8,
          3,
          1,
          1,
          1,
          1,
          1,
          1,
          5,
          4,
          1,
          1,
          1,
          1,
          1,
          1,
          1,
          2,
          1,
          1,
          14,
          1,
          1,
          6,
          1,
          5,
          1,
          1,
          1,
          1,
          1,
          1,
          5,
          5,
          2,
          1,
          2,
          3,
          4,
          16,
          1,
          1,
          3,
          1,
          15,
          1,
          1,
          1,
          2,
          1,
          3,
          1,
          16,
          2,
          1,
          2,
          1,
          4,
          2,
          148,
          5,
          1,
          2,
          1,
          1,
          2,
          1,
          1,
          1,
          1,
          1,
          2,
          1,
          1,
          1,
          9,
          36,
          1,
          1,
          1,
          2,
          1,
          1,
          8,
          1,
          1,
          1,
          10,
          1,
          2,
          3,
          1,
          1,
          1,
          1,
          1,
          2,
          1,
          1,
          1,
          1,
          7,
          1,
          2,
          2,
          2,
          2,
          2,
          1,
          32,
          1,
          2,
          2,
          2,
          3,
          7,
          2,
          1,
          1,
          1,
          9,
          2,
          7,
          1,
          9,
          1,
          1,
          1,
          2,
          1,
          1,
          1,
          1,
          1,
          1,
          1,
          1,
          3,
          1,
          3,
          4,
          12,
          1,
          80,
          1,
          1,
          10,
          4,
          2,
          1,
          5,
          1,
          1,
          3,
          1,
          7,
          2,
          7,
          2,
          5,
          1,
          1,
          6,
          9,
          26,
          4,
          1,
          1,
          2,
          1,
          1,
          2,
          8,
          2,
          1,
          1,
          4,
          1,
          1,
          4,
          1,
          1,
          2,
          1,
          5,
          4,
          1,
          1,
          2,
          1,
          1,
          1,
          1,
          4,
          1,
          7,
          2,
          1,
          1,
          1,
          62,
          1,
          1,
          1,
          1,
          4,
          4,
          5,
          1,
          1,
          2,
          17,
          61,
          1
         ]
        }
       ],
       "layout": {
        "legend": {
         "tracegroupgap": 0
        },
        "template": {
         "data": {
          "bar": [
           {
            "error_x": {
             "color": "#2a3f5f"
            },
            "error_y": {
             "color": "#2a3f5f"
            },
            "marker": {
             "line": {
              "color": "#E5ECF6",
              "width": 0.5
             }
            },
            "type": "bar"
           }
          ],
          "barpolar": [
           {
            "marker": {
             "line": {
              "color": "#E5ECF6",
              "width": 0.5
             }
            },
            "type": "barpolar"
           }
          ],
          "carpet": [
           {
            "aaxis": {
             "endlinecolor": "#2a3f5f",
             "gridcolor": "white",
             "linecolor": "white",
             "minorgridcolor": "white",
             "startlinecolor": "#2a3f5f"
            },
            "baxis": {
             "endlinecolor": "#2a3f5f",
             "gridcolor": "white",
             "linecolor": "white",
             "minorgridcolor": "white",
             "startlinecolor": "#2a3f5f"
            },
            "type": "carpet"
           }
          ],
          "choropleth": [
           {
            "colorbar": {
             "outlinewidth": 0,
             "ticks": ""
            },
            "type": "choropleth"
           }
          ],
          "contour": [
           {
            "colorbar": {
             "outlinewidth": 0,
             "ticks": ""
            },
            "colorscale": [
             [
              0,
              "#0d0887"
             ],
             [
              0.1111111111111111,
              "#46039f"
             ],
             [
              0.2222222222222222,
              "#7201a8"
             ],
             [
              0.3333333333333333,
              "#9c179e"
             ],
             [
              0.4444444444444444,
              "#bd3786"
             ],
             [
              0.5555555555555556,
              "#d8576b"
             ],
             [
              0.6666666666666666,
              "#ed7953"
             ],
             [
              0.7777777777777778,
              "#fb9f3a"
             ],
             [
              0.8888888888888888,
              "#fdca26"
             ],
             [
              1,
              "#f0f921"
             ]
            ],
            "type": "contour"
           }
          ],
          "contourcarpet": [
           {
            "colorbar": {
             "outlinewidth": 0,
             "ticks": ""
            },
            "type": "contourcarpet"
           }
          ],
          "heatmap": [
           {
            "colorbar": {
             "outlinewidth": 0,
             "ticks": ""
            },
            "colorscale": [
             [
              0,
              "#0d0887"
             ],
             [
              0.1111111111111111,
              "#46039f"
             ],
             [
              0.2222222222222222,
              "#7201a8"
             ],
             [
              0.3333333333333333,
              "#9c179e"
             ],
             [
              0.4444444444444444,
              "#bd3786"
             ],
             [
              0.5555555555555556,
              "#d8576b"
             ],
             [
              0.6666666666666666,
              "#ed7953"
             ],
             [
              0.7777777777777778,
              "#fb9f3a"
             ],
             [
              0.8888888888888888,
              "#fdca26"
             ],
             [
              1,
              "#f0f921"
             ]
            ],
            "type": "heatmap"
           }
          ],
          "heatmapgl": [
           {
            "colorbar": {
             "outlinewidth": 0,
             "ticks": ""
            },
            "colorscale": [
             [
              0,
              "#0d0887"
             ],
             [
              0.1111111111111111,
              "#46039f"
             ],
             [
              0.2222222222222222,
              "#7201a8"
             ],
             [
              0.3333333333333333,
              "#9c179e"
             ],
             [
              0.4444444444444444,
              "#bd3786"
             ],
             [
              0.5555555555555556,
              "#d8576b"
             ],
             [
              0.6666666666666666,
              "#ed7953"
             ],
             [
              0.7777777777777778,
              "#fb9f3a"
             ],
             [
              0.8888888888888888,
              "#fdca26"
             ],
             [
              1,
              "#f0f921"
             ]
            ],
            "type": "heatmapgl"
           }
          ],
          "histogram": [
           {
            "marker": {
             "colorbar": {
              "outlinewidth": 0,
              "ticks": ""
             }
            },
            "type": "histogram"
           }
          ],
          "histogram2d": [
           {
            "colorbar": {
             "outlinewidth": 0,
             "ticks": ""
            },
            "colorscale": [
             [
              0,
              "#0d0887"
             ],
             [
              0.1111111111111111,
              "#46039f"
             ],
             [
              0.2222222222222222,
              "#7201a8"
             ],
             [
              0.3333333333333333,
              "#9c179e"
             ],
             [
              0.4444444444444444,
              "#bd3786"
             ],
             [
              0.5555555555555556,
              "#d8576b"
             ],
             [
              0.6666666666666666,
              "#ed7953"
             ],
             [
              0.7777777777777778,
              "#fb9f3a"
             ],
             [
              0.8888888888888888,
              "#fdca26"
             ],
             [
              1,
              "#f0f921"
             ]
            ],
            "type": "histogram2d"
           }
          ],
          "histogram2dcontour": [
           {
            "colorbar": {
             "outlinewidth": 0,
             "ticks": ""
            },
            "colorscale": [
             [
              0,
              "#0d0887"
             ],
             [
              0.1111111111111111,
              "#46039f"
             ],
             [
              0.2222222222222222,
              "#7201a8"
             ],
             [
              0.3333333333333333,
              "#9c179e"
             ],
             [
              0.4444444444444444,
              "#bd3786"
             ],
             [
              0.5555555555555556,
              "#d8576b"
             ],
             [
              0.6666666666666666,
              "#ed7953"
             ],
             [
              0.7777777777777778,
              "#fb9f3a"
             ],
             [
              0.8888888888888888,
              "#fdca26"
             ],
             [
              1,
              "#f0f921"
             ]
            ],
            "type": "histogram2dcontour"
           }
          ],
          "mesh3d": [
           {
            "colorbar": {
             "outlinewidth": 0,
             "ticks": ""
            },
            "type": "mesh3d"
           }
          ],
          "parcoords": [
           {
            "line": {
             "colorbar": {
              "outlinewidth": 0,
              "ticks": ""
             }
            },
            "type": "parcoords"
           }
          ],
          "pie": [
           {
            "automargin": true,
            "type": "pie"
           }
          ],
          "scatter": [
           {
            "marker": {
             "colorbar": {
              "outlinewidth": 0,
              "ticks": ""
             }
            },
            "type": "scatter"
           }
          ],
          "scatter3d": [
           {
            "line": {
             "colorbar": {
              "outlinewidth": 0,
              "ticks": ""
             }
            },
            "marker": {
             "colorbar": {
              "outlinewidth": 0,
              "ticks": ""
             }
            },
            "type": "scatter3d"
           }
          ],
          "scattercarpet": [
           {
            "marker": {
             "colorbar": {
              "outlinewidth": 0,
              "ticks": ""
             }
            },
            "type": "scattercarpet"
           }
          ],
          "scattergeo": [
           {
            "marker": {
             "colorbar": {
              "outlinewidth": 0,
              "ticks": ""
             }
            },
            "type": "scattergeo"
           }
          ],
          "scattergl": [
           {
            "marker": {
             "colorbar": {
              "outlinewidth": 0,
              "ticks": ""
             }
            },
            "type": "scattergl"
           }
          ],
          "scattermapbox": [
           {
            "marker": {
             "colorbar": {
              "outlinewidth": 0,
              "ticks": ""
             }
            },
            "type": "scattermapbox"
           }
          ],
          "scatterpolar": [
           {
            "marker": {
             "colorbar": {
              "outlinewidth": 0,
              "ticks": ""
             }
            },
            "type": "scatterpolar"
           }
          ],
          "scatterpolargl": [
           {
            "marker": {
             "colorbar": {
              "outlinewidth": 0,
              "ticks": ""
             }
            },
            "type": "scatterpolargl"
           }
          ],
          "scatterternary": [
           {
            "marker": {
             "colorbar": {
              "outlinewidth": 0,
              "ticks": ""
             }
            },
            "type": "scatterternary"
           }
          ],
          "surface": [
           {
            "colorbar": {
             "outlinewidth": 0,
             "ticks": ""
            },
            "colorscale": [
             [
              0,
              "#0d0887"
             ],
             [
              0.1111111111111111,
              "#46039f"
             ],
             [
              0.2222222222222222,
              "#7201a8"
             ],
             [
              0.3333333333333333,
              "#9c179e"
             ],
             [
              0.4444444444444444,
              "#bd3786"
             ],
             [
              0.5555555555555556,
              "#d8576b"
             ],
             [
              0.6666666666666666,
              "#ed7953"
             ],
             [
              0.7777777777777778,
              "#fb9f3a"
             ],
             [
              0.8888888888888888,
              "#fdca26"
             ],
             [
              1,
              "#f0f921"
             ]
            ],
            "type": "surface"
           }
          ],
          "table": [
           {
            "cells": {
             "fill": {
              "color": "#EBF0F8"
             },
             "line": {
              "color": "white"
             }
            },
            "header": {
             "fill": {
              "color": "#C8D4E3"
             },
             "line": {
              "color": "white"
             }
            },
            "type": "table"
           }
          ]
         },
         "layout": {
          "annotationdefaults": {
           "arrowcolor": "#2a3f5f",
           "arrowhead": 0,
           "arrowwidth": 1
          },
          "autotypenumbers": "strict",
          "coloraxis": {
           "colorbar": {
            "outlinewidth": 0,
            "ticks": ""
           }
          },
          "colorscale": {
           "diverging": [
            [
             0,
             "#8e0152"
            ],
            [
             0.1,
             "#c51b7d"
            ],
            [
             0.2,
             "#de77ae"
            ],
            [
             0.3,
             "#f1b6da"
            ],
            [
             0.4,
             "#fde0ef"
            ],
            [
             0.5,
             "#f7f7f7"
            ],
            [
             0.6,
             "#e6f5d0"
            ],
            [
             0.7,
             "#b8e186"
            ],
            [
             0.8,
             "#7fbc41"
            ],
            [
             0.9,
             "#4d9221"
            ],
            [
             1,
             "#276419"
            ]
           ],
           "sequential": [
            [
             0,
             "#0d0887"
            ],
            [
             0.1111111111111111,
             "#46039f"
            ],
            [
             0.2222222222222222,
             "#7201a8"
            ],
            [
             0.3333333333333333,
             "#9c179e"
            ],
            [
             0.4444444444444444,
             "#bd3786"
            ],
            [
             0.5555555555555556,
             "#d8576b"
            ],
            [
             0.6666666666666666,
             "#ed7953"
            ],
            [
             0.7777777777777778,
             "#fb9f3a"
            ],
            [
             0.8888888888888888,
             "#fdca26"
            ],
            [
             1,
             "#f0f921"
            ]
           ],
           "sequentialminus": [
            [
             0,
             "#0d0887"
            ],
            [
             0.1111111111111111,
             "#46039f"
            ],
            [
             0.2222222222222222,
             "#7201a8"
            ],
            [
             0.3333333333333333,
             "#9c179e"
            ],
            [
             0.4444444444444444,
             "#bd3786"
            ],
            [
             0.5555555555555556,
             "#d8576b"
            ],
            [
             0.6666666666666666,
             "#ed7953"
            ],
            [
             0.7777777777777778,
             "#fb9f3a"
            ],
            [
             0.8888888888888888,
             "#fdca26"
            ],
            [
             1,
             "#f0f921"
            ]
           ]
          },
          "colorway": [
           "#636efa",
           "#EF553B",
           "#00cc96",
           "#ab63fa",
           "#FFA15A",
           "#19d3f3",
           "#FF6692",
           "#B6E880",
           "#FF97FF",
           "#FECB52"
          ],
          "font": {
           "color": "#2a3f5f"
          },
          "geo": {
           "bgcolor": "white",
           "lakecolor": "white",
           "landcolor": "#E5ECF6",
           "showlakes": true,
           "showland": true,
           "subunitcolor": "white"
          },
          "hoverlabel": {
           "align": "left"
          },
          "hovermode": "closest",
          "mapbox": {
           "style": "light"
          },
          "paper_bgcolor": "white",
          "plot_bgcolor": "#E5ECF6",
          "polar": {
           "angularaxis": {
            "gridcolor": "white",
            "linecolor": "white",
            "ticks": ""
           },
           "bgcolor": "#E5ECF6",
           "radialaxis": {
            "gridcolor": "white",
            "linecolor": "white",
            "ticks": ""
           }
          },
          "scene": {
           "xaxis": {
            "backgroundcolor": "#E5ECF6",
            "gridcolor": "white",
            "gridwidth": 2,
            "linecolor": "white",
            "showbackground": true,
            "ticks": "",
            "zerolinecolor": "white"
           },
           "yaxis": {
            "backgroundcolor": "#E5ECF6",
            "gridcolor": "white",
            "gridwidth": 2,
            "linecolor": "white",
            "showbackground": true,
            "ticks": "",
            "zerolinecolor": "white"
           },
           "zaxis": {
            "backgroundcolor": "#E5ECF6",
            "gridcolor": "white",
            "gridwidth": 2,
            "linecolor": "white",
            "showbackground": true,
            "ticks": "",
            "zerolinecolor": "white"
           }
          },
          "shapedefaults": {
           "line": {
            "color": "#2a3f5f"
           }
          },
          "ternary": {
           "aaxis": {
            "gridcolor": "white",
            "linecolor": "white",
            "ticks": ""
           },
           "baxis": {
            "gridcolor": "white",
            "linecolor": "white",
            "ticks": ""
           },
           "bgcolor": "#E5ECF6",
           "caxis": {
            "gridcolor": "white",
            "linecolor": "white",
            "ticks": ""
           }
          },
          "title": {
           "x": 0.05
          },
          "xaxis": {
           "automargin": true,
           "gridcolor": "white",
           "linecolor": "white",
           "ticks": "",
           "title": {
            "standoff": 15
           },
           "zerolinecolor": "white",
           "zerolinewidth": 2
          },
          "yaxis": {
           "automargin": true,
           "gridcolor": "white",
           "linecolor": "white",
           "ticks": "",
           "title": {
            "standoff": 15
           },
           "zerolinecolor": "white",
           "zerolinewidth": 2
          }
         }
        },
        "title": {
         "text": "Uber trips with different start and stop locations"
        }
       }
      }
     },
     "metadata": {},
     "output_type": "display_data"
    }
   ],
   "source": [
    "diff_dest = pd.DataFrame(data[data['START'] != data['STOP']]).reset_index(drop=True)\n",
    "fig = px.sunburst(diff_dest, path=['START', 'STOP'], title='Uber trips with different start and stop locations')\n",
    "fig.show()"
   ]
  },
  {
   "cell_type": "code",
   "execution_count": 163,
   "metadata": {},
   "outputs": [
    {
     "data": {
      "image/png": "[encoded data removed]",
      "text/plain": [
       "<Figure size 432x288 with 1 Axes>"
      ]
     },
     "metadata": {},
     "output_type": "display_data"
    },
    {
     "data": {
      "text/plain": [
       "<Figure size 432x288 with 0 Axes>"
      ]
     },
     "metadata": {},
     "output_type": "display_data"
    }
   ],
   "source": [
    "plt.pie([same_dest.shape[0], diff_dest.shape[0]], \n",
    "        labels=['Same Start and Stop', 'Different Start and Stop'], \n",
    "        autopct='%1.1f%%', \n",
    "        startangle=140)\n",
    "\n",
    "# add a circle at the center to transform it in a donut chart\n",
    "my_circle=plt.Circle( (0,0), 0.7, color='white')\n",
    "p=plt.gcf()\n",
    "p.gca().add_artist(my_circle)\n",
    "\n",
    "plt.figure(facecolor='white')\n",
    "plt.show()"
   ]
  }
 ],
 "metadata": {
  "kernelspec": {
   "display_name": "Python 3",
   "language": "python",
   "name": "python3"
  },
  "language_info": {
   "codemirror_mode": {
    "name": "ipython",
    "version": 3
   },
   "file_extension": ".py",
   "mimetype": "text/x-python",
   "name": "python",
   "nbconvert_exporter": "python",
   "pygments_lexer": "ipython3",
   "version": "3.9.1"
  }
 },
 "nbformat": 4,
 "nbformat_minor": 2
}
